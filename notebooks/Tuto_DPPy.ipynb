{
 "cells": [
  {
   "cell_type": "markdown",
   "metadata": {
    "toc": "true"
   },
   "source": [
    "# Table of Contents\n",
    " <p><div class=\"lev1 toc-item\"><a href=\"#DPPy-tutorial\" data-toc-modified-id=\"DPPy-tutorial-1\"><span class=\"toc-item-num\">1&nbsp;&nbsp;</span><a href=\"https://github.com/guilgautier/DPPy\" target=\"_blank\">DPPy</a> tutorial</a></div><div class=\"lev3 toc-item\"><a href=\"#First-used-for-tutorial-at-Groupe-de-Travail-DPPs,-10/29/2018---Painlevé,-Univ.-Lille-1\" data-toc-modified-id=\"First-used-for-tutorial-at-Groupe-de-Travail-DPPs,-10/29/2018---Painlevé,-Univ.-Lille-1-101\"><span class=\"toc-item-num\">1.0.1&nbsp;&nbsp;</span>First used for tutorial at Groupe de Travail DPPs, 10/29/2018 - Painlevé, Univ. Lille 1</a></div><div class=\"lev3 toc-item\"><a href=\"#Why-are-we-here-?\" data-toc-modified-id=\"Why-are-we-here-?-102\"><span class=\"toc-item-num\">1.0.2&nbsp;&nbsp;</span>Why are we here ?</a></div><div class=\"lev4 toc-item\"><a href=\"#DPPy\" data-toc-modified-id=\"DPPy-1021\"><span class=\"toc-item-num\">1.0.2.1&nbsp;&nbsp;</span>DPPy</a></div><div class=\"lev4 toc-item\"><a href=\"#Goal\" data-toc-modified-id=\"Goal-1022\"><span class=\"toc-item-num\">1.0.2.2&nbsp;&nbsp;</span>Goal</a></div><div class=\"lev2 toc-item\"><a href=\"#Program-of-the-day\" data-toc-modified-id=\"Program-of-the-day-11\"><span class=\"toc-item-num\">1.1&nbsp;&nbsp;</span>Program of the day</a></div><div class=\"lev2 toc-item\"><a href=\"#I.---Check-installation\" data-toc-modified-id=\"I.---Check-installation-12\"><span class=\"toc-item-num\">1.2&nbsp;&nbsp;</span>I.   Check installation</a></div><div class=\"lev2 toc-item\"><a href=\"#II.---Sample-DPPs-with-DPPy\" data-toc-modified-id=\"II.---Sample-DPPs-with-DPPy-13\"><span class=\"toc-item-num\">1.3&nbsp;&nbsp;</span>II.   Sample DPPs with DPPy</a></div><div class=\"lev2 toc-item\"><a href=\"#III.---Tools-behind-the-scene\" data-toc-modified-id=\"III.---Tools-behind-the-scene-14\"><span class=\"toc-item-num\">1.4&nbsp;&nbsp;</span>III.   Tools behind the scene</a></div><div class=\"lev2 toc-item\"><a href=\"#IV.---Suggestions/needs\" data-toc-modified-id=\"IV.---Suggestions/needs-15\"><span class=\"toc-item-num\">1.5&nbsp;&nbsp;</span>IV.   Suggestions/needs</a></div><div class=\"lev1 toc-item\"><a href=\"#I.-Check-installation\" data-toc-modified-id=\"I.-Check-installation-2\"><span class=\"toc-item-num\">2&nbsp;&nbsp;</span>I. Check installation</a></div><div class=\"lev4 toc-item\"><a href=\"#Instructions\" data-toc-modified-id=\"Instructions-2001\"><span class=\"toc-item-num\">2.0.0.1&nbsp;&nbsp;</span><a href=\"https://github.com/guilgautier/DPPy#installation\" target=\"_blank\">Instructions</a></a></div><div class=\"lev3 toc-item\"><a href=\"#Any-issue?\" data-toc-modified-id=\"Any-issue?-201\"><span class=\"toc-item-num\">2.0.1&nbsp;&nbsp;</span>Any issue?</a></div><div class=\"lev3 toc-item\"><a href=\"#Ready?\" data-toc-modified-id=\"Ready?-202\"><span class=\"toc-item-num\">2.0.2&nbsp;&nbsp;</span>Ready?</a></div><div class=\"lev1 toc-item\"><a href=\"#💣-To-interact-with-source-code,-please-uncomment-the-following-cell\" data-toc-modified-id=\"💣-To-interact-with-source-code,-please-uncomment-the-following-cell-3\"><span class=\"toc-item-num\">3&nbsp;&nbsp;</span>💣 To interact with source code, please uncomment the following cell</a></div><div class=\"lev1 toc-item\"><a href=\"#II.-Sample-DPPs-with-DPPy\" data-toc-modified-id=\"II.-Sample-DPPs-with-DPPy-4\"><span class=\"toc-item-num\">4&nbsp;&nbsp;</span>II. Sample DPPs with DPPy</a></div><div class=\"lev2 toc-item\"><a href=\"#1.-Continuous-DPPs:-$\\beta$-Ensembles\" data-toc-modified-id=\"1.-Continuous-DPPs:-$\\beta$-Ensembles-41\"><span class=\"toc-item-num\">4.1&nbsp;&nbsp;</span>1. Continuous DPPs: <span class=\"MathJax_Preview\" style=\"color: inherit;\"><span class=\"MJXp-math\" id=\"MJXp-Span-1\"><span class=\"MJXp-mi MJXp-italic\" id=\"MJXp-Span-2\">β</span></span></span><script type=\"math/tex\" id=\"MathJax-Element-1\">\\beta</script>-Ensembles</a></div><div class=\"lev2 toc-item\"><a href=\"#2.-Finite-DPPs\" data-toc-modified-id=\"2.-Finite-DPPs-42\"><span class=\"toc-item-num\">4.2&nbsp;&nbsp;</span>2. Finite DPPs</a></div><div class=\"lev2 toc-item\"><a href=\"#3.-Exotic-DPPs\" data-toc-modified-id=\"3.-Exotic-DPPs-43\"><span class=\"toc-item-num\">4.3&nbsp;&nbsp;</span>3. Exotic DPPs</a></div><div class=\"lev2 toc-item\"><a href=\"#Main-DPPy-objects'-methods\" data-toc-modified-id=\"Main-DPPy-objects'-methods-44\"><span class=\"toc-item-num\">4.4&nbsp;&nbsp;</span>Main DPPy objects' methods</a></div><div class=\"lev4 toc-item\"><a href=\"#.sample()\" data-toc-modified-id=\".sample()-4401\"><span class=\"toc-item-num\">4.4.0.1&nbsp;&nbsp;</span><code>.sample()</code></a></div><div class=\"lev4 toc-item\"><a href=\"#.plot()\" data-toc-modified-id=\".plot()-4402\"><span class=\"toc-item-num\">4.4.0.2&nbsp;&nbsp;</span><code>.plot()</code></a></div><div class=\"lev2 toc-item\"><a href=\"#II.-1.-Continuous-DPPs:-$\\beta$-Ensembles\" data-toc-modified-id=\"II.-1.-Continuous-DPPs:-$\\beta$-Ensembles-45\"><span class=\"toc-item-num\">4.5&nbsp;&nbsp;</span>II. 1. Continuous DPPs: <span class=\"MathJax_Preview\" style=\"color: inherit;\"><span class=\"MJXp-math\" id=\"MJXp-Span-3\"><span class=\"MJXp-mi MJXp-italic\" id=\"MJXp-Span-4\">β</span></span></span><script type=\"math/tex\" id=\"MathJax-Element-2\">\\beta</script>-Ensembles</a></div><div class=\"lev3 toc-item\"><a href=\"#See-documentation\" data-toc-modified-id=\"See-documentation-451\"><span class=\"toc-item-num\">4.5.1&nbsp;&nbsp;</span>See <a href=\"https://dppy.readthedocs.io/en/latest/continuous_dpps/index.html\" target=\"_blank\">documentation</a></a></div><div class=\"lev3 toc-item\"><a href=\"#d.-Circular\" data-toc-modified-id=\"d.-Circular-452\"><span class=\"toc-item-num\">4.5.2&nbsp;&nbsp;</span>d. Circular</a></div><div class=\"lev4 toc-item\"><a href=\"#Visualization-of-the-cristallization-as-$\\beta\\in-\\mathbb{N}^*$-increases\" data-toc-modified-id=\"Visualization-of-the-cristallization-as-$\\beta\\in-\\mathbb{N}^*$-increases-4521\"><span class=\"toc-item-num\">4.5.2.1&nbsp;&nbsp;</span>Visualization of the cristallization as <span class=\"MathJax_Preview\" style=\"color: inherit;\"><span class=\"MJXp-math\" id=\"MJXp-Span-62\"><span class=\"MJXp-mi MJXp-italic\" id=\"MJXp-Span-63\">β</span><span class=\"MJXp-mo\" id=\"MJXp-Span-64\" style=\"margin-left: 0.333em; margin-right: 0.333em;\">∈</span><span class=\"MJXp-msubsup\" id=\"MJXp-Span-65\"><span class=\"MJXp-mrow\" id=\"MJXp-Span-66\" style=\"margin-right: 0.05em;\"><span class=\"MJXp-mi undefined\" id=\"MJXp-Span-67\">N</span></span><span class=\"MJXp-mo MJXp-script\" id=\"MJXp-Span-68\" style=\"vertical-align: 0.5em;\">∗</span></span></span></span><script type=\"math/tex\" id=\"MathJax-Element-5\">\\beta\\in \\mathbb{N}^*</script> increases</a></div><div class=\"lev4 toc-item\"><a href=\"#Sample-using-full-matrix-model,-$\\beta-\\in-\\{0,-1,-2,-4\\}$\" data-toc-modified-id=\"Sample-using-full-matrix-model,-$\\beta-\\in-\\{0,-1,-2,-4\\}$-4522\"><span class=\"toc-item-num\">4.5.2.2&nbsp;&nbsp;</span>Sample using full matrix model, <span class=\"MathJax_Preview\" style=\"color: inherit;\"><span class=\"MJXp-math\" id=\"MJXp-Span-69\"><span class=\"MJXp-mi MJXp-italic\" id=\"MJXp-Span-70\">β</span><span class=\"MJXp-mo\" id=\"MJXp-Span-71\" style=\"margin-left: 0.333em; margin-right: 0.333em;\">∈</span><span class=\"MJXp-mo\" id=\"MJXp-Span-72\" style=\"margin-left: 0em; margin-right: 0em;\">{</span><span class=\"MJXp-mn\" id=\"MJXp-Span-73\">0</span><span class=\"MJXp-mo\" id=\"MJXp-Span-74\" style=\"margin-left: 0em; margin-right: 0.222em;\">,</span><span class=\"MJXp-mn\" id=\"MJXp-Span-75\">1</span><span class=\"MJXp-mo\" id=\"MJXp-Span-76\" style=\"margin-left: 0em; margin-right: 0.222em;\">,</span><span class=\"MJXp-mn\" id=\"MJXp-Span-77\">2</span><span class=\"MJXp-mo\" id=\"MJXp-Span-78\" style=\"margin-left: 0em; margin-right: 0.222em;\">,</span><span class=\"MJXp-mn\" id=\"MJXp-Span-79\">4</span><span class=\"MJXp-mo\" id=\"MJXp-Span-80\" style=\"margin-left: 0em; margin-right: 0em;\">}</span></span></span><script type=\"math/tex\" id=\"MathJax-Element-6\">\\beta \\in \\{0, 1, 2, 4\\}</script></a></div><div class=\"lev4 toc-item\"><a href=\"#Sample-using-banded-(quindiagonal)-matrix-model,-$\\beta-\\in-\\mathbb{N}^*$\" data-toc-modified-id=\"Sample-using-banded-(quindiagonal)-matrix-model,-$\\beta-\\in-\\mathbb{N}^*$-4523\"><span class=\"toc-item-num\">4.5.2.3&nbsp;&nbsp;</span>Sample using banded (quindiagonal) matrix model, <span class=\"MathJax_Preview\" style=\"color: inherit;\"><span class=\"MJXp-math\" id=\"MJXp-Span-81\"><span class=\"MJXp-mi MJXp-italic\" id=\"MJXp-Span-82\">β</span><span class=\"MJXp-mo\" id=\"MJXp-Span-83\" style=\"margin-left: 0.333em; margin-right: 0.333em;\">∈</span><span class=\"MJXp-msubsup\" id=\"MJXp-Span-84\"><span class=\"MJXp-mrow\" id=\"MJXp-Span-85\" style=\"margin-right: 0.05em;\"><span class=\"MJXp-mi undefined\" id=\"MJXp-Span-86\">N</span></span><span class=\"MJXp-mo MJXp-script\" id=\"MJXp-Span-87\" style=\"vertical-align: 0.5em;\">∗</span></span></span></span><script type=\"math/tex\" id=\"MathJax-Element-7\">\\beta \\in \\mathbb{N}^*</script></a></div><div class=\"lev3 toc-item\"><a href=\"#a.-Hermite-$\\mu-=-\\mathcal{N}$\" data-toc-modified-id=\"a.-Hermite-$\\mu-=-\\mathcal{N}$-453\"><span class=\"toc-item-num\">4.5.3&nbsp;&nbsp;</span>a. Hermite <span class=\"MathJax_Preview\" style=\"color: inherit;\"><span class=\"MJXp-math\" id=\"MJXp-Span-92\"><span class=\"MJXp-mi MJXp-italic\" id=\"MJXp-Span-93\">μ</span><span class=\"MJXp-mo\" id=\"MJXp-Span-94\" style=\"margin-left: 0.333em; margin-right: 0.333em;\">=</span><span class=\"MJXp-mrow\" id=\"MJXp-Span-95\"><span class=\"MJXp-mi MJXp-cal\" id=\"MJXp-Span-96\">N</span></span></span></span><script type=\"math/tex\" id=\"MathJax-Element-9\">\\mu = \\mathcal{N}</script></a></div><div class=\"lev4 toc-item\"><a href=\"#Sample-using-full-matrix-model,-$\\beta-\\in-\\{0,-1,-2,-4\\}$\" data-toc-modified-id=\"Sample-using-full-matrix-model,-$\\beta-\\in-\\{0,-1,-2,-4\\}$-4531\"><span class=\"toc-item-num\">4.5.3.1&nbsp;&nbsp;</span>Sample using full matrix model, <span class=\"MathJax_Preview\" style=\"color: inherit;\"><span class=\"MJXp-math\" id=\"MJXp-Span-97\"><span class=\"MJXp-mi MJXp-italic\" id=\"MJXp-Span-98\">β</span><span class=\"MJXp-mo\" id=\"MJXp-Span-99\" style=\"margin-left: 0.333em; margin-right: 0.333em;\">∈</span><span class=\"MJXp-mo\" id=\"MJXp-Span-100\" style=\"margin-left: 0em; margin-right: 0em;\">{</span><span class=\"MJXp-mn\" id=\"MJXp-Span-101\">0</span><span class=\"MJXp-mo\" id=\"MJXp-Span-102\" style=\"margin-left: 0em; margin-right: 0.222em;\">,</span><span class=\"MJXp-mn\" id=\"MJXp-Span-103\">1</span><span class=\"MJXp-mo\" id=\"MJXp-Span-104\" style=\"margin-left: 0em; margin-right: 0.222em;\">,</span><span class=\"MJXp-mn\" id=\"MJXp-Span-105\">2</span><span class=\"MJXp-mo\" id=\"MJXp-Span-106\" style=\"margin-left: 0em; margin-right: 0.222em;\">,</span><span class=\"MJXp-mn\" id=\"MJXp-Span-107\">4</span><span class=\"MJXp-mo\" id=\"MJXp-Span-108\" style=\"margin-left: 0em; margin-right: 0em;\">}</span></span></span><script type=\"math/tex\" id=\"MathJax-Element-10\">\\beta \\in \\{0, 1, 2, 4\\}</script></a></div><div class=\"lev4 toc-item\"><a href=\"#Sample-using-banded-(tridiagonal)-matrix-model-$\\beta-\\in-\\mathbb{R}_+$\" data-toc-modified-id=\"Sample-using-banded-(tridiagonal)-matrix-model-$\\beta-\\in-\\mathbb{R}_+$-4532\"><span class=\"toc-item-num\">4.5.3.2&nbsp;&nbsp;</span>Sample using banded (tridiagonal) matrix model <span class=\"MathJax_Preview\" style=\"color: inherit;\"><span class=\"MJXp-math\" id=\"MJXp-Span-109\"><span class=\"MJXp-mi MJXp-italic\" id=\"MJXp-Span-110\">β</span><span class=\"MJXp-mo\" id=\"MJXp-Span-111\" style=\"margin-left: 0.333em; margin-right: 0.333em;\">∈</span><span class=\"MJXp-msubsup\" id=\"MJXp-Span-112\"><span class=\"MJXp-mrow\" id=\"MJXp-Span-113\" style=\"margin-right: 0.05em;\"><span class=\"MJXp-mi undefined\" id=\"MJXp-Span-114\">R</span></span><span class=\"MJXp-mo MJXp-script\" id=\"MJXp-Span-115\" style=\"vertical-align: -0.4em;\">+</span></span></span></span><script type=\"math/tex\" id=\"MathJax-Element-11\">\\beta \\in \\mathbb{R}_+</script></a></div><div class=\"lev3 toc-item\"><a href=\"#b.-Laguerre-$\\mu-=-\\mathcal{\\Gamma}$\" data-toc-modified-id=\"b.-Laguerre-$\\mu-=-\\mathcal{\\Gamma}$-454\"><span class=\"toc-item-num\">4.5.4&nbsp;&nbsp;</span>b. Laguerre <span class=\"MathJax_Preview\" style=\"color: inherit;\"><span class=\"MJXp-math\" id=\"MJXp-Span-120\"><span class=\"MJXp-mi MJXp-italic\" id=\"MJXp-Span-121\">μ</span><span class=\"MJXp-mo\" id=\"MJXp-Span-122\" style=\"margin-left: 0.333em; margin-right: 0.333em;\">=</span><span class=\"MJXp-mrow\" id=\"MJXp-Span-123\"><span class=\"MJXp-mi MJXp-cal\" id=\"MJXp-Span-124\">Γ</span></span></span></span><script type=\"math/tex\" id=\"MathJax-Element-13\">\\mu = \\mathcal{\\Gamma}</script></a></div><div class=\"lev4 toc-item\"><a href=\"#Sample-using-full-matrix-model,-$\\beta-\\in-\\{0,-1,-2,-4\\}$\" data-toc-modified-id=\"Sample-using-full-matrix-model,-$\\beta-\\in-\\{0,-1,-2,-4\\}$-4541\"><span class=\"toc-item-num\">4.5.4.1&nbsp;&nbsp;</span>Sample using full matrix model, <span class=\"MathJax_Preview\" style=\"color: inherit;\"><span class=\"MJXp-math\" id=\"MJXp-Span-125\"><span class=\"MJXp-mi MJXp-italic\" id=\"MJXp-Span-126\">β</span><span class=\"MJXp-mo\" id=\"MJXp-Span-127\" style=\"margin-left: 0.333em; margin-right: 0.333em;\">∈</span><span class=\"MJXp-mo\" id=\"MJXp-Span-128\" style=\"margin-left: 0em; margin-right: 0em;\">{</span><span class=\"MJXp-mn\" id=\"MJXp-Span-129\">0</span><span class=\"MJXp-mo\" id=\"MJXp-Span-130\" style=\"margin-left: 0em; margin-right: 0.222em;\">,</span><span class=\"MJXp-mn\" id=\"MJXp-Span-131\">1</span><span class=\"MJXp-mo\" id=\"MJXp-Span-132\" style=\"margin-left: 0em; margin-right: 0.222em;\">,</span><span class=\"MJXp-mn\" id=\"MJXp-Span-133\">2</span><span class=\"MJXp-mo\" id=\"MJXp-Span-134\" style=\"margin-left: 0em; margin-right: 0.222em;\">,</span><span class=\"MJXp-mn\" id=\"MJXp-Span-135\">4</span><span class=\"MJXp-mo\" id=\"MJXp-Span-136\" style=\"margin-left: 0em; margin-right: 0em;\">}</span></span></span><script type=\"math/tex\" id=\"MathJax-Element-14\">\\beta \\in \\{0, 1, 2, 4\\}</script></a></div><div class=\"lev4 toc-item\"><a href=\"#Sample-using-banded-(tridiagonal)-matrix-model,-$\\beta-\\in-\\mathbb{R}_+$\" data-toc-modified-id=\"Sample-using-banded-(tridiagonal)-matrix-model,-$\\beta-\\in-\\mathbb{R}_+$-4542\"><span class=\"toc-item-num\">4.5.4.2&nbsp;&nbsp;</span>Sample using banded (tridiagonal) matrix model, <span class=\"MathJax_Preview\" style=\"color: inherit;\"><span class=\"MJXp-math\" id=\"MJXp-Span-137\"><span class=\"MJXp-mi MJXp-italic\" id=\"MJXp-Span-138\">β</span><span class=\"MJXp-mo\" id=\"MJXp-Span-139\" style=\"margin-left: 0.333em; margin-right: 0.333em;\">∈</span><span class=\"MJXp-msubsup\" id=\"MJXp-Span-140\"><span class=\"MJXp-mrow\" id=\"MJXp-Span-141\" style=\"margin-right: 0.05em;\"><span class=\"MJXp-mi undefined\" id=\"MJXp-Span-142\">R</span></span><span class=\"MJXp-mo MJXp-script\" id=\"MJXp-Span-143\" style=\"vertical-align: -0.4em;\">+</span></span></span></span><script type=\"math/tex\" id=\"MathJax-Element-15\">\\beta \\in \\mathbb{R}_+</script></a></div><div class=\"lev3 toc-item\"><a href=\"#c.-Jacobi-$\\mu-=-\\operatorname{Beta}$\" data-toc-modified-id=\"c.-Jacobi-$\\mu-=-\\operatorname{Beta}$-455\"><span class=\"toc-item-num\">4.5.5&nbsp;&nbsp;</span>c. Jacobi <span class=\"MathJax_Preview\" style=\"color: inherit;\"><span class=\"MJXp-math\" id=\"MJXp-Span-155\"><span class=\"MJXp-mi MJXp-italic\" id=\"MJXp-Span-156\">μ</span><span class=\"MJXp-mo\" id=\"MJXp-Span-157\" style=\"margin-left: 0.333em; margin-right: 0.333em;\">=</span><span class=\"MJXp-mi\" id=\"MJXp-Span-158\">Beta</span></span></span><script type=\"math/tex\" id=\"MathJax-Element-18\">\\mu = \\operatorname{Beta}</script></a></div><div class=\"lev4 toc-item\"><a href=\"#Sample-using-full-matrix-model,--$\\beta-\\in-\\{0,-1,-2,-4\\}$\" data-toc-modified-id=\"Sample-using-full-matrix-model,--$\\beta-\\in-\\{0,-1,-2,-4\\}$-4551\"><span class=\"toc-item-num\">4.5.5.1&nbsp;&nbsp;</span>Sample using full matrix model,  <span class=\"MathJax_Preview\" style=\"color: inherit;\"><span class=\"MJXp-math\" id=\"MJXp-Span-159\"><span class=\"MJXp-mi MJXp-italic\" id=\"MJXp-Span-160\">β</span><span class=\"MJXp-mo\" id=\"MJXp-Span-161\" style=\"margin-left: 0.333em; margin-right: 0.333em;\">∈</span><span class=\"MJXp-mo\" id=\"MJXp-Span-162\" style=\"margin-left: 0em; margin-right: 0em;\">{</span><span class=\"MJXp-mn\" id=\"MJXp-Span-163\">0</span><span class=\"MJXp-mo\" id=\"MJXp-Span-164\" style=\"margin-left: 0em; margin-right: 0.222em;\">,</span><span class=\"MJXp-mn\" id=\"MJXp-Span-165\">1</span><span class=\"MJXp-mo\" id=\"MJXp-Span-166\" style=\"margin-left: 0em; margin-right: 0.222em;\">,</span><span class=\"MJXp-mn\" id=\"MJXp-Span-167\">2</span><span class=\"MJXp-mo\" id=\"MJXp-Span-168\" style=\"margin-left: 0em; margin-right: 0.222em;\">,</span><span class=\"MJXp-mn\" id=\"MJXp-Span-169\">4</span><span class=\"MJXp-mo\" id=\"MJXp-Span-170\" style=\"margin-left: 0em; margin-right: 0em;\">}</span></span></span><script type=\"math/tex\" id=\"MathJax-Element-19\">\\beta \\in \\{0, 1, 2, 4\\}</script></a></div><div class=\"lev4 toc-item\"><a href=\"#Sample-using-banded-(tridiagonal)-matrix-model,--$\\beta-\\in-\\mathbb{R}_+$\" data-toc-modified-id=\"Sample-using-banded-(tridiagonal)-matrix-model,--$\\beta-\\in-\\mathbb{R}_+$-4552\"><span class=\"toc-item-num\">4.5.5.2&nbsp;&nbsp;</span>Sample using banded (tridiagonal) matrix model,  <span class=\"MathJax_Preview\" style=\"color: inherit;\"><span class=\"MJXp-math\" id=\"MJXp-Span-171\"><span class=\"MJXp-mi MJXp-italic\" id=\"MJXp-Span-172\">β</span><span class=\"MJXp-mo\" id=\"MJXp-Span-173\" style=\"margin-left: 0.333em; margin-right: 0.333em;\">∈</span><span class=\"MJXp-msubsup\" id=\"MJXp-Span-174\"><span class=\"MJXp-mrow\" id=\"MJXp-Span-175\" style=\"margin-right: 0.05em;\"><span class=\"MJXp-mi undefined\" id=\"MJXp-Span-176\">R</span></span><span class=\"MJXp-mo MJXp-script\" id=\"MJXp-Span-177\" style=\"vertical-align: -0.4em;\">+</span></span></span></span><script type=\"math/tex\" id=\"MathJax-Element-20\">\\beta \\in \\mathbb{R}_+</script></a></div><div class=\"lev3 toc-item\"><a href=\"#(e)-Ginibre-$\\beta-=-2$-only\" data-toc-modified-id=\"(e)-Ginibre-$\\beta-=-2$-only-456\"><span class=\"toc-item-num\">4.5.6&nbsp;&nbsp;</span>(e) Ginibre <span class=\"MathJax_Preview\" style=\"color: inherit;\"><span class=\"MJXp-math\" id=\"MJXp-Span-190\"><span class=\"MJXp-mi MJXp-italic\" id=\"MJXp-Span-191\">β</span><span class=\"MJXp-mo\" id=\"MJXp-Span-192\" style=\"margin-left: 0.333em; margin-right: 0.333em;\">=</span><span class=\"MJXp-mn\" id=\"MJXp-Span-193\">2</span></span></span><script type=\"math/tex\" id=\"MathJax-Element-23\">\\beta = 2</script> only</a></div><div class=\"lev2 toc-item\"><a href=\"#II.-2.-Discrete-DPPs\" data-toc-modified-id=\"II.-2.-Discrete-DPPs-46\"><span class=\"toc-item-num\">4.6&nbsp;&nbsp;</span>II. 2. Discrete DPPs</a></div><div class=\"lev3 toc-item\"><a href=\"#See-documentation\" data-toc-modified-id=\"See-documentation-461\"><span class=\"toc-item-num\">4.6.1&nbsp;&nbsp;</span>See <a href=\"https://dppy.readthedocs.io/en/latest/finite_dpps/index.html\" target=\"_blank\">documentation</a></a></div><div class=\"lev3 toc-item\"><a href=\"#Build-inclusion-kernel-$\\mathbf{K}$\" data-toc-modified-id=\"Build-inclusion-kernel-$\\mathbf{K}$-462\"><span class=\"toc-item-num\">4.6.2&nbsp;&nbsp;</span>Build inclusion kernel <span class=\"MathJax_Preview\" style=\"color: inherit;\"><span class=\"MJXp-math\" id=\"MJXp-Span-194\"><span class=\"MJXp-mrow\" id=\"MJXp-Span-195\"><span class=\"MJXp-mi MJXp-bold\" id=\"MJXp-Span-196\">K</span></span></span></span><script type=\"math/tex\" id=\"MathJax-Element-24\">\\mathbf{K}</script></a></div><div class=\"lev3 toc-item\"><a href=\"#Declare-a-finite-DPP-in-DPPy\" data-toc-modified-id=\"Declare-a-finite-DPP-in-DPPy-463\"><span class=\"toc-item-num\">4.6.3&nbsp;&nbsp;</span>Declare a finite DPP in DPPy</a></div><div class=\"lev4 toc-item\"><a href=\"#1.-Via-eigen-decomposition\" data-toc-modified-id=\"1.-Via-eigen-decomposition-4631\"><span class=\"toc-item-num\">4.6.3.1&nbsp;&nbsp;</span>1. Via eigen-decomposition</a></div><div class=\"lev4 toc-item\"><a href=\"#2.-Via-its-kernel\" data-toc-modified-id=\"2.-Via-its-kernel-4632\"><span class=\"toc-item-num\">4.6.3.2&nbsp;&nbsp;</span>2. Via its kernel</a></div><div class=\"lev3 toc-item\"><a href=\"#Other-features\" data-toc-modified-id=\"Other-features-464\"><span class=\"toc-item-num\">4.6.4&nbsp;&nbsp;</span>Other features</a></div><div class=\"lev4 toc-item\"><a href=\"#a.-Compute-the-other-kernel\" data-toc-modified-id=\"a.-Compute-the-other-kernel-4641\"><span class=\"toc-item-num\">4.6.4.1&nbsp;&nbsp;</span>a. Compute the <em>other</em> kernel</a></div><div class=\"lev4 toc-item\"><a href=\"#b.-Compute/plot-the-underlying-kernel\" data-toc-modified-id=\"b.-Compute/plot-the-underlying-kernel-4642\"><span class=\"toc-item-num\">4.6.4.2&nbsp;&nbsp;</span>b. Compute/plot the underlying kernel</a></div><div class=\"lev3 toc-item\"><a href=\"#Exact-sampling-scheme\" data-toc-modified-id=\"Exact-sampling-scheme-465\"><span class=\"toc-item-num\">4.6.5&nbsp;&nbsp;</span>Exact sampling scheme</a></div><div class=\"lev3 toc-item\"><a href=\"#MCMC-sampling\" data-toc-modified-id=\"MCMC-sampling-466\"><span class=\"toc-item-num\">4.6.6&nbsp;&nbsp;</span>MCMC sampling</a></div><div class=\"lev4 toc-item\"><a href=\"#1.-Local-moves\" data-toc-modified-id=\"1.-Local-moves-4661\"><span class=\"toc-item-num\">4.6.6.1&nbsp;&nbsp;</span>1. Local moves</a></div><div class=\"lev4 toc-item\"><a href=\"#2.-Zonotope\" data-toc-modified-id=\"2.-Zonotope-4662\"><span class=\"toc-item-num\">4.6.6.2&nbsp;&nbsp;</span>2. Zonotope</a></div><div class=\"lev2 toc-item\"><a href=\"#II.-3.-Exotic-DPPs\" data-toc-modified-id=\"II.-3.-Exotic-DPPs-47\"><span class=\"toc-item-num\">4.7&nbsp;&nbsp;</span>II. 3. Exotic DPPs</a></div><div class=\"lev3 toc-item\"><a href=\"#See-documentation\" data-toc-modified-id=\"See-documentation-471\"><span class=\"toc-item-num\">4.7.1&nbsp;&nbsp;</span>See <a href=\"https://dppy.readthedocs.io/en/latest/exotic_dpps/index.html\" target=\"_blank\">documentation</a></a></div><div class=\"lev3 toc-item\"><a href=\"#a.-Uniform-Spanning-Trees\" data-toc-modified-id=\"a.-Uniform-Spanning-Trees-472\"><span class=\"toc-item-num\">4.7.2&nbsp;&nbsp;</span>a. Uniform Spanning Trees</a></div><div class=\"lev4 toc-item\"><a href=\"#Uniform-spanning-trees-of-a-connected-graph\" data-toc-modified-id=\"Uniform-spanning-trees-of-a-connected-graph-4721\"><span class=\"toc-item-num\">4.7.2.1&nbsp;&nbsp;</span>Uniform spanning trees of a connected graph</a></div><div class=\"lev4 toc-item\"><a href=\"#Display-kernel\" data-toc-modified-id=\"Display-kernel-4722\"><span class=\"toc-item-num\">4.7.2.2&nbsp;&nbsp;</span>Display kernel</a></div><div class=\"lev4 toc-item\"><a href=\"#Sample-a-UST\" data-toc-modified-id=\"Sample-a-UST-4723\"><span class=\"toc-item-num\">4.7.2.3&nbsp;&nbsp;</span>Sample a UST</a></div><div class=\"lev3 toc-item\"><a href=\"#b.-(Poissonized)-Plancherel\" data-toc-modified-id=\"b.-(Poissonized)-Plancherel-473\"><span class=\"toc-item-num\">4.7.3&nbsp;&nbsp;</span>b. (Poissonized) Plancherel</a></div><div class=\"lev4 toc-item\"><a href=\"#Choose-a-$\\theta$-to-sample-a-permutation-$\\sigma-\\in-\\mathfrak{S}_N$-with-$N-\\sim-\\mathcal{P}(\\theta)$\" data-toc-modified-id=\"Choose-a-$\\theta$-to-sample-a-permutation-$\\sigma-\\in-\\mathfrak{S}_N$-with-$N-\\sim-\\mathcal{P}(\\theta)$-4731\"><span class=\"toc-item-num\">4.7.3.1&nbsp;&nbsp;</span>Choose a <span class=\"MathJax_Preview\" style=\"color: inherit;\"><span class=\"MJXp-math\" id=\"MJXp-Span-412\"><span class=\"MJXp-mi MJXp-italic\" id=\"MJXp-Span-413\">θ</span></span></span><script type=\"math/tex\" id=\"MathJax-Element-45\">\\theta</script> to sample a permutation <span class=\"MathJax_Preview\" style=\"color: inherit;\"><span class=\"MJXp-math\" id=\"MJXp-Span-414\"><span class=\"MJXp-mi MJXp-italic\" id=\"MJXp-Span-415\">σ</span><span class=\"MJXp-mo\" id=\"MJXp-Span-416\" style=\"margin-left: 0.333em; margin-right: 0.333em;\">∈</span><span class=\"MJXp-msubsup\" id=\"MJXp-Span-417\"><span class=\"MJXp-mrow\" id=\"MJXp-Span-418\" style=\"margin-right: 0.05em;\"><span class=\"MJXp-mi MJXp-frak\" id=\"MJXp-Span-419\">S</span></span><span class=\"MJXp-mi MJXp-italic MJXp-script\" id=\"MJXp-Span-420\" style=\"vertical-align: -0.4em;\">N</span></span></span></span><script type=\"math/tex\" id=\"MathJax-Element-46\">\\sigma \\in \\mathfrak{S}_N</script> with <span class=\"MathJax_Preview\" style=\"color: inherit;\"><span class=\"MJXp-math\" id=\"MJXp-Span-421\"><span class=\"MJXp-mi MJXp-italic\" id=\"MJXp-Span-422\">N</span><span class=\"MJXp-mo\" id=\"MJXp-Span-423\" style=\"margin-left: 0.333em; margin-right: 0.333em;\">∼</span><span class=\"MJXp-mrow\" id=\"MJXp-Span-424\"><span class=\"MJXp-mi MJXp-cal\" id=\"MJXp-Span-425\">P</span></span><span class=\"MJXp-mo\" id=\"MJXp-Span-426\" style=\"margin-left: 0em; margin-right: 0em;\">(</span><span class=\"MJXp-mi MJXp-italic\" id=\"MJXp-Span-427\">θ</span><span class=\"MJXp-mo\" id=\"MJXp-Span-428\" style=\"margin-left: 0em; margin-right: 0em;\">)</span></span></span><script type=\"math/tex\" id=\"MathJax-Element-47\">N \\sim \\mathcal{P}(\\theta)</script></a></div><div class=\"lev3 toc-item\"><a href=\"#c.-Carries-Process\" data-toc-modified-id=\"c.-Carries-Process-474\"><span class=\"toc-item-num\">4.7.4&nbsp;&nbsp;</span>c. Carries Process</a></div><div class=\"lev4 toc-item\"><a href=\"#Choose-base-$b$-to-sample-i.i.d.-digits-in-$\\{0,-\\dots,-b-1\\}$\" data-toc-modified-id=\"Choose-base-$b$-to-sample-i.i.d.-digits-in-$\\{0,-\\dots,-b-1\\}$-4741\"><span class=\"toc-item-num\">4.7.4.1&nbsp;&nbsp;</span>Choose base <span class=\"MathJax_Preview\" style=\"color: inherit;\"><span class=\"MJXp-math\" id=\"MJXp-Span-429\"><span class=\"MJXp-mi MJXp-italic\" id=\"MJXp-Span-430\">b</span></span></span><script type=\"math/tex\" id=\"MathJax-Element-48\">b</script> to sample i.i.d. digits in <span class=\"MathJax_Preview\" style=\"color: inherit;\"><span class=\"MJXp-math\" id=\"MJXp-Span-431\"><span class=\"MJXp-mo\" id=\"MJXp-Span-432\" style=\"margin-left: 0em; margin-right: 0em;\">{</span><span class=\"MJXp-mn\" id=\"MJXp-Span-433\">0</span><span class=\"MJXp-mo\" id=\"MJXp-Span-434\" style=\"margin-left: 0em; margin-right: 0.222em;\">,</span><span class=\"MJXp-mo\" id=\"MJXp-Span-435\" style=\"margin-left: 0em; margin-right: 0em;\">…</span><span class=\"MJXp-mo\" id=\"MJXp-Span-436\" style=\"margin-left: 0em; margin-right: 0.222em;\">,</span><span class=\"MJXp-mi MJXp-italic\" id=\"MJXp-Span-437\">b</span><span class=\"MJXp-mo\" id=\"MJXp-Span-438\" style=\"margin-left: 0.267em; margin-right: 0.267em;\">−</span><span class=\"MJXp-mn\" id=\"MJXp-Span-439\">1</span><span class=\"MJXp-mo\" id=\"MJXp-Span-440\" style=\"margin-left: 0em; margin-right: 0em;\">}</span></span></span><script type=\"math/tex\" id=\"MathJax-Element-49\">\\{0, \\dots, b-1\\}</script></a></div><div class=\"lev1 toc-item\"><a href=\"#III.-Tools-behind-the-scene\" data-toc-modified-id=\"III.-Tools-behind-the-scene-5\"><span class=\"toc-item-num\">5&nbsp;&nbsp;</span>III. Tools behind the scene</a></div><div class=\"lev4 toc-item\"><a href=\"#Reproducible-reasearch\" data-toc-modified-id=\"Reproducible-reasearch-5001\"><span class=\"toc-item-num\">5.0.0.1&nbsp;&nbsp;</span>Reproducible reasearch</a></div><div class=\"lev1 toc-item\"><a href=\"#IV.---Suggestions/needs?\" data-toc-modified-id=\"IV.---Suggestions/needs?-6\"><span class=\"toc-item-num\">6&nbsp;&nbsp;</span>IV.   Suggestions/needs?</a></div><div class=\"lev1 toc-item\"><a href=\"#Raise-an-issue-on-GitHub-:)\" data-toc-modified-id=\"Raise-an-issue-on-GitHub-:)-7\"><span class=\"toc-item-num\">7&nbsp;&nbsp;</span><a href=\"https://github.com/guilgautier/DPPy/issues\" target=\"_blank\">Raise an issue on GitHub</a> :)</a></div>"
   ]
  },
  {
   "cell_type": "markdown",
   "metadata": {
    "colab_type": "text",
    "id": "Z6Aldrqipwde"
   },
   "source": [
    "# [DPPy](https://github.com/guilgautier/DPPy) tutorial\n",
    "\n",
    "### First used for tutorial at Groupe de Travail DPPs, 10/29/2018 - Painlevé, Univ. Lille 1"
   ]
  },
  {
   "cell_type": "markdown",
   "metadata": {
    "colab_type": "text",
    "id": "nFdOcaqj9lSU"
   },
   "source": [
    "### Why are we here ?\n",
    "---\n",
    "\n",
    "#### DPPy\n",
    "  + Acronym: DPP + Python\n",
    "  + Python Toolbox for (sampling) DPPs\n",
    " \n",
    "#### Goal\n",
    "  + showcase the DPP samplers featured in DPPy\n",
    "  + present tools behind the scene \n",
    "  \n",
    "  [GitHub](https://github.com/guilgautier/DPPy)\n",
    "  [![Documentation Status](https://readthedocs.org/projects/dppy/badge/?version=latest)](https://dppy.readthedocs.io/en/latest/?badge=latest)\n",
    "  [![Build Status](https://travis-ci.com/guilgautier/DPPy.svg?branch=master)](https://travis-ci.com/guilgautier/DPPy)\n",
    "  + needs/suggestion for improvement"
   ]
  },
  {
   "cell_type": "markdown",
   "metadata": {
    "colab_type": "text",
    "id": "HCidatlrvyBB"
   },
   "source": [
    "## Program of the day\n",
    "---\n",
    "\n",
    "## I.   Check installation\n",
    "## II.   Sample DPPs with DPPy\n",
    "## III.   Tools behind the scene\n",
    "## IV.   Suggestions/needs"
   ]
  },
  {
   "cell_type": "markdown",
   "metadata": {
    "colab_type": "text",
    "id": "E0cVmV86s2js"
   },
   "source": [
    "# I. Check installation\n",
    "---\n",
    "\n",
    "#### [Instructions](https://github.com/guilgautier/DPPy#installation)\n",
    "\n",
    "### Any issue?\n",
    "\n",
    "- [Travis](https://travis-ci.com/guilgautier/DPPy) says **no** :-)\n",
    "    [![Build Status](https://travis-ci.com/guilgautier/DPPy.svg?branch=master)](https://travis-ci.com/guilgautier/DPPy)\n",
    "\n",
    "\n"
   ]
  },
  {
   "cell_type": "code",
   "execution_count": null,
   "metadata": {
    "colab": {},
    "colab_type": "code",
    "id": "_jrm6FSHvGhI"
   },
   "outputs": [],
   "source": [
    "#!rm -r DPPy\n",
    "#!git clone https://github.com/guilgautier/DPPy.git"
   ]
  },
  {
   "cell_type": "code",
   "execution_count": null,
   "metadata": {
    "colab": {},
    "colab_type": "code",
    "id": "e3LERVt0EjDD"
   },
   "outputs": [],
   "source": [
    "#!pip install scipy --upgrade\n",
    "#!pip install DPPy/."
   ]
  },
  {
   "cell_type": "code",
   "execution_count": null,
   "metadata": {
    "cellView": "form",
    "colab": {},
    "colab_type": "code",
    "id": "B_1lstAQghUr"
   },
   "outputs": [],
   "source": [
    "#@title ## Who is *using*:\n",
    "\n",
    "GitHub = 1 #@param {type:\"slider\", min:0, max:20, step:1}\n",
    "git = 1 #@param {type:\"slider\", min:0, max:20, step:1}\n",
    "none = 0 #@param {type:\"slider\", min:0, max:20, step:1}"
   ]
  },
  {
   "cell_type": "markdown",
   "metadata": {
    "colab_type": "text",
    "id": "vkccz9racEyF"
   },
   "source": [
    "### Ready?\n",
    "\n",
    "```bash\n",
    "(cd DPPy)\n",
    "jupyter notebook\n",
    "```"
   ]
  },
  {
   "cell_type": "markdown",
   "metadata": {},
   "source": [
    "# 💣 To interact with source code, please uncomment the following cell"
   ]
  },
  {
   "cell_type": "code",
   "execution_count": null,
   "metadata": {},
   "outputs": [],
   "source": [
    "%load_ext autoreload\n",
    "%autoreload 2\n",
    "\n",
    "import os\n",
    "import sys\n",
    "sys.path.insert(0, os.path.abspath('..'))"
   ]
  },
  {
   "cell_type": "markdown",
   "metadata": {
    "colab_type": "text",
    "id": "DW4H9Mr8yKZx"
   },
   "source": [
    "# II. Sample DPPs with DPPy\n",
    "----\n",
    "\n",
    "## 1. Continuous DPPs: $\\beta$-Ensembles\n",
    "  + Hermite, Laguerre, Jacobi, Circular, Ginibre\n",
    "  + matrix models (full/tridiagonal)\n",
    "\n",
    "## 2. Finite DPPs\n",
    "\n",
    "  + exact sampling\n",
    "  + approximate sampling\n",
    "\n",
    "## 3. Exotic DPPs\n",
    "  + Uniform Spanning Trees\n",
    "  + Plancherel (RSK, ...)\n",
    "  + Descent Processes"
   ]
  },
  {
   "cell_type": "markdown",
   "metadata": {
    "colab_type": "text",
    "id": "cLzz9GN1qRcC"
   },
   "source": [
    "## Main DPPy objects' methods\n",
    "\n",
    "#### `.sample()`\n",
    "#### `.plot()`"
   ]
  },
  {
   "cell_type": "markdown",
   "metadata": {
    "colab_type": "text",
    "id": "Q12BjnKoucEq"
   },
   "source": [
    "## II. 1. Continuous DPPs: $\\beta$-Ensembles\n",
    "\n",
    "### See [documentation](https://dppy.readthedocs.io/en/latest/continuous_dpps/index.html)\n",
    "\n",
    "$$\n",
    "(x_1,\\dots,x_N) \n",
    "\t\\sim \n",
    "\t\t\\frac{1}{Z_{N,\\beta}}\n",
    "\t\t\\left|\\Delta(x_1,\\dots,x_N)\\right|^{\\beta}\n",
    "\t\t\\prod_{i= 1}^N \n",
    "\t\t\t\\mu(d x_i)\n",
    "$$\n",
    "\n",
    "- Random matrix models\n",
    "- $\\beta=2$: projection DPPs"
   ]
  },
  {
   "cell_type": "markdown",
   "metadata": {
    "colab_type": "text",
    "id": "0eZbIbGwpKXw"
   },
   "source": [
    "### d. Circular"
   ]
  },
  {
   "cell_type": "code",
   "execution_count": null,
   "metadata": {
    "colab": {},
    "colab_type": "code",
    "id": "8Trgn-bRpBNc"
   },
   "outputs": [],
   "source": [
    "from dppy.beta_ensembles import CircularEnsemble\n",
    "\n",
    "circular = CircularEnsemble(beta=2) # beta must be >=0 integer, default beta=2"
   ]
  },
  {
   "cell_type": "markdown",
   "metadata": {
    "colab_type": "text",
    "id": "j8Z0KEZdxq_f"
   },
   "source": [
    "#### Visualization of the cristallization as $\\beta\\in \\mathbb{N}^*$ increases "
   ]
  },
  {
   "cell_type": "code",
   "execution_count": null,
   "metadata": {
    "cellView": "form",
    "colab": {},
    "colab_type": "code",
    "id": "NKxoidomyIT5"
   },
   "outputs": [],
   "source": [
    "#@title ##### Use a slider! (on G-Colab only!!)\n",
    "\n",
    "_beta = 2 #@param {type:\"slider\", min:0, max:100, step:1}\n",
    "_size = 30 #@param {type:\"slider\", min:0, max:100, step:1}\n",
    "\n",
    "circular.beta = _beta\n",
    "circular.sample_banded_model(size_N=_size)\n",
    "circular.plot()"
   ]
  },
  {
   "cell_type": "markdown",
   "metadata": {
    "colab_type": "text",
    "id": "ysnn747E04q8"
   },
   "source": [
    "##### Or simply a loop"
   ]
  },
  {
   "cell_type": "code",
   "execution_count": null,
   "metadata": {
    "colab": {},
    "colab_type": "code",
    "id": "BXhZcGE-xVtR"
   },
   "outputs": [],
   "source": [
    "for b in (0, 1, 5, 10):\n",
    "    circular.beta = b\n",
    "    circular.sample_banded_model(size_N=30)\n",
    "    circular.plot()"
   ]
  },
  {
   "cell_type": "markdown",
   "metadata": {
    "colab_type": "text",
    "id": "g4pzjDKhpBNd"
   },
   "source": [
    "#### Sample using full matrix model, $\\beta \\in \\{0, 1, 2, 4\\}$"
   ]
  },
  {
   "cell_type": "code",
   "execution_count": null,
   "metadata": {
    "colab": {},
    "colab_type": "code",
    "id": "nOHlvFddpBNe"
   },
   "outputs": [],
   "source": [
    "circular.beta = 2\n",
    "# 1. Plot the eigenvalues, they lie on the unit circle\n",
    "circular.sample_full_model(size_N=30, haar_mode='Hermite') # Sample # haar_mode = 'Hermite'/'QR'\n",
    "circular.plot() # Plot of the eigenvalues\n",
    "\n",
    "# 2. Histogram of the angle of more points, should look uniform on [0,2pi]\n",
    "circular.sample_full_model(size_N=1000, haar_mode='Hermite') # Sample\n",
    "circular.hist()"
   ]
  },
  {
   "cell_type": "markdown",
   "metadata": {
    "colab_type": "text",
    "id": "HYcJ2I1-pBNi"
   },
   "source": [
    "#### Sample using banded (quindiagonal) matrix model, $\\beta \\in \\mathbb{N}^*$"
   ]
  },
  {
   "cell_type": "code",
   "execution_count": null,
   "metadata": {
    "colab": {},
    "colab_type": "code",
    "id": "FjFT3cEKpBNi"
   },
   "outputs": [],
   "source": [
    "circular.beta = 8\n",
    "circular.sample_banded_model(size_N=30)\n",
    "circular.plot()\n",
    "\n",
    "circular.sample_banded_model(size_N=1000)\n",
    "circular.hist()"
   ]
  },
  {
   "cell_type": "markdown",
   "metadata": {},
   "source": [
    "##### $\\beta=0$, i.i.d. uniform points on the unit circle"
   ]
  },
  {
   "cell_type": "code",
   "execution_count": null,
   "metadata": {},
   "outputs": [],
   "source": [
    "circular.beta = 0\n",
    "circular.sample_banded_model(size_N=30)\n",
    "circular.plot()"
   ]
  },
  {
   "cell_type": "markdown",
   "metadata": {
    "colab_type": "text",
    "id": "KjMLG766JjlZ"
   },
   "source": [
    "### a. Hermite $\\mu = \\mathcal{N}$"
   ]
  },
  {
   "cell_type": "code",
   "execution_count": null,
   "metadata": {
    "colab": {},
    "colab_type": "code",
    "id": "3C6o1uAhjFgV"
   },
   "outputs": [],
   "source": [
    "from dppy.beta_ensembles import HermiteEnsemble\n",
    "\n",
    "hermite = HermiteEnsemble(beta=4) # beta can be >=0, default beta=2"
   ]
  },
  {
   "cell_type": "markdown",
   "metadata": {
    "colab_type": "text",
    "id": "BvdJ1cAZl0wU"
   },
   "source": [
    "#### Sample using full matrix model, $\\beta \\in \\{0, 1, 2, 4\\}$"
   ]
  },
  {
   "cell_type": "code",
   "execution_count": null,
   "metadata": {
    "colab": {},
    "colab_type": "code",
    "id": "3C6o1uAhjFgV"
   },
   "outputs": [],
   "source": [
    "hermite.sample_full_model(size_N=500)\n",
    "# hermite.plot(normalization=True)\n",
    "hermite.hist(normalization=True)"
   ]
  },
  {
   "cell_type": "markdown",
   "metadata": {},
   "source": [
    "###### To compare with the sampling speed of the tridiagonal model simply use"
   ]
  },
  {
   "cell_type": "code",
   "execution_count": null,
   "metadata": {
    "colab": {},
    "colab_type": "code",
    "id": "3C6o1uAhjFgV"
   },
   "outputs": [],
   "source": [
    "hermite.sample_banded_model(size_N=500)\n",
    "hermite.hist(normalization=True)"
   ]
  },
  {
   "cell_type": "markdown",
   "metadata": {
    "colab_type": "text",
    "id": "UdVcX5zOl9Dl"
   },
   "source": [
    "#### Sample using banded (tridiagonal) matrix model $\\beta \\in \\mathbb{R}_+$ "
   ]
  },
  {
   "cell_type": "code",
   "execution_count": null,
   "metadata": {
    "colab": {},
    "colab_type": "code",
    "id": "xb6Rv_i3l9bt"
   },
   "outputs": [],
   "source": [
    "# beta can be >= 0, default beta=2\n",
    "hermite.beta= 5.43 # Or hermite = HermiteEnsemble(beta=5.43)\n",
    "# Reference measure is N(mu, sigma^2)\n",
    "hermite.sample_banded_model(loc=0.0, scale=1.0, size_N=500)\n",
    "# hermite.plot(normalization=True)\n",
    "hermite.hist(normalization=True)"
   ]
  },
  {
   "cell_type": "markdown",
   "metadata": {},
   "source": [
    "##### $\\beta=0$, i.i.d. Gaussian"
   ]
  },
  {
   "cell_type": "code",
   "execution_count": null,
   "metadata": {},
   "outputs": [],
   "source": [
    "# beta can be >= 0, default beta=2\n",
    "hermite.beta= 0 # Or hermite = HermiteEnsemble(beta=5.43)\n",
    "# Reference measure is N(mu, sigma^2)\n",
    "hermite.sample_banded_model(size_N=1000)\n",
    "# hermite.plot(normalization=True)\n",
    "hermite.hist(normalization=True) # True: N(0,2) as in full matrix model"
   ]
  },
  {
   "cell_type": "markdown",
   "metadata": {
    "colab_type": "text",
    "id": "1GAlE1x7jIbb"
   },
   "source": [
    "\n",
    "### b. Laguerre $\\mu = \\mathcal{\\Gamma}$"
   ]
  },
  {
   "cell_type": "code",
   "execution_count": null,
   "metadata": {},
   "outputs": [],
   "source": [
    "from dppy.beta_ensembles import LaguerreEnsemble\n",
    "\n",
    "laguerre = LaguerreEnsemble(beta=1) # beta can be >= 0, default beta=2"
   ]
  },
  {
   "cell_type": "markdown",
   "metadata": {
    "colab_type": "text",
    "id": "zgdCBYnUoukN"
   },
   "source": [
    "#### Sample using full matrix model, $\\beta \\in \\{0, 1, 2, 4\\}$"
   ]
  },
  {
   "cell_type": "code",
   "execution_count": null,
   "metadata": {
    "colab": {},
    "colab_type": "code",
    "id": "oxOEi1y1oxU-"
   },
   "outputs": [],
   "source": [
    "laguerre.sample_full_model(size_N=500, size_M=800) # M >= N\n",
    "# laguerre.plot(normalization=True)\n",
    "laguerre.hist(normalization=True)"
   ]
  },
  {
   "cell_type": "markdown",
   "metadata": {},
   "source": [
    "###### To compare with the sampling speed of the tridiagonal model simply use"
   ]
  },
  {
   "cell_type": "code",
   "execution_count": null,
   "metadata": {
    "colab": {},
    "colab_type": "code",
    "id": "oxOEi1y1oxU-"
   },
   "outputs": [],
   "source": [
    "laguerre.sample_banded_model(size_N=500, size_M=800)\n",
    "laguerre.hist(normalization=True)"
   ]
  },
  {
   "cell_type": "markdown",
   "metadata": {
    "colab_type": "text",
    "id": "5fIdJHxAoukP"
   },
   "source": [
    "#### Sample using banded (tridiagonal) matrix model, $\\beta \\in \\mathbb{R}_+$"
   ]
  },
  {
   "cell_type": "code",
   "execution_count": null,
   "metadata": {
    "colab": {},
    "colab_type": "code",
    "id": "4H8Zn19xoukQ"
   },
   "outputs": [],
   "source": [
    "laguerre. beta = 2.98 # Or laguerre = LaguerreEnsemble(beta=2.98)\n",
    "# Reference measure is Gamma(k, theta)\n",
    "laguerre.sample_banded_model(shape=600, scale=2.0, size_N=400)\n",
    "# laguerre.plot(normalization=True)\n",
    "laguerre.hist(normalization=True)"
   ]
  },
  {
   "cell_type": "markdown",
   "metadata": {},
   "source": [
    "##### $\\beta=0$, i.i.d. $\\Gamma(k,\\theta)$\n",
    "Error if using `size_M` as in full matrix model since `shape= k = 0`"
   ]
  },
  {
   "cell_type": "code",
   "execution_count": null,
   "metadata": {},
   "outputs": [],
   "source": [
    "laguerre.beta = 0 \n",
    "# Reference measure is Gamma(k, theta)\n",
    "laguerre.sample_banded_model(shape=6, scale=4.0, size_N=1000)\n",
    "# laguerre.plot(normalization=True)\n",
    "laguerre.hist(normalization=True) # True: Gamma(shape, 2) as in full matrix model"
   ]
  },
  {
   "cell_type": "markdown",
   "metadata": {
    "colab_type": "text",
    "id": "iU8f6mqHjKaH"
   },
   "source": [
    "### c. Jacobi $\\mu = \\operatorname{Beta}$"
   ]
  },
  {
   "cell_type": "code",
   "execution_count": null,
   "metadata": {
    "colab": {},
    "colab_type": "code",
    "id": "zEpR6Tf_oxU8"
   },
   "outputs": [],
   "source": [
    "from dppy.beta_ensembles import JacobiEnsemble\n",
    "\n",
    "jacobi = JacobiEnsemble(beta=2) # beta can be >= 0, default beta=2"
   ]
  },
  {
   "cell_type": "markdown",
   "metadata": {
    "colab_type": "text",
    "id": "7AlsA7CEoxU-"
   },
   "source": [
    "#### Sample using full matrix model,  $\\beta \\in \\{0, 1, 2, 4\\}$"
   ]
  },
  {
   "cell_type": "code",
   "execution_count": null,
   "metadata": {
    "colab": {},
    "colab_type": "code",
    "id": "zEpR6Tf_oxU8"
   },
   "outputs": [],
   "source": [
    "jacobi.sample_full_model(size_N=400, size_M1=500, size_M2=600) # M_1, M_2 >= N\n",
    "# jacobi.plot(normalization=True)\n",
    "jacobi.hist(normalization=True)"
   ]
  },
  {
   "cell_type": "markdown",
   "metadata": {},
   "source": [
    "###### To compare with the sampling speed of the tridiagonal model simply use"
   ]
  },
  {
   "cell_type": "code",
   "execution_count": null,
   "metadata": {
    "colab": {},
    "colab_type": "code",
    "id": "zEpR6Tf_oxU8"
   },
   "outputs": [],
   "source": [
    "jacobi.sample_banded_model(size_N=400, size_M1=500, size_M2=600)\n",
    "jacobi.hist(normalization=True)"
   ]
  },
  {
   "cell_type": "markdown",
   "metadata": {
    "colab_type": "text",
    "id": "N_nwy3G7oxVC"
   },
   "source": [
    "#### Sample using banded (tridiagonal) matrix model,  $\\beta \\in \\mathbb{R}_+$"
   ]
  },
  {
   "cell_type": "code",
   "execution_count": null,
   "metadata": {
    "colab": {},
    "colab_type": "code",
    "id": "L4vvZE09oxVD"
   },
   "outputs": [],
   "source": [
    "# beta can be >= 0, default beta=2\n",
    "jacobi.beta = 3.14 # Or jacobi = JacobiEnsemble(beta=3.14) \n",
    "# Reference measure is Beta(a,b)\n",
    "jacobi.sample_banded_model(a=500, b=300, size_N=400)\n",
    "# jacobi.plot(normalization=True)\n",
    "jacobi.hist(normalization=True)"
   ]
  },
  {
   "cell_type": "markdown",
   "metadata": {},
   "source": [
    "##### $\\beta=0$, i.i.d. $\\operatorname{Beta}(a,b)$\n",
    "Error if using `size_M1,2` as in full matrix model since `a,b = 0`"
   ]
  },
  {
   "cell_type": "code",
   "execution_count": null,
   "metadata": {},
   "outputs": [],
   "source": [
    "jacobi.beta = 0 \n",
    "# Reference measure is Beta(a, b)\n",
    "jacobi.sample_banded_model(a=6, b=4, size_N=1000)\n",
    "# jacobi.plot(normalization=True)\n",
    "jacobi.hist(normalization=True) # True/False: Beta(a, b)"
   ]
  },
  {
   "cell_type": "markdown",
   "metadata": {},
   "source": [
    "### (e) Ginibre $\\beta = 2$ only"
   ]
  },
  {
   "cell_type": "code",
   "execution_count": null,
   "metadata": {},
   "outputs": [],
   "source": [
    "from dppy.beta_ensembles import GinibreEnsemble\n",
    "\n",
    "ginibre = GinibreEnsemble() # beta must be 2 (default)"
   ]
  },
  {
   "cell_type": "code",
   "execution_count": null,
   "metadata": {},
   "outputs": [],
   "source": [
    "ginibre.sample_full_model(size_N=40)\n",
    "ginibre.plot(normalization=True)"
   ]
  },
  {
   "cell_type": "markdown",
   "metadata": {
    "colab_type": "text",
    "id": "zQeHhkxZCewN"
   },
   "source": [
    "## II. 2. Discrete DPPs\n",
    "\n",
    "### See [documentation](https://dppy.readthedocs.io/en/latest/finite_dpps/index.html)"
   ]
  },
  {
   "cell_type": "code",
   "execution_count": null,
   "metadata": {
    "colab": {},
    "colab_type": "code",
    "id": "aroOJu9vFXOn"
   },
   "outputs": [],
   "source": [
    "from dppy.finite_dpps import *"
   ]
  },
  {
   "cell_type": "markdown",
   "metadata": {
    "colab_type": "text",
    "id": "wYxj7IepX7ag"
   },
   "source": [
    "### Build inclusion kernel $\\mathbf{K}$\n",
    "\n",
    "$\\operatorname{DPP}(\\mathbf{K})$, with $\\mathbf{K}\\in\\mathbb{R}^{N\\times N}$ \n",
    "\n",
    "$$\n",
    "\t\\mathbf{K} = \\sum_{n=1}^{N} \\lambda_n u_n u_n^{\\top}\n",
    "$$"
   ]
  },
  {
   "cell_type": "code",
   "execution_count": null,
   "metadata": {
    "colab": {},
    "colab_type": "code",
    "id": "yx3ajc1HGxOf"
   },
   "outputs": [],
   "source": [
    "r, N = 10, 10 #\n",
    "\n",
    "# Random orthogonal vectors\n",
    "A = np.random.randn(r, N)\n",
    "eig_vecs, _ = la.qr(A.T, mode=\"economic\")\n",
    "# Random eigenvalues\n",
    "eig_vals = np.random.rand(r) # 0< <1\n",
    "#eig_vals = np.random.choice([0.0, 1.0], size=r)# 0 or 1 i.e. projection\n",
    "\n",
    "K = eig_vecs*eig_vals @ eig_vecs.T"
   ]
  },
  {
   "cell_type": "markdown",
   "metadata": {
    "colab_type": "text",
    "id": "O9PX6gXkYCLZ"
   },
   "source": [
    "### Declare a finite DPP in DPPy\n",
    "\n",
    "#### 1. Via eigen-decomposition"
   ]
  },
  {
   "cell_type": "code",
   "execution_count": null,
   "metadata": {
    "colab": {},
    "colab_type": "code",
    "id": "3uvzxKLEX2nA"
   },
   "outputs": [],
   "source": [
    "DPP = FiniteDPP(\"inclusion\", **{\"K_eig_dec\":(eig_vals, eig_vecs)})\n",
    "\n",
    "#print(DPP.K)"
   ]
  },
  {
   "cell_type": "markdown",
   "metadata": {
    "colab_type": "text",
    "id": "Vvkfom6rY250"
   },
   "source": [
    "#### 2. Via its kernel"
   ]
  },
  {
   "cell_type": "code",
   "execution_count": null,
   "metadata": {
    "colab": {},
    "colab_type": "code",
    "id": "10VrZaSsYYLd"
   },
   "outputs": [],
   "source": [
    "DPP = FiniteDPP(\"inclusion\", **{\"K\":K})"
   ]
  },
  {
   "cell_type": "markdown",
   "metadata": {
    "colab_type": "text",
    "id": "nCR9jFCja7He"
   },
   "source": [
    "### Other features"
   ]
  },
  {
   "cell_type": "markdown",
   "metadata": {
    "colab_type": "text",
    "id": "hgcvUD60uIYR"
   },
   "source": [
    "\n",
    "#### a. Compute the *other* kernel \n",
    "- $L=K(I-K)^{-1}$"
   ]
  },
  {
   "cell_type": "code",
   "execution_count": null,
   "metadata": {
    "colab": {},
    "colab_type": "code",
    "id": "faqpPEfofr5q"
   },
   "outputs": [],
   "source": [
    "DPP = FiniteDPP(\"inclusion\", **{\"K_eig_dec\":(eig_vals, eig_vecs)})\n",
    "print(DPP.L)\n",
    "DPP.compute_L()"
   ]
  },
  {
   "cell_type": "markdown",
   "metadata": {
    "colab_type": "text",
    "id": "jyxwUJOngJYn"
   },
   "source": [
    "- $K=L(I+L)^{-1}$"
   ]
  },
  {
   "cell_type": "code",
   "execution_count": null,
   "metadata": {
    "colab": {},
    "colab_type": "code",
    "id": "xMpISGYGgLYB"
   },
   "outputs": [],
   "source": [
    "eig_vals = 4*np.random.rand(r) # >=0\n",
    "DPP = FiniteDPP(\"marginal\", **{\"L_eig_dec\":(eig_vals, eig_vecs)})\n",
    "print(DPP.L)\n",
    "DPP.compute_K()"
   ]
  },
  {
   "cell_type": "markdown",
   "metadata": {
    "colab_type": "text",
    "id": "wHNVWQvFaVvr"
   },
   "source": [
    "#### b. Compute/plot the underlying kernel\n"
   ]
  },
  {
   "cell_type": "code",
   "execution_count": null,
   "metadata": {
    "colab": {},
    "colab_type": "code",
    "id": "e5OmsE9Rad5E"
   },
   "outputs": [],
   "source": [
    "eig_vals = np.random.rand(r) # 0< <1\n",
    "DPP = FiniteDPP(\"inclusion\", **{\"K_eig_dec\":(eig_vals, eig_vecs)})\n",
    "DPP.plot_kernel()"
   ]
  },
  {
   "cell_type": "markdown",
   "metadata": {
    "colab_type": "text",
    "id": "ljKpQ-ByWlGJ"
   },
   "source": [
    "### Exact sampling scheme\n",
    "\n",
    "- $\\operatorname{DPP}(\\mathbf{K})$, with $\\mathbf{K}\\in\\mathbb{R}^{N\\times N}$ \n",
    "\n",
    "$$\n",
    "\t\\mathbf{K} = \\sum_{n=1}^{N} \\lambda_n u_n u_n^{\\top}\n",
    "$$\n",
    "\n",
    "1. Draw independent $\\operatorname{\\mathcal{B}er}(\\lambda_n)$ for each eigenvector $u_n$ and store the selected ones in $\\tilde{U}$.\n",
    "2. Sample from the corresponding *projection* $\\operatorname{DPP}(\\tilde{U}\\tilde{U}^{\\top})$."
   ]
  },
  {
   "cell_type": "code",
   "execution_count": null,
   "metadata": {
    "colab": {},
    "colab_type": "code",
    "id": "obYv725EWRRH"
   },
   "outputs": [],
   "source": [
    "# Sample\n",
    "for _ in range(10):\n",
    "    DPP.sample_exact()\n",
    "\n",
    "DPP.list_of_samples"
   ]
  },
  {
   "cell_type": "code",
   "execution_count": null,
   "metadata": {
    "colab": {},
    "colab_type": "code",
    "id": "TGEWkkip5jyd"
   },
   "outputs": [],
   "source": [
    "DPP.flush_samples()\n",
    "DPP.list_of_samples"
   ]
  },
  {
   "cell_type": "markdown",
   "metadata": {
    "colab_type": "text",
    "id": "LHD6RhupmHCx"
   },
   "source": [
    "### MCMC sampling\n",
    "\n",
    "At state $S\\subset [N]$, propose $S'$ different from $S$ by at most 2 elements by picking\n",
    "\n",
    "#### 1. Local moves\n",
    "- $s \\sim \\mathcal{U}_{S},  t \\sim \\mathcal{U}_{[N]\\setminus S}$\n",
    "- $|S'\\Delta S| \\leq 1$"
   ]
  },
  {
   "cell_type": "code",
   "execution_count": null,
   "metadata": {
    "colab": {},
    "colab_type": "code",
    "id": "R1w9z2jnpH5o"
   },
   "outputs": [],
   "source": [
    "r, N = 4, 10\n",
    "A = np.random.randn(r, N)\n",
    "L = A.T.dot(A)\n",
    "DPP = FiniteDPP(\"marginal\", **{\"L\":L})"
   ]
  },
  {
   "cell_type": "markdown",
   "metadata": {
    "colab_type": "text",
    "id": "PtdUjquppLTY"
   },
   "source": [
    "##### a. Exchange: \n",
    "$$S' \\leftrightarrow S \\setminus s \\cup t$$"
   ]
  },
  {
   "cell_type": "code",
   "execution_count": null,
   "metadata": {
    "colab": {},
    "colab_type": "code",
    "id": "RseKLyBQneYR"
   },
   "outputs": [],
   "source": [
    "DPP.flush_samples()\n",
    "DPP.sample_mcmc(\"E\") #AD, ADE\n",
    "print(DPP.list_of_samples)"
   ]
  },
  {
   "cell_type": "code",
   "execution_count": null,
   "metadata": {},
   "outputs": [],
   "source": [
    "np.random.choice(20, size=10).tolist()"
   ]
  },
  {
   "cell_type": "markdown",
   "metadata": {
    "colab_type": "text",
    "id": "ovPrhOSJpNwc"
   },
   "source": [
    "##### b. Add-Delete:\n",
    "  - Add $S' \\leftrightarrow S \\cup t$\n",
    "  - Delete $S' \\leftrightarrow S \\setminus s$"
   ]
  },
  {
   "cell_type": "code",
   "execution_count": null,
   "metadata": {
    "colab": {},
    "colab_type": "code",
    "id": "eKX3B3-lpTzR"
   },
   "outputs": [],
   "source": [
    "DPP.flush_samples()\n",
    "DPP.sample_mcmc(\"AD\") #E, AD\n",
    "print(DPP.list_of_samples)"
   ]
  },
  {
   "cell_type": "code",
   "execution_count": null,
   "metadata": {
    "colab": {},
    "colab_type": "code",
    "id": "dya6CDfjqZWF"
   },
   "outputs": [],
   "source": [
    "A = np.random.randn(r, N)\n",
    "eig_vecs, _ = la.qr(A.T, mode=\"economic\")\n",
    "eig_vals = np.random.rand(r)\n",
    "\n",
    "DPP = FiniteDPP(\"inclusion\", **{\"K_eig_dec\":(eig_vals,eig_vecs)})\n",
    "DPP.sample_mcmc(\"AD\")\n",
    "print(DPP.list_of_samples)"
   ]
  },
  {
   "cell_type": "markdown",
   "metadata": {
    "colab_type": "text",
    "id": "uuuyMirtpQ_g"
   },
   "source": [
    "##### c. ADE"
   ]
  },
  {
   "cell_type": "code",
   "execution_count": null,
   "metadata": {
    "colab": {},
    "colab_type": "code",
    "id": "_vg14oDwpUfU"
   },
   "outputs": [],
   "source": [
    "DPP.flush_samples()\n",
    "DPP.sample_mcmc(\"AED\") #E, AD\n",
    "print(DPP.list_of_samples)"
   ]
  },
  {
   "cell_type": "markdown",
   "metadata": {
    "colab_type": "text",
    "id": "VImPJ3x2o4vN"
   },
   "source": [
    "#### 2. Zonotope"
   ]
  },
  {
   "cell_type": "code",
   "execution_count": null,
   "metadata": {
    "colab": {},
    "colab_type": "code",
    "id": "AubAvnRgpw97"
   },
   "outputs": [],
   "source": [
    "r, N = 4, 10\n",
    "A = np.random.randn(r, N)\n",
    "\n",
    "DPP = FiniteDPP(\"inclusion\", projection=True, **{\"A_zono\":A})\n",
    "\n",
    "DPP.sample_mcmc(\"zonotope\")\n",
    "print(DPP.list_of_samples)"
   ]
  },
  {
   "cell_type": "markdown",
   "metadata": {
    "colab_type": "text",
    "id": "QfaSOUqIZe84"
   },
   "source": [
    "## II. 3. Exotic DPPs\n",
    "### See [documentation](https://dppy.readthedocs.io/en/latest/exotic_dpps/index.html)\n",
    "\n",
    "- Uniform spanning trees\n",
    "- Plancherel\n",
    "- Descent Processes"
   ]
  },
  {
   "cell_type": "markdown",
   "metadata": {
    "colab_type": "text",
    "id": "JvZbZ2yFtgZS"
   },
   "source": [
    "### a. Uniform Spanning Trees\n",
    "\n",
    "#### Uniform spanning trees of a connected graph"
   ]
  },
  {
   "cell_type": "code",
   "execution_count": null,
   "metadata": {},
   "outputs": [],
   "source": [
    "import networkx as nx\n",
    "from dppy.exotic_dpps import UST"
   ]
  },
  {
   "cell_type": "code",
   "execution_count": null,
   "metadata": {
    "cellView": "both",
    "colab": {},
    "colab_type": "code",
    "id": "Fz_2vT5PteQb"
   },
   "outputs": [],
   "source": [
    "g = nx.Graph()\n",
    "edges = [(0,2), (0,3), (1,2), (1,4), (2,3), (2,4), (3,4)]\n",
    "g.add_edges_from(edges)\n",
    "\n",
    "ust = UST(g)\n",
    "\n",
    "ust.plot_graph()"
   ]
  },
  {
   "cell_type": "markdown",
   "metadata": {
    "colab_type": "text",
    "id": "7v6l0cYR8Sir"
   },
   "source": [
    "#### Display kernel"
   ]
  },
  {
   "cell_type": "code",
   "execution_count": null,
   "metadata": {
    "colab": {},
    "colab_type": "code",
    "id": "xWSCBX587zh2"
   },
   "outputs": [],
   "source": [
    "ust.compute_kernel()\n",
    "ust.plot_kernel()"
   ]
  },
  {
   "cell_type": "markdown",
   "metadata": {
    "colab_type": "text",
    "id": "UCP_YBDY7_EE"
   },
   "source": [
    "#### Sample a UST"
   ]
  },
  {
   "cell_type": "code",
   "execution_count": null,
   "metadata": {
    "colab": {},
    "colab_type": "code",
    "id": "IAaeF9rZ79vn"
   },
   "outputs": [],
   "source": [
    "for md in ('Aldous-Broder', 'Wilson', 'DPP_exact'):\n",
    "    ust.sample(md); ust.plot()"
   ]
  },
  {
   "cell_type": "markdown",
   "metadata": {
    "colab_type": "text",
    "id": "eH31R4T8kIDM"
   },
   "source": [
    "### b. (Poissonized) Plancherel\n",
    "\n",
    "#### Choose a $\\theta$ to sample a permutation $\\sigma \\in \\mathfrak{S}_N$ with $N \\sim \\mathcal{P}(\\theta)$"
   ]
  },
  {
   "cell_type": "code",
   "execution_count": null,
   "metadata": {},
   "outputs": [],
   "source": [
    "from dppy.exotic_dpps import PoissonizedPlancherel"
   ]
  },
  {
   "cell_type": "code",
   "execution_count": null,
   "metadata": {
    "colab": {},
    "colab_type": "code",
    "id": "ufSAqkEFkkde",
    "scrolled": false
   },
   "outputs": [],
   "source": [
    "theta = 1500 # Poisson parameter\n",
    "pp_dpp = PoissonizedPlancherel(theta=theta)\n",
    "pp_dpp.sample()\n",
    "pp_dpp.plot_diagram(True)"
   ]
  },
  {
   "cell_type": "markdown",
   "metadata": {
    "colab_type": "text",
    "id": "iv5EwTfmktBJ"
   },
   "source": [
    "### c. Carries Process\n",
    "\n",
    "#### Choose base $b$ to sample i.i.d. digits in $\\{0, \\dots, b-1\\}$"
   ]
  },
  {
   "cell_type": "code",
   "execution_count": null,
   "metadata": {},
   "outputs": [],
   "source": [
    "from dppy.exotic_dpps import CarriesProcess"
   ]
  },
  {
   "cell_type": "code",
   "execution_count": null,
   "metadata": {
    "cellView": "form",
    "colab": {},
    "colab_type": "code",
    "id": "T5LLms-plYR4"
   },
   "outputs": [],
   "source": [
    "#@title ##### Use a slider!\n",
    "\n",
    "_base = 3 #@param {type:\"slider\", min:0, max:10, step:1}\n",
    "_size = 63 #@param {type:\"slider\", min:0, max:1000, step:1}\n",
    "\n",
    "cp = CarriesProcess(_base)\n",
    "\n",
    "cp.sample(_size)\n",
    "\n",
    "cp.plot_vs_bernoullis()"
   ]
  },
  {
   "cell_type": "markdown",
   "metadata": {
    "colab_type": "text",
    "id": "vVHCEGLEW_VN"
   },
   "source": [
    "# III. Tools behind the scene\n",
    "\n",
    "---\n",
    "\n",
    "\n",
    " - Host collaborative project [GitHub](https://github.com/guilgautier/DPPy)\n",
    " - Documentation [![Documentation Status](https://readthedocs.org/projects/dppy/badge/?version=latest)](https://dppy.readthedocs.io/en/latest/?badge=latest)\n",
    " - Continuous integration [![Build Status](https://travis-ci.com/guilgautier/DPPy.svg?branch=master)](https://travis-ci.com/guilgautier/DPPy)\n",
    " \n",
    " \n",
    " #### Reproducible reasearch\n",
    " - [DPPy](https://github.com/guilgautier/DPPy)\n",
    " - companion paper [DPPy_paper](https://github.com/guilgautier/DPPy_paper)"
   ]
  },
  {
   "cell_type": "markdown",
   "metadata": {
    "colab_type": "text",
    "id": "S1pOXnbarps3"
   },
   "source": [
    "# IV.   Suggestions/needs?\n",
    "\n",
    "---\n",
    "\n",
    "# [Raise an issue on GitHub](https://github.com/guilgautier/DPPy/issues) :)\n",
    "\n",
    "*   \n",
    "*\n",
    "*\n",
    "*\n",
    "*\n",
    "*   \n",
    "*\n",
    "*\n",
    "*\n",
    "*"
   ]
  }
 ],
 "metadata": {
  "anaconda-cloud": {},
  "colab": {
   "collapsed_sections": [
    "Q12BjnKoucEq",
    "0eZbIbGwpKXw",
    "j8Z0KEZdxq_f",
    "ysnn747E04q8",
    "g4pzjDKhpBNd",
    "HYcJ2I1-pBNi",
    "KjMLG766JjlZ",
    "1GAlE1x7jIbb",
    "zgdCBYnUoukN",
    "5fIdJHxAoukP",
    "iU8f6mqHjKaH",
    "7AlsA7CEoxU-",
    "N_nwy3G7oxVC",
    "zQeHhkxZCewN",
    "wYxj7IepX7ag",
    "O9PX6gXkYCLZ",
    "ljKpQ-ByWlGJ",
    "nCR9jFCja7He",
    "hgcvUD60uIYR",
    "wHNVWQvFaVvr",
    "S1pOXnbarps3"
   ],
   "name": "Tuto_DPPy.ipynb",
   "provenance": [],
   "version": "0.3.2"
  },
  "kernelspec": {
   "display_name": "Python 3",
   "language": "python",
   "name": "python3"
  },
  "language_info": {
   "codemirror_mode": {
    "name": "ipython",
    "version": 3
   },
   "file_extension": ".py",
   "mimetype": "text/x-python",
   "name": "python",
   "nbconvert_exporter": "python",
   "pygments_lexer": "ipython3",
   "version": "3.7.0"
  },
  "toc": {
   "colors": {
    "hover_highlight": "#DAA520",
    "running_highlight": "#FF0000",
    "selected_highlight": "#FFD700"
   },
   "moveMenuLeft": true,
   "nav_menu": {
    "height": "512px",
    "width": "252px"
   },
   "navigate_menu": true,
   "number_sections": true,
   "sideBar": false,
   "threshold": 4,
   "toc_cell": true,
   "toc_position": {
    "height": "356.449px",
    "left": "694.489px",
    "right": "20px",
    "top": "120px",
    "width": "449.148px"
   },
   "toc_section_display": "block",
   "toc_window_display": false
  }
 },
 "nbformat": 4,
 "nbformat_minor": 1
}
