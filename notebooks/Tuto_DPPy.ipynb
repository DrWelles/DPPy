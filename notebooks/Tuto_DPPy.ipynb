{
 "cells": [
  {
   "cell_type": "markdown",
   "metadata": {
    "colab_type": "text",
    "id": "Z6Aldrqipwde"
   },
   "source": [
    "# [DPPy](https://github.com/guilgautier/DPPy) tutorial\n",
    "\n",
    "### First used for tutorial at Groupe de Travail DPPs, 10/29/2018 - Painlevé, Univ. Lille 1"
   ]
  },
  {
   "cell_type": "markdown",
   "metadata": {
    "colab_type": "text",
    "id": "nFdOcaqj9lSU"
   },
   "source": [
    "### Why are we here ?\n",
    "---\n",
    "\n",
    "#### DPPy\n",
    "  + Acronym: DPP + Python\n",
    "  + Python Toolbox for (sampling) DPPs\n",
    " \n",
    "#### Goal\n",
    "  + showcase the DPP samplers featured in DPPy\n",
    "  + present tools behind the scene \n",
    "  \n",
    "  [GitHub](https://github.com/guilgautier/DPPy)\n",
    "  [![Documentation Status](https://readthedocs.org/projects/dppy/badge/?version=latest)](https://dppy.readthedocs.io/en/latest/?badge=latest)\n",
    "  [![Build Status](https://travis-ci.com/guilgautier/DPPy.svg?branch=master)](https://travis-ci.com/guilgautier/DPPy)\n",
    "  + needs/suggestion for improvement"
   ]
  },
  {
   "cell_type": "markdown",
   "metadata": {
    "colab_type": "text",
    "id": "HCidatlrvyBB"
   },
   "source": [
    "## Program of the day\n",
    "---\n",
    "\n",
    "## I.   Check installation\n",
    "## II.   Sample DPPs with DPPy\n",
    "## III.   Tools behind the scene\n",
    "## IV.   Suggestions/needs"
   ]
  },
  {
   "cell_type": "markdown",
   "metadata": {
    "colab_type": "text",
    "id": "E0cVmV86s2js"
   },
   "source": [
    "# I. Check installation\n",
    "---\n",
    "\n",
    "#### [Instructions](https://github.com/guilgautier/DPPy#installation)\n",
    "\n",
    "### Any issue?\n",
    "\n",
    "- [Travis](https://travis-ci.com/guilgautier/DPPy) says **no** :-)\n",
    "    [![Build Status](https://travis-ci.com/guilgautier/DPPy.svg?branch=master)](https://travis-ci.com/guilgautier/DPPy)\n",
    "\n",
    "\n"
   ]
  },
  {
   "cell_type": "code",
   "execution_count": null,
   "metadata": {
    "colab": {},
    "colab_type": "code",
    "id": "_jrm6FSHvGhI"
   },
   "outputs": [],
   "source": [
    "#!rm -r DPPy\n",
    "#!git clone https://github.com/guilgautier/DPPy.git"
   ]
  },
  {
   "cell_type": "code",
   "execution_count": null,
   "metadata": {
    "colab": {},
    "colab_type": "code",
    "id": "e3LERVt0EjDD"
   },
   "outputs": [],
   "source": [
    "#!pip install scipy --upgrade\n",
    "#!pip install DPPy/."
   ]
  },
  {
   "cell_type": "code",
   "execution_count": null,
   "metadata": {
    "cellView": "form",
    "colab": {},
    "colab_type": "code",
    "id": "B_1lstAQghUr"
   },
   "outputs": [],
   "source": [
    "#@title ## Who is *using*:\n",
    "\n",
    "GitHub = 1 #@param {type:\"slider\", min:0, max:20, step:1}\n",
    "git = 1 #@param {type:\"slider\", min:0, max:20, step:1}\n",
    "none = 0 #@param {type:\"slider\", min:0, max:20, step:1}"
   ]
  },
  {
   "cell_type": "markdown",
   "metadata": {
    "colab_type": "text",
    "id": "vkccz9racEyF"
   },
   "source": [
    "### Ready?\n",
    "\n",
    "```bash\n",
    "(cd DPPy)\n",
    "jupyter notebook\n",
    "```"
   ]
  },
  {
   "cell_type": "markdown",
   "metadata": {},
   "source": [
    "# 💣💣💣💣\n",
    "# To interact with source code, please uncomment the following cell\n",
    "# 💣💣💣💣"
   ]
  },
  {
   "cell_type": "code",
   "execution_count": null,
   "metadata": {},
   "outputs": [],
   "source": [
    "%load_ext autoreload\n",
    "%autoreload 2\n",
    "\n",
    "import os\n",
    "import sys\n",
    "sys.path.insert(0, os.path.abspath('..'))"
   ]
  },
  {
   "cell_type": "markdown",
   "metadata": {
    "colab_type": "text",
    "id": "DW4H9Mr8yKZx"
   },
   "source": [
    "# II. Sample DPPs with DPPy\n",
    "----\n",
    "\n",
    "## 1. Continuous DPPs: $\\beta$-Ensembles\n",
    "  + Hermite, Laguerre, Jacobi, Circular, Ginibre\n",
    "  + matrix models (full/tridiagonal)\n",
    "\n",
    "## 2. Finite DPPs\n",
    "\n",
    "  + exact sampling\n",
    "  + approximate sampling\n",
    "\n",
    "## 3. Exotic DPPs\n",
    "  + Uniform Spanning Trees\n",
    "  + Plancherel (RSK, ...)\n",
    "  + Descent Processes"
   ]
  },
  {
   "cell_type": "markdown",
   "metadata": {
    "colab_type": "text",
    "id": "cLzz9GN1qRcC"
   },
   "source": [
    "## Main DPPy objects' methods\n",
    "\n",
    "#### `.sample()`\n",
    "#### `.plot()`"
   ]
  },
  {
   "cell_type": "markdown",
   "metadata": {
    "colab_type": "text",
    "id": "Q12BjnKoucEq"
   },
   "source": [
    "## II. 1. Continuous DPPs: $\\beta$-Ensembles\n",
    "\n",
    "### See [documentation](https://dppy.readthedocs.io/en/latest/continuous_dpps/index.html)\n",
    "\n",
    "$$\n",
    "(x_1,\\dots,x_N) \n",
    "\t\\sim \n",
    "\t\t\\frac{1}{Z_{N,\\beta}}\n",
    "\t\t\\left|\\Delta(x_1,\\dots,x_N)\\right|^{\\beta}\n",
    "\t\t\\prod_{i= 1}^N \n",
    "\t\t\t\\mu(d x_i)\n",
    "$$\n",
    "\n",
    "- Random matrix models\n",
    "- $\\beta=2$: projection DPPs"
   ]
  },
  {
   "cell_type": "markdown",
   "metadata": {
    "colab_type": "text",
    "id": "0eZbIbGwpKXw"
   },
   "source": [
    "### d. Circular"
   ]
  },
  {
   "cell_type": "code",
   "execution_count": null,
   "metadata": {
    "colab": {},
    "colab_type": "code",
    "id": "8Trgn-bRpBNc"
   },
   "outputs": [],
   "source": [
    "from dppy.beta_ensembles import CircularEnsemble\n",
    "\n",
    "circular = CircularEnsemble(beta=2) # beta must be >=0 integer, default beta=2"
   ]
  },
  {
   "cell_type": "markdown",
   "metadata": {
    "colab_type": "text",
    "id": "j8Z0KEZdxq_f"
   },
   "source": [
    "#### Visualization of the cristallization as $\\beta\\in \\mathbb{N}^*$ increases "
   ]
  },
  {
   "cell_type": "code",
   "execution_count": null,
   "metadata": {
    "cellView": "form",
    "colab": {},
    "colab_type": "code",
    "id": "NKxoidomyIT5"
   },
   "outputs": [],
   "source": [
    "#@title ##### Use a slider! (on G-Colab only!!)\n",
    "\n",
    "_beta = 2 #@param {type:\"slider\", min:0, max:100, step:1}\n",
    "_size = 30 #@param {type:\"slider\", min:0, max:100, step:1}\n",
    "\n",
    "circular.beta = _beta\n",
    "circular.sample_banded_model(size_N=_size)\n",
    "circular.plot()"
   ]
  },
  {
   "cell_type": "markdown",
   "metadata": {
    "colab_type": "text",
    "id": "ysnn747E04q8"
   },
   "source": [
    "##### Or simply a loop"
   ]
  },
  {
   "cell_type": "code",
   "execution_count": null,
   "metadata": {
    "colab": {},
    "colab_type": "code",
    "id": "BXhZcGE-xVtR"
   },
   "outputs": [],
   "source": [
    "for b in (0, 1, 5, 10):\n",
    "    circular.beta = b\n",
    "    circular.sample_banded_model(size_N=30)\n",
    "    circular.plot()"
   ]
  },
  {
   "cell_type": "markdown",
   "metadata": {
    "colab_type": "text",
    "id": "g4pzjDKhpBNd"
   },
   "source": [
    "#### Sample using full matrix model, $\\beta \\in \\{0, 1, 2, 4\\}$"
   ]
  },
  {
   "cell_type": "code",
   "execution_count": null,
   "metadata": {
    "colab": {},
    "colab_type": "code",
    "id": "nOHlvFddpBNe"
   },
   "outputs": [],
   "source": [
    "circular.beta = 2\n",
    "# 1. Plot the eigenvalues, they lie on the unit circle\n",
    "circular.sample_full_model(size_N=30, haar_mode='Hermite') # Sample # haar_mode = 'Hermite'/'QR'\n",
    "circular.plot() # Plot of the eigenvalues\n",
    "\n",
    "# 2. Histogram of the angle of more points, should look uniform on [0,2pi]\n",
    "circular.sample_full_model(size_N=1000, haar_mode='Hermite') # Sample\n",
    "circular.hist()"
   ]
  },
  {
   "cell_type": "markdown",
   "metadata": {
    "colab_type": "text",
    "id": "HYcJ2I1-pBNi"
   },
   "source": [
    "#### Sample using banded (quindiagonal) matrix model, $\\beta \\in \\mathbb{N}^*$"
   ]
  },
  {
   "cell_type": "code",
   "execution_count": null,
   "metadata": {
    "colab": {},
    "colab_type": "code",
    "id": "FjFT3cEKpBNi"
   },
   "outputs": [],
   "source": [
    "circular.beta = 8\n",
    "circular.sample_banded_model(size_N=30)\n",
    "circular.plot()\n",
    "\n",
    "circular.sample_banded_model(size_N=1000)\n",
    "circular.hist()"
   ]
  },
  {
   "cell_type": "markdown",
   "metadata": {},
   "source": [
    "##### $\\beta=0$, i.i.d. uniform points on the unit circle"
   ]
  },
  {
   "cell_type": "code",
   "execution_count": null,
   "metadata": {},
   "outputs": [],
   "source": [
    "circular.beta = 0\n",
    "circular.sample_banded_model(size_N=30)\n",
    "circular.plot()"
   ]
  },
  {
   "cell_type": "markdown",
   "metadata": {
    "colab_type": "text",
    "id": "KjMLG766JjlZ"
   },
   "source": [
    "### a. Hermite $\\mu = \\mathcal{N}$"
   ]
  },
  {
   "cell_type": "code",
   "execution_count": null,
   "metadata": {
    "colab": {},
    "colab_type": "code",
    "id": "3C6o1uAhjFgV"
   },
   "outputs": [],
   "source": [
    "from dppy.beta_ensembles import HermiteEnsemble\n",
    "\n",
    "hermite = HermiteEnsemble(beta=4) # beta can be >=0, default beta=2"
   ]
  },
  {
   "cell_type": "markdown",
   "metadata": {
    "colab_type": "text",
    "id": "BvdJ1cAZl0wU"
   },
   "source": [
    "#### Sample using full matrix model, $\\beta \\in \\{0, 1, 2, 4\\}$"
   ]
  },
  {
   "cell_type": "code",
   "execution_count": null,
   "metadata": {
    "colab": {},
    "colab_type": "code",
    "id": "3C6o1uAhjFgV"
   },
   "outputs": [],
   "source": [
    "hermite.sample_full_model(size_N=500)\n",
    "# hermite.plot(normalization=True)\n",
    "hermite.hist(normalization=True)"
   ]
  },
  {
   "cell_type": "markdown",
   "metadata": {},
   "source": [
    "###### To compare with the sampling speed of the tridiagonal model simply use"
   ]
  },
  {
   "cell_type": "code",
   "execution_count": null,
   "metadata": {
    "colab": {},
    "colab_type": "code",
    "id": "3C6o1uAhjFgV"
   },
   "outputs": [],
   "source": [
    "hermite.sample_banded_model(size_N=500)\n",
    "hermite.hist(normalization=True)"
   ]
  },
  {
   "cell_type": "markdown",
   "metadata": {
    "colab_type": "text",
    "id": "UdVcX5zOl9Dl"
   },
   "source": [
    "#### Sample using banded (tridiagonal) matrix model $\\beta \\in \\mathbb{R}_+$ "
   ]
  },
  {
   "cell_type": "code",
   "execution_count": null,
   "metadata": {
    "colab": {},
    "colab_type": "code",
    "id": "xb6Rv_i3l9bt"
   },
   "outputs": [],
   "source": [
    "# beta can be >= 0, default beta=2\n",
    "hermite.beta= 5.43 # Or hermite = HermiteEnsemble(beta=5.43)\n",
    "# Reference measure is N(mu, sigma^2)\n",
    "hermite.sample_banded_model(loc=0.0, scale=1.0, size_N=500)\n",
    "# hermite.plot(normalization=True)\n",
    "hermite.hist(normalization=True)"
   ]
  },
  {
   "cell_type": "markdown",
   "metadata": {},
   "source": [
    "##### $\\beta=0$, i.i.d. Gaussian"
   ]
  },
  {
   "cell_type": "code",
   "execution_count": null,
   "metadata": {},
   "outputs": [],
   "source": [
    "# beta can be >= 0, default beta=2\n",
    "hermite.beta= 0 # Or hermite = HermiteEnsemble(beta=5.43)\n",
    "# Reference measure is N(mu, sigma^2)\n",
    "hermite.sample_banded_model(size_N=1000)\n",
    "# hermite.plot(normalization=True)\n",
    "hermite.hist(normalization=True) # True: N(0,2) as in full matrix model"
   ]
  },
  {
   "cell_type": "markdown",
   "metadata": {
    "colab_type": "text",
    "id": "1GAlE1x7jIbb"
   },
   "source": [
    "\n",
    "### b. Laguerre $\\mu = \\mathcal{\\Gamma}$"
   ]
  },
  {
   "cell_type": "code",
   "execution_count": null,
   "metadata": {},
   "outputs": [],
   "source": [
    "from dppy.beta_ensembles import LaguerreEnsemble\n",
    "\n",
    "laguerre = LaguerreEnsemble(beta=1) # beta can be >= 0, default beta=2"
   ]
  },
  {
   "cell_type": "markdown",
   "metadata": {
    "colab_type": "text",
    "id": "zgdCBYnUoukN"
   },
   "source": [
    "#### Sample using full matrix model, $\\beta \\in \\{0, 1, 2, 4\\}$"
   ]
  },
  {
   "cell_type": "code",
   "execution_count": null,
   "metadata": {
    "colab": {},
    "colab_type": "code",
    "id": "oxOEi1y1oxU-"
   },
   "outputs": [],
   "source": [
    "laguerre.sample_full_model(size_N=500, size_M=800) # M >= N\n",
    "# laguerre.plot(normalization=True)\n",
    "laguerre.hist(normalization=True)"
   ]
  },
  {
   "cell_type": "markdown",
   "metadata": {},
   "source": [
    "###### To compare with the sampling speed of the tridiagonal model simply use"
   ]
  },
  {
   "cell_type": "code",
   "execution_count": null,
   "metadata": {
    "colab": {},
    "colab_type": "code",
    "id": "oxOEi1y1oxU-"
   },
   "outputs": [],
   "source": [
    "laguerre.sample_banded_model(size_N=500, size_M=800)\n",
    "laguerre.hist(normalization=True)"
   ]
  },
  {
   "cell_type": "markdown",
   "metadata": {
    "colab_type": "text",
    "id": "5fIdJHxAoukP"
   },
   "source": [
    "#### Sample using banded (tridiagonal) matrix model, $\\beta \\in \\mathbb{R}_+$"
   ]
  },
  {
   "cell_type": "code",
   "execution_count": null,
   "metadata": {
    "colab": {},
    "colab_type": "code",
    "id": "4H8Zn19xoukQ"
   },
   "outputs": [],
   "source": [
    "laguerre. beta = 2.98 # Or laguerre = LaguerreEnsemble(beta=2.98)\n",
    "# Reference measure is Gamma(k, theta)\n",
    "laguerre.sample_banded_model(shape=600, scale=2.0, size_N=400)\n",
    "# laguerre.plot(normalization=True)\n",
    "laguerre.hist(normalization=True)"
   ]
  },
  {
   "cell_type": "markdown",
   "metadata": {},
   "source": [
    "##### $\\beta=0$, i.i.d. $\\Gamma(k,\\theta)$\n",
    "Error if using `size_M` as in full matrix model since `shape= k = 0`"
   ]
  },
  {
   "cell_type": "code",
   "execution_count": null,
   "metadata": {},
   "outputs": [],
   "source": [
    "laguerre.beta = 0 \n",
    "# Reference measure is Gamma(k, theta)\n",
    "laguerre.sample_banded_model(shape=6, scale=4.0, size_N=1000)\n",
    "# laguerre.plot(normalization=True)\n",
    "laguerre.hist(normalization=True) # True: Gamma(shape, 2) as in full matrix model"
   ]
  },
  {
   "cell_type": "markdown",
   "metadata": {
    "colab_type": "text",
    "id": "iU8f6mqHjKaH"
   },
   "source": [
    "### c. Jacobi $\\mu = \\operatorname{Beta}$"
   ]
  },
  {
   "cell_type": "code",
   "execution_count": null,
   "metadata": {
    "colab": {},
    "colab_type": "code",
    "id": "zEpR6Tf_oxU8"
   },
   "outputs": [],
   "source": [
    "from dppy.beta_ensembles import JacobiEnsemble\n",
    "\n",
    "jacobi = JacobiEnsemble(beta=2) # beta can be >= 0, default beta=2"
   ]
  },
  {
   "cell_type": "markdown",
   "metadata": {
    "colab_type": "text",
    "id": "7AlsA7CEoxU-"
   },
   "source": [
    "#### Sample using full matrix model,  $\\beta \\in \\{0, 1, 2, 4\\}$"
   ]
  },
  {
   "cell_type": "code",
   "execution_count": null,
   "metadata": {
    "colab": {},
    "colab_type": "code",
    "id": "zEpR6Tf_oxU8"
   },
   "outputs": [],
   "source": [
    "jacobi.sample_full_model(size_N=400, size_M1=500, size_M2=600) # M_1, M_2 >= N\n",
    "# jacobi.plot(normalization=True)\n",
    "jacobi.hist(normalization=True)"
   ]
  },
  {
   "cell_type": "markdown",
   "metadata": {},
   "source": [
    "###### To compare with the sampling speed of the tridiagonal model simply use"
   ]
  },
  {
   "cell_type": "code",
   "execution_count": null,
   "metadata": {
    "colab": {},
    "colab_type": "code",
    "id": "zEpR6Tf_oxU8"
   },
   "outputs": [],
   "source": [
    "jacobi.sample_banded_model(size_N=400, size_M1=500, size_M2=600)\n",
    "jacobi.hist(normalization=True)"
   ]
  },
  {
   "cell_type": "markdown",
   "metadata": {
    "colab_type": "text",
    "id": "N_nwy3G7oxVC"
   },
   "source": [
    "#### Sample using banded (tridiagonal) matrix model,  $\\beta \\in \\mathbb{R}_+$"
   ]
  },
  {
   "cell_type": "code",
   "execution_count": null,
   "metadata": {
    "colab": {},
    "colab_type": "code",
    "id": "L4vvZE09oxVD"
   },
   "outputs": [],
   "source": [
    "# beta can be >= 0, default beta=2\n",
    "jacobi.beta = 3.14 # Or jacobi = JacobiEnsemble(beta=3.14) \n",
    "# Reference measure is Beta(a,b)\n",
    "jacobi.sample_banded_model(a=500, b=300, size_N=400)\n",
    "# jacobi.plot(normalization=True)\n",
    "jacobi.hist(normalization=True)"
   ]
  },
  {
   "cell_type": "markdown",
   "metadata": {},
   "source": [
    "##### $\\beta=0$, i.i.d. $\\operatorname{Beta}(a,b)$\n",
    "Error if using `size_M1,2` as in full matrix model since `a,b = 0`"
   ]
  },
  {
   "cell_type": "code",
   "execution_count": null,
   "metadata": {},
   "outputs": [],
   "source": [
    "jacobi.beta = 0 \n",
    "# Reference measure is Beta(a, b)\n",
    "jacobi.sample_banded_model(a=6, b=4, size_N=1000)\n",
    "# jacobi.plot(normalization=True)\n",
    "jacobi.hist(normalization=True) # True/False: Beta(a, b)"
   ]
  },
  {
   "cell_type": "markdown",
   "metadata": {},
   "source": [
    "### (e) Ginibre $\\beta = 2$ only"
   ]
  },
  {
   "cell_type": "code",
   "execution_count": null,
   "metadata": {},
   "outputs": [],
   "source": [
    "from dppy.beta_ensembles import GinibreEnsemble\n",
    "\n",
    "ginibre = GinibreEnsemble() # beta must be 2 (default)"
   ]
  },
  {
   "cell_type": "code",
   "execution_count": null,
   "metadata": {},
   "outputs": [],
   "source": [
    "ginibre.sample_full_model(size_N=40)\n",
    "ginibre.plot(normalization=True)"
   ]
  },
  {
   "cell_type": "markdown",
   "metadata": {
    "colab_type": "text",
    "id": "zQeHhkxZCewN"
   },
   "source": [
    "## II. 2. Discrete DPPs\n",
    "\n",
    "### See [documentation](https://dppy.readthedocs.io/en/latest/finite_dpps/index.html)"
   ]
  },
  {
   "cell_type": "code",
   "execution_count": null,
   "metadata": {
    "colab": {},
    "colab_type": "code",
    "id": "aroOJu9vFXOn"
   },
   "outputs": [],
   "source": [
    "from dppy.finite_dpps import *"
   ]
  },
  {
   "cell_type": "markdown",
   "metadata": {
    "colab_type": "text",
    "id": "wYxj7IepX7ag"
   },
   "source": [
    "### Build inclusion kernel $\\mathbf{K}$\n",
    "\n",
    "$\\operatorname{DPP}(\\mathbf{K})$, with $\\mathbf{K}\\in\\mathbb{R}^{N\\times N}$ \n",
    "\n",
    "$$\n",
    "\t\\mathbf{K} = \\sum_{n=1}^{N} \\lambda_n u_n u_n^{\\top}\n",
    "$$"
   ]
  },
  {
   "cell_type": "code",
   "execution_count": null,
   "metadata": {
    "colab": {},
    "colab_type": "code",
    "id": "yx3ajc1HGxOf"
   },
   "outputs": [],
   "source": [
    "r, N = 10, 10 #\n",
    "\n",
    "# Random orthogonal vectors\n",
    "A = np.random.randn(r, N)\n",
    "eig_vecs, _ = la.qr(A.T, mode=\"economic\")\n",
    "# Random eigenvalues\n",
    "eig_vals = np.random.rand(r) # 0< <1\n",
    "#eig_vals = np.random.choice([0.0, 1.0], size=r)# 0 or 1 i.e. projection\n",
    "\n",
    "K = eig_vecs*eig_vals @ eig_vecs.T"
   ]
  },
  {
   "cell_type": "markdown",
   "metadata": {
    "colab_type": "text",
    "id": "O9PX6gXkYCLZ"
   },
   "source": [
    "### Declare a finite DPP in DPPy\n",
    "\n",
    "#### 1. Via eigen-decomposition"
   ]
  },
  {
   "cell_type": "code",
   "execution_count": null,
   "metadata": {
    "colab": {},
    "colab_type": "code",
    "id": "3uvzxKLEX2nA"
   },
   "outputs": [],
   "source": [
    "DPP = FiniteDPP(\"inclusion\", **{\"K_eig_dec\":(eig_vals, eig_vecs)})\n",
    "\n",
    "#print(DPP.K)"
   ]
  },
  {
   "cell_type": "markdown",
   "metadata": {
    "colab_type": "text",
    "id": "Vvkfom6rY250"
   },
   "source": [
    "#### 2. Via its kernel"
   ]
  },
  {
   "cell_type": "code",
   "execution_count": null,
   "metadata": {
    "colab": {},
    "colab_type": "code",
    "id": "10VrZaSsYYLd"
   },
   "outputs": [],
   "source": [
    "DPP = FiniteDPP(\"inclusion\", **{\"K\":K})"
   ]
  },
  {
   "cell_type": "markdown",
   "metadata": {
    "colab_type": "text",
    "id": "nCR9jFCja7He"
   },
   "source": [
    "### Other features"
   ]
  },
  {
   "cell_type": "markdown",
   "metadata": {
    "colab_type": "text",
    "id": "hgcvUD60uIYR"
   },
   "source": [
    "\n",
    "#### a. Compute the *other* kernel \n",
    "- $L=K(I-K)^{-1}$"
   ]
  },
  {
   "cell_type": "code",
   "execution_count": null,
   "metadata": {
    "colab": {},
    "colab_type": "code",
    "id": "faqpPEfofr5q"
   },
   "outputs": [],
   "source": [
    "DPP = FiniteDPP(\"inclusion\", **{\"K_eig_dec\":(eig_vals, eig_vecs)})\n",
    "print(DPP.L)\n",
    "DPP.compute_L()"
   ]
  },
  {
   "cell_type": "markdown",
   "metadata": {
    "colab_type": "text",
    "id": "jyxwUJOngJYn"
   },
   "source": [
    "- $K=L(I+L)^{-1}$"
   ]
  },
  {
   "cell_type": "code",
   "execution_count": null,
   "metadata": {
    "colab": {},
    "colab_type": "code",
    "id": "xMpISGYGgLYB"
   },
   "outputs": [],
   "source": [
    "eig_vals = 4*np.random.rand(r) # >=0\n",
    "DPP = FiniteDPP(\"marginal\", **{\"L_eig_dec\":(eig_vals, eig_vecs)})\n",
    "print(DPP.L)\n",
    "DPP.compute_K()"
   ]
  },
  {
   "cell_type": "markdown",
   "metadata": {
    "colab_type": "text",
    "id": "wHNVWQvFaVvr"
   },
   "source": [
    "#### b. Compute/plot the underlying kernel\n"
   ]
  },
  {
   "cell_type": "code",
   "execution_count": null,
   "metadata": {
    "colab": {},
    "colab_type": "code",
    "id": "e5OmsE9Rad5E"
   },
   "outputs": [],
   "source": [
    "eig_vals = np.random.rand(r) # 0< <1\n",
    "DPP = FiniteDPP(\"inclusion\", **{\"K_eig_dec\":(eig_vals, eig_vecs)})\n",
    "DPP.plot_kernel()"
   ]
  },
  {
   "cell_type": "markdown",
   "metadata": {
    "colab_type": "text",
    "id": "ljKpQ-ByWlGJ"
   },
   "source": [
    "### Exact sampling scheme\n",
    "\n",
    "- $\\operatorname{DPP}(\\mathbf{K})$, with $\\mathbf{K}\\in\\mathbb{R}^{N\\times N}$ \n",
    "\n",
    "$$\n",
    "\t\\mathbf{K} = \\sum_{n=1}^{N} \\lambda_n u_n u_n^{\\top}\n",
    "$$\n",
    "\n",
    "1. Draw independent $\\operatorname{\\mathcal{B}er}(\\lambda_n)$ for each eigenvector $u_n$ and store the selected ones in $\\tilde{U}$.\n",
    "2. Sample from the corresponding *projection* $\\operatorname{DPP}(\\tilde{U}\\tilde{U}^{\\top})$."
   ]
  },
  {
   "cell_type": "code",
   "execution_count": null,
   "metadata": {
    "colab": {},
    "colab_type": "code",
    "id": "obYv725EWRRH"
   },
   "outputs": [],
   "source": [
    "# Sample\n",
    "for _ in range(10):\n",
    "  DPP.sample_exact()\n",
    "\n",
    "DPP.list_of_samples"
   ]
  },
  {
   "cell_type": "code",
   "execution_count": null,
   "metadata": {
    "colab": {},
    "colab_type": "code",
    "id": "TGEWkkip5jyd"
   },
   "outputs": [],
   "source": [
    "DPP.flush_samples()\n",
    "DPP.list_of_samples"
   ]
  },
  {
   "cell_type": "markdown",
   "metadata": {
    "colab_type": "text",
    "id": "LHD6RhupmHCx"
   },
   "source": [
    "### MCMC sampling\n",
    "\n",
    "At state $S\\subset [N]$, propose $S'$ different from $S$ by at most 2 elements by picking\n",
    "\n",
    "#### 1. Local moves\n",
    "- $s \\sim \\mathcal{U}_{S},  t \\sim \\mathcal{U}_{[N]\\setminus S}$\n",
    "- $|S'\\Delta S| \\leq 1$"
   ]
  },
  {
   "cell_type": "code",
   "execution_count": null,
   "metadata": {
    "colab": {},
    "colab_type": "code",
    "id": "R1w9z2jnpH5o"
   },
   "outputs": [],
   "source": [
    "r, N = 4, 10\n",
    "A = np.random.randn(r, N)\n",
    "L = A.T.dot(A)\n",
    "DPP = FiniteDPP(\"marginal\", **{\"L\":L})"
   ]
  },
  {
   "cell_type": "markdown",
   "metadata": {
    "colab_type": "text",
    "id": "PtdUjquppLTY"
   },
   "source": [
    "##### a. Exchange: \n",
    "$$S' \\leftrightarrow S \\setminus s \\cup t$$"
   ]
  },
  {
   "cell_type": "code",
   "execution_count": null,
   "metadata": {
    "colab": {},
    "colab_type": "code",
    "id": "RseKLyBQneYR"
   },
   "outputs": [],
   "source": [
    "DPP.flush_samples()\n",
    "DPP.sample_mcmc(\"E\") #AD, ADE\n",
    "print(DPP.list_of_samples)"
   ]
  },
  {
   "cell_type": "markdown",
   "metadata": {
    "colab_type": "text",
    "id": "ovPrhOSJpNwc"
   },
   "source": [
    "##### b. Add-Delete:\n",
    "  - Add $S' \\leftrightarrow S \\cup t$\n",
    "  - Delete $S' \\leftrightarrow S \\setminus s$"
   ]
  },
  {
   "cell_type": "code",
   "execution_count": null,
   "metadata": {
    "colab": {},
    "colab_type": "code",
    "id": "eKX3B3-lpTzR"
   },
   "outputs": [],
   "source": [
    "DPP.flush_samples()\n",
    "DPP.sample_mcmc(\"AD\") #E, AD\n",
    "print(DPP.list_of_samples)"
   ]
  },
  {
   "cell_type": "code",
   "execution_count": null,
   "metadata": {
    "colab": {},
    "colab_type": "code",
    "id": "dya6CDfjqZWF"
   },
   "outputs": [],
   "source": [
    "A = np.random.randn(r, N)\n",
    "eig_vecs, _ = la.qr(A.T, mode=\"economic\")\n",
    "eig_vals = np.random.rand(r)\n",
    "\n",
    "DPP = FiniteDPP(\"inclusion\", **{\"K_eig_dec\":(eig_vals,eig_vecs)})\n",
    "DPP.sample_mcmc(\"AD\")\n",
    "print(DPP.list_of_samples)"
   ]
  },
  {
   "cell_type": "markdown",
   "metadata": {
    "colab_type": "text",
    "id": "uuuyMirtpQ_g"
   },
   "source": [
    "##### c. ADE"
   ]
  },
  {
   "cell_type": "code",
   "execution_count": null,
   "metadata": {
    "colab": {},
    "colab_type": "code",
    "id": "_vg14oDwpUfU"
   },
   "outputs": [],
   "source": [
    "DPP.flush_samples()\n",
    "DPP.sample_mcmc(\"AED\") #E, AD\n",
    "print(DPP.list_of_samples)"
   ]
  },
  {
   "cell_type": "markdown",
   "metadata": {
    "colab_type": "text",
    "id": "VImPJ3x2o4vN"
   },
   "source": [
    "#### 2. Zonotope"
   ]
  },
  {
   "cell_type": "code",
   "execution_count": null,
   "metadata": {
    "colab": {},
    "colab_type": "code",
    "id": "AubAvnRgpw97"
   },
   "outputs": [],
   "source": [
    "r, N = 4, 10\n",
    "A = np.random.randn(r, N)\n",
    "\n",
    "DPP = FiniteDPP(\"inclusion\", projection=True, **{\"A_zono\":A})\n",
    "\n",
    "DPP.sample_mcmc(\"zonotope\")\n",
    "print(DPP.list_of_samples)"
   ]
  },
  {
   "cell_type": "markdown",
   "metadata": {
    "colab_type": "text",
    "id": "QfaSOUqIZe84"
   },
   "source": [
    "## II. 3. Exotic DPPs\n",
    "### See [documentation](https://dppy.readthedocs.io/en/latest/exotic_dpps/index.html)\n",
    "\n",
    "- Uniform spanning trees\n",
    "- Plancherel\n",
    "- Descent Processes"
   ]
  },
  {
   "cell_type": "code",
   "execution_count": null,
   "metadata": {
    "colab": {},
    "colab_type": "code",
    "id": "WQsY-AEo5IA8"
   },
   "outputs": [],
   "source": [
    "from dppy.exotic_dpps import *"
   ]
  },
  {
   "cell_type": "markdown",
   "metadata": {
    "colab_type": "text",
    "id": "JvZbZ2yFtgZS"
   },
   "source": [
    "### a. Uniform Spanning Trees\n",
    "\n",
    "#### Uniform spanning trees of a connected graph"
   ]
  },
  {
   "cell_type": "code",
   "execution_count": null,
   "metadata": {
    "cellView": "both",
    "colab": {},
    "colab_type": "code",
    "id": "Fz_2vT5PteQb"
   },
   "outputs": [],
   "source": [
    "g = nx.Graph()\n",
    "edges = [(0,2), (0,3), (1,2), (1,4), (2,3), (2,4), (3,4)]\n",
    "g.add_edges_from(edges)\n",
    "\n",
    "ust = UST(g)\n",
    "\n",
    "ust.plot_graph()"
   ]
  },
  {
   "cell_type": "markdown",
   "metadata": {
    "colab_type": "text",
    "id": "7v6l0cYR8Sir"
   },
   "source": [
    "#### Display kernel"
   ]
  },
  {
   "cell_type": "code",
   "execution_count": null,
   "metadata": {
    "colab": {},
    "colab_type": "code",
    "id": "xWSCBX587zh2"
   },
   "outputs": [],
   "source": [
    "ust.compute_kernel()\n",
    "ust.plot_kernel()"
   ]
  },
  {
   "cell_type": "markdown",
   "metadata": {
    "colab_type": "text",
    "id": "UCP_YBDY7_EE"
   },
   "source": [
    "#### Sample a UST"
   ]
  },
  {
   "cell_type": "code",
   "execution_count": null,
   "metadata": {
    "colab": {},
    "colab_type": "code",
    "id": "IAaeF9rZ79vn"
   },
   "outputs": [],
   "source": [
    "for md in ('Aldous-Broder', 'Wilson', 'DPP_exact'):\n",
    "    ust.sample(md); ust.plot()"
   ]
  },
  {
   "cell_type": "markdown",
   "metadata": {
    "colab_type": "text",
    "id": "eH31R4T8kIDM"
   },
   "source": [
    "### b. (Poissonized) Plancherel\n",
    "\n",
    "#### Choose a $\\theta$ to sample a permutation $\\sigma \\in \\mathfrak{S}_N$ with $N \\sim \\mathcal{P}(\\theta)$"
   ]
  },
  {
   "cell_type": "code",
   "execution_count": null,
   "metadata": {
    "colab": {},
    "colab_type": "code",
    "id": "ufSAqkEFkkde",
    "scrolled": true
   },
   "outputs": [],
   "source": [
    "theta=150 # Poisson parameter\n",
    "pp_dpp = PoissonizedPlancherel(theta=theta)\n",
    "pp_dpp.sample()\n",
    "pp_dpp.plot()"
   ]
  },
  {
   "cell_type": "markdown",
   "metadata": {
    "colab_type": "text",
    "id": "iv5EwTfmktBJ"
   },
   "source": [
    "### c. Carries Process\n",
    "\n",
    "#### Choose base $b$ to sample i.i.d. digits in $\\{0, \\dots, b-1\\}$"
   ]
  },
  {
   "cell_type": "code",
   "execution_count": null,
   "metadata": {
    "cellView": "form",
    "colab": {},
    "colab_type": "code",
    "id": "T5LLms-plYR4"
   },
   "outputs": [],
   "source": [
    "#@title ##### Use a slider!\n",
    "\n",
    "_base = 3 #@param {type:\"slider\", min:0, max:10, step:1}\n",
    "_size = 63 #@param {type:\"slider\", min:0, max:1000, step:1}\n",
    "\n",
    "cp = CarriesProcess(_base)\n",
    "\n",
    "cp.sample(_size)\n",
    "\n",
    "cp.plot_vs_bernoullis()\n",
    "plt.show()"
   ]
  },
  {
   "cell_type": "markdown",
   "metadata": {
    "colab_type": "text",
    "id": "vVHCEGLEW_VN"
   },
   "source": [
    "# III. Tools behind the scene\n",
    "\n",
    "---\n",
    "\n",
    "\n",
    " - Host collaborative project [GitHub](https://github.com/guilgautier/DPPy)\n",
    " - Documentation [![Documentation Status](https://readthedocs.org/projects/dppy/badge/?version=latest)](https://dppy.readthedocs.io/en/latest/?badge=latest)\n",
    " - Continuous integration [![Build Status](https://travis-ci.com/guilgautier/DPPy.svg?branch=master)](https://travis-ci.com/guilgautier/DPPy)\n",
    " \n",
    " \n",
    " #### Reproducible reasearch\n",
    " - [DPPy](https://github.com/guilgautier/DPPy)\n",
    " - companion paper [DPPy_paper](https://github.com/guilgautier/DPPy_paper)"
   ]
  },
  {
   "cell_type": "markdown",
   "metadata": {
    "colab_type": "text",
    "id": "S1pOXnbarps3"
   },
   "source": [
    "# IV.   Suggestions/needs?\n",
    "\n",
    "---\n",
    "\n",
    "# [Raise an issue on GitHub](https://github.com/guilgautier/DPPy/issues) :)\n",
    "\n",
    "*   \n",
    "*\n",
    "*\n",
    "*\n",
    "*\n",
    "*   \n",
    "*\n",
    "*\n",
    "*\n",
    "*"
   ]
  }
 ],
 "metadata": {
  "anaconda-cloud": {},
  "colab": {
   "collapsed_sections": [
    "Q12BjnKoucEq",
    "0eZbIbGwpKXw",
    "j8Z0KEZdxq_f",
    "ysnn747E04q8",
    "g4pzjDKhpBNd",
    "HYcJ2I1-pBNi",
    "KjMLG766JjlZ",
    "1GAlE1x7jIbb",
    "zgdCBYnUoukN",
    "5fIdJHxAoukP",
    "iU8f6mqHjKaH",
    "7AlsA7CEoxU-",
    "N_nwy3G7oxVC",
    "zQeHhkxZCewN",
    "wYxj7IepX7ag",
    "O9PX6gXkYCLZ",
    "ljKpQ-ByWlGJ",
    "nCR9jFCja7He",
    "hgcvUD60uIYR",
    "wHNVWQvFaVvr",
    "S1pOXnbarps3"
   ],
   "name": "Tuto_DPPy.ipynb",
   "provenance": [],
   "version": "0.3.2"
  },
  "kernelspec": {
   "display_name": "Python [default]",
   "language": "python",
   "name": "python3"
  },
  "language_info": {
   "codemirror_mode": {
    "name": "ipython",
    "version": 3
   },
   "file_extension": ".py",
   "mimetype": "text/x-python",
   "name": "python",
   "nbconvert_exporter": "python",
   "pygments_lexer": "ipython3",
   "version": "3.5.2"
  }
 },
 "nbformat": 4,
 "nbformat_minor": 1
}
