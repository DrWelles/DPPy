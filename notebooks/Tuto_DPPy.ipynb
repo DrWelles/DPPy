{
 "cells": [
  {
   "cell_type": "markdown",
   "metadata": {
    "toc": "true"
   },
   "source": [
    "# Table of Contents\n",
    " <p><div class=\"lev1 toc-item\"><a href=\"#I.-Check-installation\" data-toc-modified-id=\"I.-Check-installation-1\"><span class=\"toc-item-num\">1&nbsp;&nbsp;</span>I. Check installation</a></div><div class=\"lev1 toc-item\"><a href=\"#II.-Sample-DPPs-with-DPPy\" data-toc-modified-id=\"II.-Sample-DPPs-with-DPPy-2\"><span class=\"toc-item-num\">2&nbsp;&nbsp;</span>II. Sample DPPs with DPPy</a></div><div class=\"lev2 toc-item\"><a href=\"#1.-$\\beta$-Ensembles\" data-toc-modified-id=\"1.-$\\beta$-Ensembles-21\"><span class=\"toc-item-num\">2.1&nbsp;&nbsp;</span>1. <span class=\"MathJax_Preview\" style=\"color: inherit;\"></span><span class=\"MathJax\" id=\"MathJax-Element-186-Frame\" tabindex=\"0\" data-mathml=\"<math xmlns=&quot;http://www.w3.org/1998/Math/MathML&quot;><mi>&amp;#x03B2;</mi></math>\" role=\"presentation\" style=\"position: relative;\"><nobr aria-hidden=\"true\"><span class=\"math\" id=\"MathJax-Span-2010\" style=\"width: 0.646em; display: inline-block;\"><span style=\"display: inline-block; position: relative; width: 0.532em; height: 0px; font-size: 120%;\"><span style=\"position: absolute; clip: rect(1.517em, 1000.53em, 2.616em, -999.998em); top: -2.309em; left: 0em;\"><span class=\"mrow\" id=\"MathJax-Span-2011\"><span class=\"mi\" id=\"MathJax-Span-2012\" style=\"font-family: STIXMathJax_Normal-italic;\">𝛽<span style=\"display: inline-block; overflow: hidden; height: 1px; width: 0.04em;\"></span></span></span><span style=\"display: inline-block; width: 0px; height: 2.313em;\"></span></span></span><span style=\"display: inline-block; overflow: hidden; vertical-align: -0.27em; border-left: 0px solid; width: 0px; height: 1.093em;\"></span></span></nobr><span class=\"MJX_Assistive_MathML\" role=\"presentation\"><math xmlns=\"http://www.w3.org/1998/Math/MathML\"><mi>β</mi></math></span></span><script type=\"math/tex\" id=\"MathJax-Element-186\">\\beta</script>-Ensembles</a></div><div class=\"lev3 toc-item\"><a href=\"#a.-Circular\" data-toc-modified-id=\"a.-Circular-211\"><span class=\"toc-item-num\">2.1.1&nbsp;&nbsp;</span>a. Circular</a></div><div class=\"lev3 toc-item\"><a href=\"#b.-Hermite-$\\mu-=-\\mathcal{N}$\" data-toc-modified-id=\"b.-Hermite-$\\mu-=-\\mathcal{N}$-212\"><span class=\"toc-item-num\">2.1.2&nbsp;&nbsp;</span>b. Hermite <span class=\"MathJax_Preview\" style=\"color: inherit;\"></span><span class=\"MathJax\" id=\"MathJax-Element-106-Frame\" tabindex=\"0\" data-mathml=\"<math xmlns=&quot;http://www.w3.org/1998/Math/MathML&quot;><mi>&amp;#x03BC;</mi><mo>=</mo><mrow class=&quot;MJX-TeXAtom-ORD&quot;><mi class=&quot;MJX-tex-caligraphic&quot; mathvariant=&quot;script&quot;>N</mi></mrow></math>\" role=\"presentation\" style=\"position: relative;\"><nobr aria-hidden=\"true\"><span class=\"math\" id=\"MathJax-Span-1101\" style=\"width: 3.567em; display: inline-block;\"><span style=\"display: inline-block; position: relative; width: 2.965em; height: 0px; font-size: 120%;\"><span style=\"position: absolute; clip: rect(1.576em, 1002.97em, 2.826em, -999.998em); top: -2.498em; left: 0em;\"><span class=\"mrow\" id=\"MathJax-Span-1102\"><span class=\"mi\" id=\"MathJax-Span-1103\" style=\"font-family: STIXMathJax_Normal-italic;\">𝜇</span><span class=\"mo\" id=\"MathJax-Span-1104\" style=\"font-family: STIXMathJax_Main; padding-left: 0.326em;\">=</span><span class=\"texatom\" id=\"MathJax-Span-1105\" style=\"padding-left: 0.326em;\"><span class=\"mrow\" id=\"MathJax-Span-1106\"><span class=\"mi\" id=\"MathJax-Span-1107\" style=\"font-family: STIXMathJax_Variants-italic;\"><span style=\"display: inline-block; overflow: hidden; height: 1px; width: 0.095em;\"></span></span></span></span></span><span style=\"display: inline-block; width: 0px; height: 2.502em;\"></span></span></span><span style=\"display: inline-block; overflow: hidden; vertical-align: -0.275em; border-left: 0px solid; width: 0px; height: 1.281em;\"></span></span></nobr><span class=\"MJX_Assistive_MathML\" role=\"presentation\"><math xmlns=\"http://www.w3.org/1998/Math/MathML\"><mi>μ</mi><mo>=</mo><mrow class=\"MJX-TeXAtom-ORD\"><mi class=\"MJX-tex-caligraphic\" mathvariant=\"script\">N</mi></mrow></math></span></span><script type=\"math/tex\" id=\"MathJax-Element-106\">\\mu = \\mathcal{N}</script></a></div><div class=\"lev3 toc-item\"><a href=\"#c.-Laguerre-$\\mu-=-\\mathcal{\\Gamma}$\" data-toc-modified-id=\"c.-Laguerre-$\\mu-=-\\mathcal{\\Gamma}$-213\"><span class=\"toc-item-num\">2.1.3&nbsp;&nbsp;</span>c. Laguerre <span class=\"MathJax_Preview\" style=\"color: inherit;\"></span><span class=\"MathJax\" id=\"MathJax-Element-98-Frame\" tabindex=\"0\" data-mathml=\"<math xmlns=&quot;http://www.w3.org/1998/Math/MathML&quot;><mi>&amp;#x03BC;</mi><mo>=</mo><mrow class=&quot;MJX-TeXAtom-ORD&quot;><mi class=&quot;MJX-tex-caligraphic&quot; mathvariant=&quot;script&quot;>&amp;#x0393;</mi></mrow></math>\" role=\"presentation\" style=\"position: relative;\"><nobr aria-hidden=\"true\"><span class=\"math\" id=\"MathJax-Span-1037\" style=\"width: 3.15em; display: inline-block;\"><span style=\"display: inline-block; position: relative; width: 2.595em; height: 0px; font-size: 120%;\"><span style=\"position: absolute; clip: rect(1.715em, 1002.6em, 2.826em, -999.998em); top: -2.498em; left: 0em;\"><span class=\"mrow\" id=\"MathJax-Span-1038\"><span class=\"mi\" id=\"MathJax-Span-1039\" style=\"font-family: STIXMathJax_Normal-italic;\">𝜇</span><span class=\"mo\" id=\"MathJax-Span-1040\" style=\"font-family: STIXMathJax_Main; padding-left: 0.326em;\">=</span><span class=\"texatom\" id=\"MathJax-Span-1041\" style=\"padding-left: 0.326em;\"><span class=\"mrow\" id=\"MathJax-Span-1042\"><span class=\"mi\" id=\"MathJax-Span-1043\" style=\"font-family: STIXMathJax_Main-italic;\">Γ<span style=\"display: inline-block; overflow: hidden; height: 1px; width: 0.049em;\"></span></span></span></span></span><span style=\"display: inline-block; width: 0px; height: 2.502em;\"></span></span></span><span style=\"display: inline-block; overflow: hidden; vertical-align: -0.275em; border-left: 0px solid; width: 0px; height: 1.114em;\"></span></span></nobr><span class=\"MJX_Assistive_MathML\" role=\"presentation\"><math xmlns=\"http://www.w3.org/1998/Math/MathML\"><mi>μ</mi><mo>=</mo><mrow class=\"MJX-TeXAtom-ORD\"><mi class=\"MJX-tex-caligraphic\" mathvariant=\"script\">Γ</mi></mrow></math></span></span><script type=\"math/tex\" id=\"MathJax-Element-98\">\\mu = \\mathcal{\\Gamma}</script></a></div><div class=\"lev3 toc-item\"><a href=\"#d.-Jacobi-$\\mu-=-\\operatorname{Beta}$\" data-toc-modified-id=\"d.-Jacobi-$\\mu-=-\\operatorname{Beta}$-214\"><span class=\"toc-item-num\">2.1.4&nbsp;&nbsp;</span>d. Jacobi <span class=\"MathJax_Preview\" style=\"color: inherit;\"></span><span class=\"MathJax\" id=\"MathJax-Element-99-Frame\" tabindex=\"0\" data-mathml=\"<math xmlns=&quot;http://www.w3.org/1998/Math/MathML&quot;><mi>&amp;#x03BC;</mi><mo>=</mo><mi>Beta</mi></math>\" role=\"presentation\" style=\"position: relative;\"><nobr aria-hidden=\"true\"><span class=\"math\" id=\"MathJax-Span-1044\" style=\"width: 4.539em; display: inline-block;\"><span style=\"display: inline-block; position: relative; width: 3.752em; height: 0px; font-size: 120%;\"><span style=\"position: absolute; clip: rect(1.715em, 1003.75em, 2.826em, -999.998em); top: -2.498em; left: 0em;\"><span class=\"mrow\" id=\"MathJax-Span-1045\"><span class=\"mi\" id=\"MathJax-Span-1046\" style=\"font-family: STIXMathJax_Normal-italic;\">𝜇</span><span class=\"mo\" id=\"MathJax-Span-1047\" style=\"font-family: STIXMathJax_Main; padding-left: 0.326em;\">=</span><span class=\"mi\" id=\"MathJax-Span-1048\" style=\"font-family: STIXMathJax_Main; padding-left: 0.326em;\">Beta</span></span><span style=\"display: inline-block; width: 0px; height: 2.502em;\"></span></span></span><span style=\"display: inline-block; overflow: hidden; vertical-align: -0.275em; border-left: 0px solid; width: 0px; height: 1.114em;\"></span></span></nobr><span class=\"MJX_Assistive_MathML\" role=\"presentation\"><math xmlns=\"http://www.w3.org/1998/Math/MathML\"><mi>μ</mi><mo>=</mo><mi>Beta</mi></math></span></span><script type=\"math/tex\" id=\"MathJax-Element-99\">\\mu = \\operatorname{Beta}</script></a></div><div class=\"lev3 toc-item\"><a href=\"#e.-Ginibre\" data-toc-modified-id=\"e.-Ginibre-215\"><span class=\"toc-item-num\">2.1.5&nbsp;&nbsp;</span>e. Ginibre</a></div><div class=\"lev2 toc-item\"><a href=\"#2.-Finite-DPPs\" data-toc-modified-id=\"2.-Finite-DPPs-22\"><span class=\"toc-item-num\">2.2&nbsp;&nbsp;</span>2. Finite DPPs</a></div><div class=\"lev3 toc-item\"><a href=\"#a.-Instanciation-of-FiniteDPP-object\" data-toc-modified-id=\"a.-Instanciation-of-FiniteDPP-object-221\"><span class=\"toc-item-num\">2.2.1&nbsp;&nbsp;</span>a. Instanciation of <code>FiniteDPP</code> object</a></div><div class=\"lev4 toc-item\"><a href=\"#Inclusion-kernel-$\\mathbf{K}$\" data-toc-modified-id=\"Inclusion-kernel-$\\mathbf{K}$-2211\"><span class=\"toc-item-num\">2.2.1.1&nbsp;&nbsp;</span>Inclusion kernel <span class=\"MathJax_Preview\" style=\"color: inherit;\"></span><span class=\"MathJax\" id=\"MathJax-Element-279-Frame\" tabindex=\"0\" data-mathml=\"<math xmlns=&quot;http://www.w3.org/1998/Math/MathML&quot;><mrow class=&quot;MJX-TeXAtom-ORD&quot;><mi mathvariant=&quot;bold&quot;>K</mi></mrow></math>\" role=\"presentation\" style=\"position: relative;\"><nobr aria-hidden=\"true\"><span class=\"math\" id=\"MathJax-Span-3318\" style=\"width: 0.955em; display: inline-block;\"><span style=\"display: inline-block; position: relative; width: 0.777em; height: 0px; font-size: 120%;\"><span style=\"position: absolute; clip: rect(1.789em, 1000.78em, 2.801em, -999.997em); top: -2.616em; left: 0em;\"><span class=\"mrow\" id=\"MathJax-Span-3319\"><span class=\"texatom\" id=\"MathJax-Span-3320\"><span class=\"mrow\" id=\"MathJax-Span-3321\"><span class=\"mi\" id=\"MathJax-Span-3322\" style=\"font-family: STIXMathJax_Normal-bold;\">𝐊</span></span></span></span><span style=\"display: inline-block; width: 0px; height: 2.622em;\"></span></span></span><span style=\"display: inline-block; overflow: hidden; vertical-align: -0.068em; border-left: 0px solid; width: 0px; height: 0.932em;\"></span></span></nobr><span class=\"MJX_Assistive_MathML\" role=\"presentation\"><math xmlns=\"http://www.w3.org/1998/Math/MathML\"><mrow class=\"MJX-TeXAtom-ORD\"><mi mathvariant=\"bold\">K</mi></mrow></math></span></span><script type=\"math/tex\" id=\"MathJax-Element-279\">\\mathbf{K}</script></a></div><div class=\"lev4 toc-item\"><a href=\"#Marginal-kernel-$\\mathbf{L}$\" data-toc-modified-id=\"Marginal-kernel-$\\mathbf{L}$-2212\"><span class=\"toc-item-num\">2.2.1.2&nbsp;&nbsp;</span>Marginal kernel <span class=\"MathJax_Preview\" style=\"color: inherit;\"><span class=\"MJXp-math\" id=\"MJXp-Span-2830\"><span class=\"MJXp-mrow\" id=\"MJXp-Span-2831\"><span class=\"MJXp-mi MJXp-bold\" id=\"MJXp-Span-2832\">L</span></span></span></span><script type=\"math/tex\" id=\"MathJax-Element-297\">\\mathbf{L}</script></a></div><div class=\"lev4 toc-item\"><a href=\"#Relation-between-$\\mathbf{K}$-and--$\\mathbf{L}$-kernels\" data-toc-modified-id=\"Relation-between-$\\mathbf{K}$-and--$\\mathbf{L}$-kernels-2213\"><span class=\"toc-item-num\">2.2.1.3&nbsp;&nbsp;</span>Relation between <span class=\"MathJax_Preview\" style=\"color: inherit;\"></span><span class=\"MathJax\" id=\"MathJax-Element-287-Frame\" tabindex=\"0\" data-mathml=\"<math xmlns=&quot;http://www.w3.org/1998/Math/MathML&quot;><mrow class=&quot;MJX-TeXAtom-ORD&quot;><mi mathvariant=&quot;bold&quot;>K</mi></mrow></math>\" role=\"presentation\" style=\"position: relative;\"><nobr aria-hidden=\"true\"><span class=\"math\" id=\"MathJax-Span-3418\" style=\"width: 0.955em; display: inline-block;\"><span style=\"display: inline-block; position: relative; width: 0.777em; height: 0px; font-size: 120%;\"><span style=\"position: absolute; clip: rect(1.789em, 1000.78em, 2.801em, -999.997em); top: -2.616em; left: 0em;\"><span class=\"mrow\" id=\"MathJax-Span-3419\"><span class=\"texatom\" id=\"MathJax-Span-3420\"><span class=\"mrow\" id=\"MathJax-Span-3421\"><span class=\"mi\" id=\"MathJax-Span-3422\" style=\"font-family: STIXMathJax_Normal-bold;\">𝐊</span></span></span></span><span style=\"display: inline-block; width: 0px; height: 2.622em;\"></span></span></span><span style=\"display: inline-block; overflow: hidden; vertical-align: -0.068em; border-left: 0px solid; width: 0px; height: 0.932em;\"></span></span></nobr><span class=\"MJX_Assistive_MathML\" role=\"presentation\"><math xmlns=\"http://www.w3.org/1998/Math/MathML\"><mrow class=\"MJX-TeXAtom-ORD\"><mi mathvariant=\"bold\">K</mi></mrow></math></span></span><script type=\"math/tex\" id=\"MathJax-Element-287\">\\mathbf{K}</script> and  <span class=\"MathJax_Preview\" style=\"color: inherit;\"></span><span class=\"MathJax\" id=\"MathJax-Element-288-Frame\" tabindex=\"0\" data-mathml=\"<math xmlns=&quot;http://www.w3.org/1998/Math/MathML&quot;><mrow class=&quot;MJX-TeXAtom-ORD&quot;><mi mathvariant=&quot;bold&quot;>L</mi></mrow></math>\" role=\"presentation\" style=\"position: relative;\"><nobr aria-hidden=\"true\"><span class=\"math\" id=\"MathJax-Span-3423\" style=\"width: 0.836em; display: inline-block;\"><span style=\"display: inline-block; position: relative; width: 0.658em; height: 0px; font-size: 120%;\"><span style=\"position: absolute; clip: rect(1.789em, 1000.66em, 2.801em, -999.997em); top: -2.616em; left: 0em;\"><span class=\"mrow\" id=\"MathJax-Span-3424\"><span class=\"texatom\" id=\"MathJax-Span-3425\"><span class=\"mrow\" id=\"MathJax-Span-3426\"><span class=\"mi\" id=\"MathJax-Span-3427\" style=\"font-family: STIXMathJax_Normal-bold;\">𝐋</span></span></span></span><span style=\"display: inline-block; width: 0px; height: 2.622em;\"></span></span></span><span style=\"display: inline-block; overflow: hidden; vertical-align: -0.068em; border-left: 0px solid; width: 0px; height: 0.932em;\"></span></span></nobr><span class=\"MJX_Assistive_MathML\" role=\"presentation\"><math xmlns=\"http://www.w3.org/1998/Math/MathML\"><mrow class=\"MJX-TeXAtom-ORD\"><mi mathvariant=\"bold\">L</mi></mrow></math></span></span><script type=\"math/tex\" id=\"MathJax-Element-288\">\\mathbf{L}</script> kernels</a></div><div class=\"lev4 toc-item\"><a href=\"#Display-the-underlying-kernel\" data-toc-modified-id=\"Display-the-underlying-kernel-2214\"><span class=\"toc-item-num\">2.2.1.4&nbsp;&nbsp;</span>Display the underlying kernel</a></div><div class=\"lev3 toc-item\"><a href=\"#b.-Exact-sampling\" data-toc-modified-id=\"b.-Exact-sampling-222\"><span class=\"toc-item-num\">2.2.2&nbsp;&nbsp;</span>b. Exact sampling</a></div><div class=\"lev3 toc-item\"><a href=\"#c.-MCMC-sampling\" data-toc-modified-id=\"c.-MCMC-sampling-223\"><span class=\"toc-item-num\">2.2.3&nbsp;&nbsp;</span>c. MCMC sampling</a></div><div class=\"lev2 toc-item\"><a href=\"#3.-k-DPPs\" data-toc-modified-id=\"3.-k-DPPs-23\"><span class=\"toc-item-num\">2.3&nbsp;&nbsp;</span>3. k-DPPs</a></div><div class=\"lev3 toc-item\"><a href=\"#a.-Exact-sampling\" data-toc-modified-id=\"a.-Exact-sampling-231\"><span class=\"toc-item-num\">2.3.1&nbsp;&nbsp;</span>a. Exact sampling</a></div><div class=\"lev3 toc-item\"><a href=\"#b.-MCMC-sampling\" data-toc-modified-id=\"b.-MCMC-sampling-232\"><span class=\"toc-item-num\">2.3.2&nbsp;&nbsp;</span>b. MCMC sampling</a></div><div class=\"lev2 toc-item\"><a href=\"#4.-Exotic-DPPs\" data-toc-modified-id=\"4.-Exotic-DPPs-24\"><span class=\"toc-item-num\">2.4&nbsp;&nbsp;</span>4. Exotic DPPs</a></div><div class=\"lev3 toc-item\"><a href=\"#a.-Uniform-Spanning-Trees\" data-toc-modified-id=\"a.-Uniform-Spanning-Trees-241\"><span class=\"toc-item-num\">2.4.1&nbsp;&nbsp;</span>a. Uniform Spanning Trees</a></div><div class=\"lev3 toc-item\"><a href=\"#b.-Poissonized-Plancherel\" data-toc-modified-id=\"b.-Poissonized-Plancherel-242\"><span class=\"toc-item-num\">2.4.2&nbsp;&nbsp;</span>b. Poissonized Plancherel</a></div><div class=\"lev3 toc-item\"><a href=\"#c.-Carries-Process\" data-toc-modified-id=\"c.-Carries-Process-243\"><span class=\"toc-item-num\">2.4.3&nbsp;&nbsp;</span>c. Carries Process</a></div><div class=\"lev1 toc-item\"><a href=\"#III.-Tools-behind-the-scene\" data-toc-modified-id=\"III.-Tools-behind-the-scene-3\"><span class=\"toc-item-num\">3&nbsp;&nbsp;</span>III. Tools behind the scene</a></div><div class=\"lev1 toc-item\"><a href=\"#IV.---Suggestions/needs?\" data-toc-modified-id=\"IV.---Suggestions/needs?-4\"><span class=\"toc-item-num\">4&nbsp;&nbsp;</span>IV.   Suggestions/needs?</a></div>"
   ]
  },
  {
   "cell_type": "markdown",
   "metadata": {},
   "source": [
    "**If you are using Google Colab' please run the following cell**"
   ]
  },
  {
   "cell_type": "code",
   "execution_count": null,
   "metadata": {
    "colab": {},
    "colab_type": "code",
    "id": "_jrm6FSHvGhI"
   },
   "outputs": [],
   "source": [
    "#!rm -r DPPy\n",
    "#!git clone https://github.com/guilgautier/DPPy.git\n",
    "#!pip install scipy --upgrade\n",
    "#!pip install DPPy/."
   ]
  },
  {
   "cell_type": "markdown",
   "metadata": {
    "colab_type": "text",
    "id": "nFdOcaqj9lSU"
   },
   "source": [
    "**DPPy**\n",
    "  + Acronym: DPPs + Python\n",
    "  + Python Toolbox for (sampling) DPPs\n",
    " \n",
    "**Goal**\n",
    "  + showcase the DPP samplers featured in DPPy\n",
    "  + present tools behind the scene \n",
    "  \n",
    "  [GitHub](https://github.com/guilgautier/DPPy)\n",
    "  \n",
    "  [ReadTheDocs](https://dppy.readthedocs.io) [![Documentation Status](https://readthedocs.org/projects/dppy/badge/?version=latest)](https://dppy.readthedocs.io/en/latest/?badge=latest)\n",
    "  \n",
    "  [Travis](https://travis-ci.com/guilgautier/DPPy) [![Build Status](https://travis-ci.com/guilgautier/DPPy.svg?branch=master)](https://travis-ci.com/guilgautier/DPPy)"
   ]
  },
  {
   "cell_type": "markdown",
   "metadata": {
    "colab_type": "text",
    "id": "E0cVmV86s2js"
   },
   "source": [
    "# I. Check installation\n",
    "---\n",
    "\n",
    "[Instructions](https://github.com/guilgautier/DPPy#installation)\n",
    "\n",
    "**Any issue?**\n",
    "\n",
    "- [Travis](https://travis-ci.com/guilgautier/DPPy) says **no** :-)\n",
    "    [![Build Status](https://travis-ci.com/guilgautier/DPPy.svg?branch=master)](https://travis-ci.com/guilgautier/DPPy)\n",
    "\n",
    "\n"
   ]
  },
  {
   "cell_type": "markdown",
   "metadata": {},
   "source": [
    "💣 **To interact with source code, please uncomment the following cell**"
   ]
  },
  {
   "cell_type": "code",
   "execution_count": null,
   "metadata": {},
   "outputs": [],
   "source": [
    "%load_ext autoreload\n",
    "%autoreload 2\n",
    "\n",
    "import os\n",
    "import sys\n",
    "sys.path.insert(0, os.path.abspath('..'))"
   ]
  },
  {
   "cell_type": "markdown",
   "metadata": {
    "colab_type": "text",
    "id": "DW4H9Mr8yKZx"
   },
   "source": [
    "# II. Sample DPPs with DPPy\n",
    "----\n",
    "\n",
    "**Main DPPy objects' methods**\n",
    "\n",
    "**`.sample()`**\n",
    "**`.plot()`**"
   ]
  },
  {
   "cell_type": "markdown",
   "metadata": {
    "colab_type": "text",
    "id": "Q12BjnKoucEq"
   },
   "source": [
    "## 1. $\\beta$-Ensembles\n",
    "\n",
    "**See [documentation](https://dppy.readthedocs.io/en/latest/continuous_dpps/index.html)**\n",
    "\n",
    "$$\n",
    "(x_1,\\dots,x_N) \n",
    "\t\\sim \n",
    "\t\t\\frac{1}{Z_{N,\\beta}}\n",
    "\t\t\\left|\\Delta(x_1,\\dots,x_N)\\right|^{\\beta}\n",
    "\t\t\\prod_{i= 1}^N \n",
    "\t\t\t\\mu(d x_i)\n",
    "$$\n",
    "\n",
    "- Random matrix models\n",
    "- $\\beta=2$: projection DPPs"
   ]
  },
  {
   "cell_type": "markdown",
   "metadata": {
    "colab_type": "text",
    "id": "0eZbIbGwpKXw"
   },
   "source": [
    "### a. Circular"
   ]
  },
  {
   "cell_type": "code",
   "execution_count": null,
   "metadata": {
    "colab": {},
    "colab_type": "code",
    "id": "8Trgn-bRpBNc"
   },
   "outputs": [],
   "source": [
    "from dppy.beta_ensembles import CircularEnsemble\n",
    "\n",
    "circular = CircularEnsemble(beta=2)  # beta must be >=0 integer, default beta=2"
   ]
  },
  {
   "cell_type": "markdown",
   "metadata": {
    "colab_type": "text",
    "id": "j8Z0KEZdxq_f"
   },
   "source": [
    "**Visualization of the cristallization as $\\beta\\in \\mathbb{N}^*$ increases**"
   ]
  },
  {
   "cell_type": "code",
   "execution_count": null,
   "metadata": {
    "cellView": "form",
    "colab": {},
    "colab_type": "code",
    "id": "NKxoidomyIT5"
   },
   "outputs": [],
   "source": [
    "#@title ##### Use a slider! (on G-Colab only!!)\n",
    "\n",
    "_beta = 2  #@param {type:'slider', min:0, max:100, step:1}\n",
    "_size = 30  #@param {type:'slider', min:0, max:100, step:1}\n",
    "\n",
    "circular.beta = _beta\n",
    "circular.sample_banded_model(size_N=_size)\n",
    "circular.plot()"
   ]
  },
  {
   "cell_type": "markdown",
   "metadata": {
    "colab_type": "text",
    "id": "ysnn747E04q8"
   },
   "source": [
    "**Or simply a loop**"
   ]
  },
  {
   "cell_type": "code",
   "execution_count": null,
   "metadata": {
    "colab": {},
    "colab_type": "code",
    "id": "BXhZcGE-xVtR"
   },
   "outputs": [],
   "source": [
    "for b in (0, 1, 5, 10):\n",
    "    circular.beta = b\n",
    "    circular.sample_banded_model(size_N=30)\n",
    "    circular.plot()"
   ]
  },
  {
   "cell_type": "markdown",
   "metadata": {
    "colab_type": "text",
    "id": "g4pzjDKhpBNd"
   },
   "source": [
    "**Full matrix model, $\\beta \\in \\{0, 1, 2, 4\\}$**"
   ]
  },
  {
   "cell_type": "code",
   "execution_count": null,
   "metadata": {
    "colab": {},
    "colab_type": "code",
    "id": "nOHlvFddpBNe"
   },
   "outputs": [],
   "source": [
    "circular.beta = 2\n",
    "# 1. Plot the eigenvalues, they lie on the unit circle\n",
    "circular.sample_full_model(size_N=30, haar_mode='Hermite')  # Sample # haar_mode = 'Hermite'/'QR'\n",
    "circular.plot() # Plot of the eigenvalues\n",
    "\n",
    "# 2. Histogram of the angle of more points, should look uniform on [0,2pi]\n",
    "circular.sample_full_model(size_N=1000, haar_mode='Hermite')  # Sample\n",
    "circular.hist()"
   ]
  },
  {
   "cell_type": "markdown",
   "metadata": {
    "colab_type": "text",
    "id": "HYcJ2I1-pBNi"
   },
   "source": [
    "**Banded (quindiagonal) matrix model, $\\beta \\in \\mathbb{N}^*$**"
   ]
  },
  {
   "cell_type": "code",
   "execution_count": null,
   "metadata": {
    "colab": {},
    "colab_type": "code",
    "id": "FjFT3cEKpBNi"
   },
   "outputs": [],
   "source": [
    "circular.beta = 8\n",
    "circular.sample_banded_model(size_N=30)\n",
    "circular.plot()\n",
    "\n",
    "circular.sample_banded_model(size_N=1000)\n",
    "circular.hist()"
   ]
  },
  {
   "cell_type": "markdown",
   "metadata": {},
   "source": [
    "##### $\\beta=0$, i.i.d. uniform points on the unit circle"
   ]
  },
  {
   "cell_type": "code",
   "execution_count": null,
   "metadata": {},
   "outputs": [],
   "source": [
    "circular.beta = 0\n",
    "circular.sample_banded_model(size_N=30)\n",
    "circular.plot()"
   ]
  },
  {
   "cell_type": "markdown",
   "metadata": {
    "colab_type": "text",
    "id": "KjMLG766JjlZ"
   },
   "source": [
    "### b. Hermite $\\mu = \\mathcal{N}$"
   ]
  },
  {
   "cell_type": "code",
   "execution_count": null,
   "metadata": {
    "colab": {},
    "colab_type": "code",
    "id": "3C6o1uAhjFgV"
   },
   "outputs": [],
   "source": [
    "from dppy.beta_ensembles import HermiteEnsemble\n",
    "\n",
    "hermite = HermiteEnsemble(beta=4)  # beta can be >=0, default beta=2"
   ]
  },
  {
   "cell_type": "markdown",
   "metadata": {
    "colab_type": "text",
    "id": "BvdJ1cAZl0wU"
   },
   "source": [
    "**Full matrix model, $\\beta \\in \\{0, 1, 2, 4\\}$**"
   ]
  },
  {
   "cell_type": "code",
   "execution_count": null,
   "metadata": {
    "colab": {},
    "colab_type": "code",
    "id": "3C6o1uAhjFgV"
   },
   "outputs": [],
   "source": [
    "hermite.sample_full_model(size_N=500)\n",
    "# hermite.plot(normalization=True)\n",
    "hermite.hist(normalization=True)"
   ]
  },
  {
   "cell_type": "markdown",
   "metadata": {},
   "source": [
    "**To compare with the sampling speed of the tridiagonal model simply use**"
   ]
  },
  {
   "cell_type": "code",
   "execution_count": null,
   "metadata": {
    "colab": {},
    "colab_type": "code",
    "id": "3C6o1uAhjFgV"
   },
   "outputs": [],
   "source": [
    "hermite.sample_banded_model(size_N=500)\n",
    "hermite.hist(normalization=True)"
   ]
  },
  {
   "cell_type": "markdown",
   "metadata": {
    "colab_type": "text",
    "id": "UdVcX5zOl9Dl"
   },
   "source": [
    "**Banded (tridiagonal) matrix model $\\beta \\in \\mathbb{R}_+$**"
   ]
  },
  {
   "cell_type": "code",
   "execution_count": null,
   "metadata": {
    "colab": {},
    "colab_type": "code",
    "id": "xb6Rv_i3l9bt"
   },
   "outputs": [],
   "source": [
    "# beta can be >= 0, default beta=2\n",
    "hermite.beta= 5.43  # Or hermite = HermiteEnsemble(beta=5.43)\n",
    "# Reference measure is N(mu, sigma^2)\n",
    "hermite.sample_banded_model(loc=0.0, scale=1.0, size_N=500)\n",
    "# hermite.plot(normalization=True)\n",
    "hermite.hist(normalization=True)"
   ]
  },
  {
   "cell_type": "markdown",
   "metadata": {},
   "source": [
    "**$\\beta=0$, i.i.d. Gaussian**"
   ]
  },
  {
   "cell_type": "code",
   "execution_count": null,
   "metadata": {},
   "outputs": [],
   "source": [
    "# beta can be >= 0, default beta=2\n",
    "hermite.beta= 0  # Or hermite = HermiteEnsemble(beta=5.43)\n",
    "# Reference measure is N(mu, sigma^2)\n",
    "hermite.sample_banded_model(size_N=1000)\n",
    "# hermite.plot(normalization=True)\n",
    "hermite.hist(normalization=True)  # True: N(0,2) as in full matrix model"
   ]
  },
  {
   "cell_type": "markdown",
   "metadata": {
    "colab_type": "text",
    "id": "1GAlE1x7jIbb"
   },
   "source": [
    "### c. Laguerre $\\mu = \\mathcal{\\Gamma}$"
   ]
  },
  {
   "cell_type": "code",
   "execution_count": null,
   "metadata": {},
   "outputs": [],
   "source": [
    "from dppy.beta_ensembles import LaguerreEnsemble\n",
    "\n",
    "laguerre = LaguerreEnsemble(beta=1)  # beta can be >= 0, default beta=2"
   ]
  },
  {
   "cell_type": "markdown",
   "metadata": {
    "colab_type": "text",
    "id": "zgdCBYnUoukN"
   },
   "source": [
    "**Full matrix model, $\\beta \\in \\{0, 1, 2, 4\\}$**"
   ]
  },
  {
   "cell_type": "code",
   "execution_count": null,
   "metadata": {
    "colab": {},
    "colab_type": "code",
    "id": "oxOEi1y1oxU-"
   },
   "outputs": [],
   "source": [
    "laguerre.sample_full_model(size_N=500, size_M=800)  # M >= N\n",
    "# laguerre.plot(normalization=True)\n",
    "laguerre.hist(normalization=True)"
   ]
  },
  {
   "cell_type": "markdown",
   "metadata": {},
   "source": [
    "**To compare with the sampling speed of the tridiagonal model simply use**"
   ]
  },
  {
   "cell_type": "code",
   "execution_count": null,
   "metadata": {
    "colab": {},
    "colab_type": "code",
    "id": "oxOEi1y1oxU-"
   },
   "outputs": [],
   "source": [
    "laguerre.sample_banded_model(size_N=500, size_M=800)\n",
    "laguerre.hist(normalization=True)"
   ]
  },
  {
   "cell_type": "markdown",
   "metadata": {
    "colab_type": "text",
    "id": "5fIdJHxAoukP"
   },
   "source": [
    "**Banded (tridiagonal) matrix model, $\\beta \\in \\mathbb{R}_+$**"
   ]
  },
  {
   "cell_type": "code",
   "execution_count": null,
   "metadata": {
    "colab": {},
    "colab_type": "code",
    "id": "4H8Zn19xoukQ"
   },
   "outputs": [],
   "source": [
    "laguerre. beta = 2.98  # Or laguerre = LaguerreEnsemble(beta=2.98)\n",
    "# Reference measure is Gamma(k, theta)\n",
    "laguerre.sample_banded_model(shape=600, scale=2.0, size_N=400)\n",
    "# laguerre.plot(normalization=True)\n",
    "laguerre.hist(normalization=True)"
   ]
  },
  {
   "cell_type": "markdown",
   "metadata": {},
   "source": [
    "**$\\beta=0$, i.i.d. $\\Gamma(k,\\theta)$**\n",
    "\n",
    "Error if using `size_M` as in full matrix model since `shape= k = 0`"
   ]
  },
  {
   "cell_type": "code",
   "execution_count": null,
   "metadata": {},
   "outputs": [],
   "source": [
    "laguerre.beta = 0 \n",
    "# Reference measure is Gamma(k, theta)\n",
    "laguerre.sample_banded_model(shape=6, scale=4.0, size_N=1000)\n",
    "# laguerre.plot(normalization=True)\n",
    "laguerre.hist(normalization=True)  # True: Gamma(shape, 2) as in full matrix model"
   ]
  },
  {
   "cell_type": "markdown",
   "metadata": {
    "colab_type": "text",
    "id": "iU8f6mqHjKaH"
   },
   "source": [
    "### d. Jacobi $\\mu = \\operatorname{Beta}$"
   ]
  },
  {
   "cell_type": "code",
   "execution_count": null,
   "metadata": {
    "colab": {},
    "colab_type": "code",
    "id": "zEpR6Tf_oxU8"
   },
   "outputs": [],
   "source": [
    "from dppy.beta_ensembles import JacobiEnsemble\n",
    "\n",
    "jacobi = JacobiEnsemble(beta=2)  # beta can be >= 0, default beta=2"
   ]
  },
  {
   "cell_type": "markdown",
   "metadata": {
    "colab_type": "text",
    "id": "7AlsA7CEoxU-"
   },
   "source": [
    "**Full matrix model,  $\\beta \\in \\{0, 1, 2, 4\\}$**"
   ]
  },
  {
   "cell_type": "code",
   "execution_count": null,
   "metadata": {
    "colab": {},
    "colab_type": "code",
    "id": "zEpR6Tf_oxU8"
   },
   "outputs": [],
   "source": [
    "jacobi.sample_full_model(size_N=400, size_M1=500, size_M2=600)  # M_1, M_2 >= N\n",
    "# jacobi.plot(normalization=True)\n",
    "jacobi.hist(normalization=True)"
   ]
  },
  {
   "cell_type": "markdown",
   "metadata": {},
   "source": [
    "**To compare with the sampling speed of the tridiagonal model simply use**"
   ]
  },
  {
   "cell_type": "code",
   "execution_count": null,
   "metadata": {
    "colab": {},
    "colab_type": "code",
    "id": "zEpR6Tf_oxU8"
   },
   "outputs": [],
   "source": [
    "jacobi.sample_banded_model(size_N=400, size_M1=500, size_M2=600)\n",
    "jacobi.hist(normalization=True)"
   ]
  },
  {
   "cell_type": "markdown",
   "metadata": {
    "colab_type": "text",
    "id": "N_nwy3G7oxVC"
   },
   "source": [
    "**Banded (tridiagonal) matrix model,  $\\beta \\in \\mathbb{R}_+$**"
   ]
  },
  {
   "cell_type": "code",
   "execution_count": null,
   "metadata": {
    "colab": {},
    "colab_type": "code",
    "id": "L4vvZE09oxVD"
   },
   "outputs": [],
   "source": [
    "# beta can be >= 0, default beta=2\n",
    "jacobi.beta = 3.14  # Or jacobi = JacobiEnsemble(beta=3.14) \n",
    "# Reference measure is Beta(a,b)\n",
    "jacobi.sample_banded_model(a=500, b=300, size_N=400)\n",
    "# jacobi.plot(normalization=True)\n",
    "jacobi.hist(normalization=True)"
   ]
  },
  {
   "cell_type": "markdown",
   "metadata": {},
   "source": [
    "**$\\beta=0$, i.i.d. $\\operatorname{Beta}(a,b)$**\n",
    "\n",
    "Error if using `size_M1,2` as in full matrix model since `a,b = 0`"
   ]
  },
  {
   "cell_type": "code",
   "execution_count": null,
   "metadata": {},
   "outputs": [],
   "source": [
    "jacobi.beta = 0 \n",
    "# Reference measure is Beta(a, b)\n",
    "jacobi.sample_banded_model(a=6, b=4, size_N=1000)\n",
    "# jacobi.plot(normalization=True)\n",
    "jacobi.hist(normalization=True)  # True/False: Beta(a, b)"
   ]
  },
  {
   "cell_type": "markdown",
   "metadata": {},
   "source": [
    "### e. Ginibre\n",
    "\n",
    "$\\beta = 2$ only"
   ]
  },
  {
   "cell_type": "code",
   "execution_count": null,
   "metadata": {},
   "outputs": [],
   "source": [
    "from dppy.beta_ensembles import GinibreEnsemble\n",
    "\n",
    "ginibre = GinibreEnsemble()  # beta must be 2 (default)"
   ]
  },
  {
   "cell_type": "code",
   "execution_count": null,
   "metadata": {},
   "outputs": [],
   "source": [
    "ginibre.sample_full_model(size_N=40)\n",
    "ginibre.plot(normalization=True)"
   ]
  },
  {
   "cell_type": "markdown",
   "metadata": {
    "colab_type": "text",
    "id": "zQeHhkxZCewN"
   },
   "source": [
    "## 2. Finite DPPs\n",
    "\n",
    "**See [documentation](https://dppy.readthedocs.io/en/latest/finite_dpps/index.html)**"
   ]
  },
  {
   "cell_type": "code",
   "execution_count": null,
   "metadata": {
    "colab": {},
    "colab_type": "code",
    "id": "aroOJu9vFXOn"
   },
   "outputs": [],
   "source": [
    "from numpy.random import rand, randn\n",
    "from scipy.linalg import qr\n",
    "\n",
    "from dppy.finite_dpps import FiniteDPP"
   ]
  },
  {
   "cell_type": "markdown",
   "metadata": {
    "colab_type": "text",
    "id": "O9PX6gXkYCLZ"
   },
   "source": [
    "### a. Instanciation of `FiniteDPP` object"
   ]
  },
  {
   "cell_type": "markdown",
   "metadata": {
    "colab_type": "text",
    "id": "wYxj7IepX7ag"
   },
   "source": [
    "#### Inclusion kernel $\\mathbf{K}$\n",
    "\n",
    "$\\qquad \\operatorname{DPP}(\\mathbf{K})$, with $\\mathbf{K}\\in\\mathbb{R}^{N\\times N}$\n",
    "\n",
    "$\\qquad \\mathbb{P}[S \\subseteq \\mathcal{X}] = \\det \\mathbf{K}_S$"
   ]
  },
  {
   "cell_type": "code",
   "execution_count": null,
   "metadata": {
    "colab": {},
    "colab_type": "code",
    "id": "yx3ajc1HGxOf"
   },
   "outputs": [],
   "source": [
    "r, N = 10, 10\n",
    "\n",
    "# Random orthogonal vectors\n",
    "eig_vecs, _ = qr(randn(N, r), mode='economic')\n",
    "# Random eigenvalues\n",
    "eig_vals = rand(r)  # 0< <1\n",
    "#eig_vals = np.random.randint(2, size=r) # 0 or 1 i.e. projection"
   ]
  },
  {
   "cell_type": "markdown",
   "metadata": {
    "colab_type": "text",
    "id": "Vvkfom6rY250"
   },
   "source": [
    "- **Using the kernel itself**,\n",
    "\n",
    "$\\qquad 0 \\preceq \\mathbf{K} \\preceq I$"
   ]
  },
  {
   "cell_type": "code",
   "execution_count": null,
   "metadata": {
    "colab": {},
    "colab_type": "code",
    "id": "10VrZaSsYYLd"
   },
   "outputs": [],
   "source": [
    "DPP = FiniteDPP('inclusion',\n",
    "                **{'K': eig_vecs*eig_vals.dot(eig_vecs.T)})"
   ]
  },
  {
   "cell_type": "markdown",
   "metadata": {
    "colab_type": "text",
    "id": "O9PX6gXkYCLZ"
   },
   "source": [
    "- **or its eigendecomposition**, \n",
    "\n",
    "$\\qquad \\mathbf{K} = \\sum_{n=1}^{N} \\lambda_n u_n u_n^{\\top}, \\quad 0 \\leq \\lambda_n \\leq 1$"
   ]
  },
  {
   "cell_type": "code",
   "execution_count": null,
   "metadata": {
    "colab": {},
    "colab_type": "code",
    "id": "3uvzxKLEX2nA"
   },
   "outputs": [],
   "source": [
    "DPP = FiniteDPP('inclusion',\n",
    "                **{'K_eig_dec': (eig_vals, eig_vecs)})"
   ]
  },
  {
   "cell_type": "markdown",
   "metadata": {},
   "source": [
    "#### Marginal kernel $\\mathbf{L}$\n",
    "\n",
    "$\\qquad \\operatorname{DPP}(\\mathbf{L})$, with $\\mathbf{L}\\in\\mathbb{R}^{N\\times N}$ \n",
    "\n",
    "$\\qquad \\mathbb{P}[\\mathcal{X} = S] = \\frac{\\det \\mathbf{L}_S}{\\det I + \\mathbf{L}}$"
   ]
  },
  {
   "cell_type": "markdown",
   "metadata": {
    "colab_type": "text",
    "id": "Vvkfom6rY250"
   },
   "source": [
    "- **Using the kernel itself**,\n",
    "\n",
    "$\\qquad \\mathbf{L}\\succeq 0$"
   ]
  },
  {
   "cell_type": "code",
   "execution_count": null,
   "metadata": {
    "colab": {},
    "colab_type": "code",
    "id": "10VrZaSsYYLd"
   },
   "outputs": [],
   "source": [
    "DPP = FiniteDPP('marginal',\n",
    "                **{'L': eig_vecs*(eig_vals/(1-eig_vals)).dot(eig_vecs.T)})"
   ]
  },
  {
   "cell_type": "markdown",
   "metadata": {
    "colab_type": "text",
    "id": "O9PX6gXkYCLZ"
   },
   "source": [
    "- **using its eigendecomposition**,\n",
    "\n",
    "$\\qquad \\mathbf{L} = \\sum_{n=1}^{N} \\delta_n u_n u_n^{\\top}, \\quad \\delta_n \\geq 0$"
   ]
  },
  {
   "cell_type": "code",
   "execution_count": null,
   "metadata": {
    "colab": {},
    "colab_type": "code",
    "id": "3uvzxKLEX2nA"
   },
   "outputs": [],
   "source": [
    "DPP = FiniteDPP('marginal',\n",
    "                **{'L_eig_dec': (eig_vals/(1-eig_vals), eig_vecs)})"
   ]
  },
  {
   "cell_type": "markdown",
   "metadata": {},
   "source": [
    "- **using feature vectors** $\\Phi \\in \\mathbb{R}^{r\\times N}$,\n",
    "\n",
    "$\\qquad \\mathbf{L}=\\Phi^{\\top} \\Phi$"
   ]
  },
  {
   "cell_type": "code",
   "execution_count": null,
   "metadata": {},
   "outputs": [],
   "source": [
    "DPP = FiniteDPP('marginal',\n",
    "                **{'L_gram_factor': randn(r, N)})"
   ]
  },
  {
   "cell_type": "markdown",
   "metadata": {
    "colab_type": "text",
    "id": "hgcvUD60uIYR"
   },
   "source": [
    "#### Relation between $\\mathbf{K}$ and  $\\mathbf{L}$ kernels\n",
    "- $L=K(I-K)^{-1}$"
   ]
  },
  {
   "cell_type": "code",
   "execution_count": null,
   "metadata": {
    "colab": {},
    "colab_type": "code",
    "id": "faqpPEfofr5q"
   },
   "outputs": [],
   "source": [
    "DPP = FiniteDPP('inclusion', **{'K_eig_dec': (eig_vals, eig_vecs)})\n",
    "print(DPP.L)\n",
    "DPP.compute_L()"
   ]
  },
  {
   "cell_type": "markdown",
   "metadata": {
    "colab_type": "text",
    "id": "jyxwUJOngJYn"
   },
   "source": [
    "- $K=L(I+L)^{-1}$"
   ]
  },
  {
   "cell_type": "code",
   "execution_count": null,
   "metadata": {
    "colab": {},
    "colab_type": "code",
    "id": "xMpISGYGgLYB"
   },
   "outputs": [],
   "source": [
    "eig_vals = 4*rand(r)  # >=0\n",
    "DPP = FiniteDPP('marginal', **{'L_eig_dec': (eig_vals, eig_vecs)})\n",
    "print(DPP.L)\n",
    "DPP.compute_K()"
   ]
  },
  {
   "cell_type": "markdown",
   "metadata": {
    "colab_type": "text",
    "id": "wHNVWQvFaVvr"
   },
   "source": [
    "#### Display the underlying kernel\n"
   ]
  },
  {
   "cell_type": "code",
   "execution_count": null,
   "metadata": {
    "colab": {},
    "colab_type": "code",
    "id": "e5OmsE9Rad5E"
   },
   "outputs": [],
   "source": [
    "eig_vals = rand(r)  # 0< <1\n",
    "DPP = FiniteDPP('inclusion', **{'K_eig_dec': (eig_vals, eig_vecs)})\n",
    "DPP.plot_kernel()"
   ]
  },
  {
   "cell_type": "markdown",
   "metadata": {
    "colab_type": "text",
    "id": "ljKpQ-ByWlGJ"
   },
   "source": [
    "### b. Exact sampling\n",
    "\n",
    "- $\\operatorname{DPP}(\\mathbf{K})$, with $\\mathbf{K}\\in\\mathbb{R}^{N\\times N}$ \n",
    "\n",
    "$$\n",
    "\t\\mathbf{K} = \\sum_{n=1}^{N} \\lambda_n u_n u_n^{\\top}\n",
    "$$\n",
    "\n",
    "1. Draw independent $\\operatorname{\\mathcal{B}er}(\\lambda_n)$ for each eigenvector $u_n$ and store the selected ones in $\\tilde{U}$.\n",
    "2. Sample from the corresponding *projection* $\\operatorname{DPP}(\\tilde{U}\\tilde{U}^{\\top})$."
   ]
  },
  {
   "cell_type": "code",
   "execution_count": null,
   "metadata": {
    "colab": {},
    "colab_type": "code",
    "id": "obYv725EWRRH"
   },
   "outputs": [],
   "source": [
    "# Sample\n",
    "for _ in range(10):\n",
    "    DPP.sample_exact()\n",
    "\n",
    "DPP.list_of_samples"
   ]
  },
  {
   "cell_type": "code",
   "execution_count": null,
   "metadata": {
    "colab": {},
    "colab_type": "code",
    "id": "TGEWkkip5jyd"
   },
   "outputs": [],
   "source": [
    "DPP.flush_samples()\n",
    "DPP.list_of_samples"
   ]
  },
  {
   "cell_type": "markdown",
   "metadata": {
    "colab_type": "text",
    "id": "LHD6RhupmHCx"
   },
   "source": [
    "### c. MCMC sampling\n",
    "\n",
    "At state $S\\subset [N]$, propose $S'$ different from $S$ by at most 2 elements by picking"
   ]
  },
  {
   "cell_type": "markdown",
   "metadata": {
    "colab_type": "text",
    "id": "LHD6RhupmHCx"
   },
   "source": [
    "**Local moves**\n",
    "- $s \\sim \\mathcal{U}_{S},  t \\sim \\mathcal{U}_{[N]\\setminus S}$\n",
    "- $|S'\\Delta S| \\leq 1$"
   ]
  },
  {
   "cell_type": "code",
   "execution_count": null,
   "metadata": {
    "colab": {},
    "colab_type": "code",
    "id": "R1w9z2jnpH5o"
   },
   "outputs": [],
   "source": [
    "r, N = 4, 10\n",
    "Phi = randn(r, N)\n",
    "L = Phi.T.dot(Phi)\n",
    "DPP = FiniteDPP('marginal', **{'L': L})"
   ]
  },
  {
   "cell_type": "markdown",
   "metadata": {
    "colab_type": "text",
    "id": "PtdUjquppLTY"
   },
   "source": [
    "**Exchange**\n",
    "- $S' \\leftrightarrow S \\setminus s \\cup t$"
   ]
  },
  {
   "cell_type": "code",
   "execution_count": null,
   "metadata": {
    "colab": {},
    "colab_type": "code",
    "id": "RseKLyBQneYR"
   },
   "outputs": [],
   "source": [
    "DPP.flush_samples()\n",
    "DPP.sample_mcmc('E')  #AD, AED\n",
    "DPP.list_of_samples"
   ]
  },
  {
   "cell_type": "markdown",
   "metadata": {
    "colab_type": "text",
    "id": "ovPrhOSJpNwc"
   },
   "source": [
    "**Add-Delete**\n",
    "  - Add $S' \\leftrightarrow S \\cup t$\n",
    "  - Delete $S' \\leftrightarrow S \\setminus s$"
   ]
  },
  {
   "cell_type": "code",
   "execution_count": null,
   "metadata": {
    "colab": {},
    "colab_type": "code",
    "id": "eKX3B3-lpTzR"
   },
   "outputs": [],
   "source": [
    "DPP.flush_samples()\n",
    "DPP.sample_mcmc('AD')  #E, AD\n",
    "DPP.list_of_samples"
   ]
  },
  {
   "cell_type": "code",
   "execution_count": null,
   "metadata": {
    "colab": {},
    "colab_type": "code",
    "id": "dya6CDfjqZWF"
   },
   "outputs": [],
   "source": [
    "eig_vecs, _ = qr(randn(N, r), mode='economic')\n",
    "eig_vals = rand(r)\n",
    "\n",
    "DPP = FiniteDPP('inclusion', **{'K_eig_dec': (eig_vals, eig_vecs)})\n",
    "DPP.sample_mcmc('AD')\n",
    "DPP.list_of_samples"
   ]
  },
  {
   "cell_type": "markdown",
   "metadata": {
    "colab_type": "text",
    "id": "uuuyMirtpQ_g"
   },
   "source": [
    "**Add-Exchange-Delete**"
   ]
  },
  {
   "cell_type": "code",
   "execution_count": null,
   "metadata": {
    "colab": {},
    "colab_type": "code",
    "id": "_vg14oDwpUfU"
   },
   "outputs": [],
   "source": [
    "DPP.flush_samples()\n",
    "DPP.sample_mcmc('AED')  #E, AD\n",
    "DPP.list_of_samples"
   ]
  },
  {
   "cell_type": "markdown",
   "metadata": {
    "colab_type": "text",
    "id": "VImPJ3x2o4vN"
   },
   "source": [
    "**Zonotope**"
   ]
  },
  {
   "cell_type": "code",
   "execution_count": null,
   "metadata": {
    "colab": {},
    "colab_type": "code",
    "id": "AubAvnRgpw97"
   },
   "outputs": [],
   "source": [
    "r, N = 4, 10\n",
    "A = randn(r, N)\n",
    "\n",
    "DPP = FiniteDPP('inclusion', projection=True, **{'A_zono': A})\n",
    "\n",
    "DPP.sample_mcmc('zonotope')\n",
    "print(DPP.list_of_samples)"
   ]
  },
  {
   "cell_type": "markdown",
   "metadata": {},
   "source": [
    "## 3. k-DPPs\n",
    "\n",
    "see [documentation](https://dppy.readthedocs.io/en/latest/finite_dpps/definition.html#k-dpps)\n",
    "\n",
    "$\\operatorname{DPP}(\\mathbf{L})$ conditioned to have fixed sample size $k$\n",
    "\n",
    "$\\qquad \\mathbb{P}[\\mathcal{X} = S] \\propto \\det \\mathbf{L}_S ~~ 1_{|S|=k}$"
   ]
  },
  {
   "cell_type": "code",
   "execution_count": null,
   "metadata": {},
   "outputs": [],
   "source": [
    "r, N = 5, 10\n",
    "\n",
    "# Random feature vectors\n",
    "Phi = randn(r, N)\n",
    "DPP = FiniteDPP('marginal', **{'L': Phi.T.dot(Phi)})"
   ]
  },
  {
   "cell_type": "markdown",
   "metadata": {},
   "source": [
    "### a. Exact sampling\n",
    "\n",
    "see [documentation](https://dppy.readthedocs.io/en/latest/finite_dpps/exact_sampling.html#k-dpps)"
   ]
  },
  {
   "cell_type": "code",
   "execution_count": null,
   "metadata": {},
   "outputs": [],
   "source": [
    "k = 3\n",
    "DPP.flush_samples()\n",
    "for _ in range(10):\n",
    "    DPP.sample_exact_k_dpp(size=3)\n",
    "\n",
    "DPP.list_of_samples"
   ]
  },
  {
   "cell_type": "markdown",
   "metadata": {},
   "source": [
    "### b. MCMC sampling\n",
    "\n",
    "To preserve the cardinality of the samples, only exchange moves can be performed"
   ]
  },
  {
   "cell_type": "code",
   "execution_count": null,
   "metadata": {},
   "outputs": [],
   "source": [
    "k = 3\n",
    "DPP.flush_samples()\n",
    "DPP.sample_mcmc_k_dpp(size=k)\n",
    "DPP.list_of_samples"
   ]
  },
  {
   "cell_type": "markdown",
   "metadata": {
    "colab_type": "text",
    "id": "QfaSOUqIZe84"
   },
   "source": [
    "## 4. Exotic DPPs\n",
    "\n",
    "**See [documentation](https://dppy.readthedocs.io/en/latest/exotic_dpps/index.html)**\n",
    "\n",
    "- Uniform spanning trees\n",
    "- Plancherel\n",
    "- Descent Processes"
   ]
  },
  {
   "cell_type": "markdown",
   "metadata": {
    "colab_type": "text",
    "id": "JvZbZ2yFtgZS"
   },
   "source": [
    "### a. Uniform Spanning Trees\n",
    "\n",
    "**Uniform spanning trees of a connected graph**"
   ]
  },
  {
   "cell_type": "code",
   "execution_count": null,
   "metadata": {},
   "outputs": [],
   "source": [
    "import networkx as nx\n",
    "\n",
    "from dppy.exotic_dpps import UST"
   ]
  },
  {
   "cell_type": "code",
   "execution_count": null,
   "metadata": {
    "cellView": "both",
    "colab": {},
    "colab_type": "code",
    "id": "Fz_2vT5PteQb"
   },
   "outputs": [],
   "source": [
    "g = nx.Graph()\n",
    "edges = [(0,2), (0,3), (1,2), (1,4), (2,3), (2,4), (3,4)]\n",
    "g.add_edges_from(edges)\n",
    "\n",
    "ust = UST(g)\n",
    "\n",
    "ust.plot_graph()"
   ]
  },
  {
   "cell_type": "markdown",
   "metadata": {
    "colab_type": "text",
    "id": "7v6l0cYR8Sir"
   },
   "source": [
    "**Display kernel**"
   ]
  },
  {
   "cell_type": "code",
   "execution_count": null,
   "metadata": {
    "colab": {},
    "colab_type": "code",
    "id": "xWSCBX587zh2"
   },
   "outputs": [],
   "source": [
    "ust.compute_kernel()\n",
    "ust.plot_kernel()"
   ]
  },
  {
   "cell_type": "markdown",
   "metadata": {
    "colab_type": "text",
    "id": "UCP_YBDY7_EE"
   },
   "source": [
    "**Sample a UST**"
   ]
  },
  {
   "cell_type": "code",
   "execution_count": null,
   "metadata": {
    "colab": {},
    "colab_type": "code",
    "id": "IAaeF9rZ79vn"
   },
   "outputs": [],
   "source": [
    "for md in ('Aldous-Broder', 'Wilson', 'DPP_exact'):\n",
    "    ust.sample(md)\n",
    "    ust.plot()"
   ]
  },
  {
   "cell_type": "markdown",
   "metadata": {
    "colab_type": "text",
    "id": "eH31R4T8kIDM"
   },
   "source": [
    "### b. Poissonized Plancherel\n",
    "\n",
    "- draw $N \\sim \\mathcal{P}\\text{oiss}(\\theta)$\n",
    "- sample permutation $\\sigma \\in \\mathfrak{S}_N$ uniformly at random\n",
    "- compute the sorting tableau $P$ outputed by $\\operatorname{RSK}(\\sigma)$\n",
    "- consider only the shape $\\lambda = \\operatorname{sh}(P)$ i.e. the corresponding Young diagram"
   ]
  },
  {
   "cell_type": "code",
   "execution_count": null,
   "metadata": {},
   "outputs": [],
   "source": [
    "from dppy.exotic_dpps import PoissonizedPlancherel"
   ]
  },
  {
   "cell_type": "code",
   "execution_count": null,
   "metadata": {
    "colab": {},
    "colab_type": "code",
    "id": "ufSAqkEFkkde",
    "scrolled": false
   },
   "outputs": [],
   "source": [
    "theta = 1500  # Poisson parameter\n",
    "pp_dpp = PoissonizedPlancherel(theta=theta)\n",
    "pp_dpp.sample()\n",
    "pp_dpp.plot_diagram(True)"
   ]
  },
  {
   "cell_type": "markdown",
   "metadata": {
    "colab_type": "text",
    "id": "iv5EwTfmktBJ"
   },
   "source": [
    "### c. Carries Process\n",
    "**Choose base $b$ to sample i.i.d. digits in $\\{0, \\dots, b-1\\}$**"
   ]
  },
  {
   "cell_type": "code",
   "execution_count": null,
   "metadata": {},
   "outputs": [],
   "source": [
    "from dppy.exotic_dpps import CarriesProcess"
   ]
  },
  {
   "cell_type": "code",
   "execution_count": null,
   "metadata": {
    "cellView": "form",
    "colab": {},
    "colab_type": "code",
    "id": "T5LLms-plYR4",
    "scrolled": true
   },
   "outputs": [],
   "source": [
    "#@title ##### Use a slider!\n",
    "\n",
    "_base = 10  #@param {type:'slider', min:0, max:10, step:1}\n",
    "_size = 63  #@param {type:'slider', min:0, max:1000, step:1}\n",
    "\n",
    "cp = CarriesProcess(_base)\n",
    "\n",
    "cp.sample(_size)\n",
    "\n",
    "cp.plot_vs_bernoullis()"
   ]
  },
  {
   "cell_type": "markdown",
   "metadata": {
    "colab_type": "text",
    "id": "vVHCEGLEW_VN"
   },
   "source": [
    "# III. Tools behind the scene\n",
    "\n",
    "---\n",
    "\n",
    "\n",
    " - Host collaborative project [GitHub](https://github.com/guilgautier/DPPy)\n",
    " - Documentation [![Documentation Status](https://readthedocs.org/projects/dppy/badge/?version=latest)](https://dppy.readthedocs.io/en/latest/?badge=latest)\n",
    " - Continuous integration [![Build Status](https://travis-ci.com/guilgautier/DPPy.svg?branch=master)](https://travis-ci.com/guilgautier/DPPy)\n",
    " \n",
    " \n",
    "**Reproducible reasearch**\n",
    "\n",
    " - [DPPy](https://github.com/guilgautier/DPPy)\n",
    " - companion paper [DPPy_paper](https://github.com/guilgautier/DPPy_paper)"
   ]
  },
  {
   "cell_type": "markdown",
   "metadata": {
    "colab_type": "text",
    "id": "S1pOXnbarps3"
   },
   "source": [
    "# IV.   Suggestions/needs?\n",
    "\n",
    "---\n",
    "\n",
    "**[Raise an issue on GitHub](https://github.com/guilgautier/DPPy/issues) :)**"
   ]
  },
  {
   "cell_type": "code",
   "execution_count": null,
   "metadata": {},
   "outputs": [],
   "source": []
  }
 ],
 "metadata": {
  "anaconda-cloud": {},
  "colab": {
   "collapsed_sections": [
    "Q12BjnKoucEq",
    "0eZbIbGwpKXw",
    "j8Z0KEZdxq_f",
    "ysnn747E04q8",
    "g4pzjDKhpBNd",
    "HYcJ2I1-pBNi",
    "KjMLG766JjlZ",
    "1GAlE1x7jIbb",
    "zgdCBYnUoukN",
    "5fIdJHxAoukP",
    "iU8f6mqHjKaH",
    "7AlsA7CEoxU-",
    "N_nwy3G7oxVC",
    "zQeHhkxZCewN",
    "wYxj7IepX7ag",
    "O9PX6gXkYCLZ",
    "ljKpQ-ByWlGJ",
    "nCR9jFCja7He",
    "hgcvUD60uIYR",
    "wHNVWQvFaVvr",
    "S1pOXnbarps3"
   ],
   "name": "Tuto_DPPy.ipynb",
   "provenance": [],
   "version": "0.3.2"
  },
  "kernelspec": {
   "display_name": "Python 3",
   "language": "python",
   "name": "python3"
  },
  "language_info": {
   "codemirror_mode": {
    "name": "ipython",
    "version": 3
   },
   "file_extension": ".py",
   "mimetype": "text/x-python",
   "name": "python",
   "nbconvert_exporter": "python",
   "pygments_lexer": "ipython3",
   "version": "3.7.0"
  },
  "toc": {
   "colors": {
    "hover_highlight": "#DAA520",
    "running_highlight": "#FF0000",
    "selected_highlight": "#FFD700"
   },
   "moveMenuLeft": true,
   "nav_menu": {
    "height": "512px",
    "width": "252px"
   },
   "navigate_menu": true,
   "number_sections": false,
   "sideBar": false,
   "threshold": 4,
   "toc_cell": true,
   "toc_position": {
    "height": "356.438px",
    "left": "687.484px",
    "right": "20px",
    "top": "128px",
    "width": "449.141px"
   },
   "toc_section_display": "block",
   "toc_window_display": false
  }
 },
 "nbformat": 4,
 "nbformat_minor": 1
}
