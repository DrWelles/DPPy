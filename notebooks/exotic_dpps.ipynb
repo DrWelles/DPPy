{
 "cells": [
  {
   "cell_type": "markdown",
   "metadata": {},
   "source": [
    "This notebook showcases the special projection DPP associated to the Uniform measure on Spanning Trees (UST) of a graph.\n",
    "\n",
    "UST can be sampled with specific random walk based procedures such as Aldous-Broder-Broder and Wilson algorithms."
   ]
  },
  {
   "cell_type": "code",
   "execution_count": null,
   "metadata": {},
   "outputs": [],
   "source": [
    "%pylab inline\n",
    "\n",
    "%load_ext autoreload\n",
    "%autoreload 2\n",
    "\n",
    "import os\n",
    "import sys\n",
    "sys.path.insert(0, os.path.abspath('../dppy'))\n",
    "\n",
    "from exotic_dpps import *"
   ]
  },
  {
   "cell_type": "markdown",
   "metadata": {},
   "source": [
    "# Uniform Spanning Trees"
   ]
  },
  {
   "cell_type": "code",
   "execution_count": null,
   "metadata": {},
   "outputs": [],
   "source": [
    "from itertools import combinations\n",
    "from collections import Counter"
   ]
  },
  {
   "cell_type": "markdown",
   "metadata": {},
   "source": [
    "## Initial graph"
   ]
  },
  {
   "cell_type": "code",
   "execution_count": null,
   "metadata": {},
   "outputs": [],
   "source": [
    "# Build graph\n",
    "g = nx.Graph()\n",
    "edges = [(0,2), (0,3), (1,2), (1,4), (2,3), (2,4), (3,4)]\n",
    "g.add_edges_from(edges)\n",
    "\n",
    "# Display the graph\n",
    "ust = UST(g)\n",
    "ust.plot_graph()"
   ]
  },
  {
   "cell_type": "markdown",
   "metadata": {},
   "source": [
    "### Uniform Spanning Tree object\n",
    "parametrized by a `networkx` graph (undirected and connected)."
   ]
  },
  {
   "cell_type": "code",
   "execution_count": null,
   "metadata": {
    "scrolled": true
   },
   "outputs": [],
   "source": [
    "g = nx.Graph()\n",
    "edges = [(0,2), (0,3), (1,2), (1,4), (2,3), (2,4), (3,4)]\n",
    "g.add_edges_from(edges)\n",
    "\n",
    "ust = UST(g)\n",
    "\n",
    "ust.plot_graph()"
   ]
  },
  {
   "cell_type": "code",
   "execution_count": null,
   "metadata": {},
   "outputs": [],
   "source": [
    "ust.compute_kernel()\n",
    "ust.plot_kernel()"
   ]
  },
  {
   "cell_type": "code",
   "execution_count": null,
   "metadata": {},
   "outputs": [],
   "source": [
    "for md in ('Aldous-Broder', 'Wilson', 'DPP_exact'):\n",
    "    ust.sample(md); ust.plot()"
   ]
  },
  {
   "cell_type": "markdown",
   "metadata": {},
   "source": [
    "## Check uniformity of samples from each procedure"
   ]
  },
  {
   "cell_type": "markdown",
   "metadata": {},
   "source": [
    "##### Compute the list of spanning trees of the graph"
   ]
  },
  {
   "cell_type": "code",
   "execution_count": null,
   "metadata": {},
   "outputs": [],
   "source": [
    "potential_st = combinations(np.arange(ust.nb_edges), ust.nb_nodes-1) # Spanning trees have |V|-1 edges\n",
    "potential_st = np.array(list(potential_st))\n",
    "\n",
    "ust.compute_kernel()\n",
    "# minors of transfer current matrix of size |V|-1, if non zeros then corresponding edges form a spanning tree\n",
    "is_st = lambda x: la.det(ust.kernel[np.ix_(x, x)])>1e-8 \n",
    "list_st_by_edge_label = potential_st[list(map(is_st, potential_st))]\n",
    "\n",
    "nb_st = len(list_st_by_edge_label)\n",
    "print('There are {} spanning trees associated to this graph'.format(nb_st))"
   ]
  },
  {
   "cell_type": "markdown",
   "metadata": {},
   "source": [
    "##### Sample from each sampling procedure and count the number of times each spanning tree has been sampled"
   ]
  },
  {
   "cell_type": "code",
   "execution_count": null,
   "metadata": {},
   "outputs": [],
   "source": [
    "nb_iter = 10000\n",
    "modes = ('Aldous-Broder', 'Wilson', 'DPP_exact')\n",
    "\n",
    "# For each algorithm (mode) count the number of occurence of each spanning tree\n",
    "dict_sampled_st = {md:Counter(map(tuple, list_st_by_edge_label)) for md in modes}\n",
    "dict_count_sampled_st = {md:np.zeros(nb_iter) for md in modes}\n",
    "\n",
    "for md in modes:\n",
    "    \n",
    "    ust.flush_samples()\n",
    "    for _ in range(nb_iter): ust.sample(md)\n",
    "\n",
    "    sampled_st_edges = np.array([sampled_st.edges() for sampled_st in ust.list_of_samples])\n",
    "\n",
    "    tmp = sampled_st_edges.reshape((nb_iter*(ust.nb_nodes-1), 2))\n",
    "    tmp_labs = np.zeros(tmp.shape[0], dtype=int)\n",
    "\n",
    "    for ind, ed in enumerate(ust.edges):\n",
    "        tmp_labs[(tmp == ed).all(axis=1)] = ind\n",
    "\n",
    "    tmp_labs = tmp_labs.reshape(nb_iter, (ust.nb_nodes-1))\n",
    "    dict_sampled_st[md].update(map(tuple, tmp_labs))\n",
    "    dict_count_sampled_st[md] = [dict_sampled_st[md][tuple(ed_lab)]-1 for ed_lab in list_st_by_edge_label]"
   ]
  },
  {
   "cell_type": "markdown",
   "metadata": {},
   "source": [
    "##### Display the histogram"
   ]
  },
  {
   "cell_type": "code",
   "execution_count": null,
   "metadata": {},
   "outputs": [],
   "source": [
    "fig = plt.figure(figsize=(16,4))\n",
    "\n",
    "# set width of bar\n",
    "bar_width = 0.25\n",
    "\n",
    "# Set position of bar on X axis\n",
    "pos = np.arange(len(list_st_by_edge_label))\n",
    "# Make the plot\n",
    "for i, md in enumerate(modes):\n",
    "    plt.bar(pos+i*bar_width, dict_count_sampled_st[md], width=bar_width, edgecolor='white', label=md)\n",
    "\n",
    "plt.axhline(y=nb_iter/nb_st)\n",
    "plt.legend(loc='best')\n",
    "plt.title('Check uniformity of spanning trees generated after {} samples of each procedure'.format(nb_iter))\n",
    "#plt.show()\n",
    "\n",
    "#plt.savefig('ust_histo.png')\n",
    "#plt.savefig('ust_histo.eps')"
   ]
  },
  {
   "cell_type": "markdown",
   "metadata": {},
   "source": [
    "# Carries Process"
   ]
  },
  {
   "cell_type": "markdown",
   "metadata": {},
   "source": [
    "##### Choose base $b$ to sample i.i.d. digits in $\\{0, \\dots, b-1\\}$"
   ]
  },
  {
   "cell_type": "code",
   "execution_count": null,
   "metadata": {},
   "outputs": [],
   "source": [
    "base = 10 # base\n",
    "cp = CarriesProcess(base)\n",
    "\n",
    "size = 100\n",
    "cp.sample(size)"
   ]
  },
  {
   "cell_type": "code",
   "execution_count": null,
   "metadata": {},
   "outputs": [],
   "source": [
    "cp.plot()"
   ]
  },
  {
   "cell_type": "code",
   "execution_count": null,
   "metadata": {
    "scrolled": true
   },
   "outputs": [],
   "source": [
    "cp.plot_vs_bernoullis()"
   ]
  },
  {
   "cell_type": "markdown",
   "metadata": {},
   "source": [
    "# Poissonized Plancherel measure"
   ]
  },
  {
   "cell_type": "markdown",
   "metadata": {},
   "source": [
    "##### Choose a $\\theta$ to sample a permutation $\\sigma \\in \\mathfrak{S}_N$ with $N \\sim \\mathcal{P}(\\theta)$"
   ]
  },
  {
   "cell_type": "code",
   "execution_count": null,
   "metadata": {},
   "outputs": [],
   "source": [
    "theta=150 # Poisson parameter\n",
    "pp_dpp = PoissonizedPlancherel(theta=theta)\n",
    "pp_dpp.sample()\n",
    "pp_dpp.plot()"
   ]
  }
 ],
 "metadata": {
  "anaconda-cloud": {},
  "kernelspec": {
   "display_name": "Python [conda root]",
   "language": "python",
   "name": "conda-root-py"
  },
  "language_info": {
   "codemirror_mode": {
    "name": "ipython",
    "version": 3
   },
   "file_extension": ".py",
   "mimetype": "text/x-python",
   "name": "python",
   "nbconvert_exporter": "python",
   "pygments_lexer": "ipython3",
   "version": "3.5.2"
  }
 },
 "nbformat": 4,
 "nbformat_minor": 2
}
