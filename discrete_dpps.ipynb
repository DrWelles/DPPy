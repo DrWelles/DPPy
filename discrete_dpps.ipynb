{
 "cells": [
  {
   "cell_type": "markdown",
   "metadata": {},
   "source": [
    "# Discrete DPPs"
   ]
  },
  {
   "cell_type": "code",
   "execution_count": 1,
   "metadata": {},
   "outputs": [
    {
     "name": "stdout",
     "output_type": "stream",
     "text": [
      "Populating the interactive namespace from numpy and matplotlib\n"
     ]
    }
   ],
   "source": [
    "%pylab inline\n",
    "\n",
    "%load_ext autoreload\n",
    "%autoreload 2\n",
    "\n",
    "from dppy.discrete_dpps import *\n",
    "#from dppy.discrete_k_dpps import *\n",
    "import networkx as nx"
   ]
  },
  {
   "cell_type": "markdown",
   "metadata": {},
   "source": [
    "# Toy example: uniform spanning tree (UST) kernel"
   ]
  },
  {
   "cell_type": "code",
   "execution_count": 2,
   "metadata": {},
   "outputs": [
    {
     "data": {
      "image/png": "[encoded data removed]",
      "text/plain": [
       "<matplotlib.figure.Figure at 0x19242b1ef0>"
      ]
     },
     "metadata": {},
     "output_type": "display_data"
    }
   ],
   "source": [
    "g = nx.Graph()\n",
    "g.add_edges_from([(0,2), (0,3), (1,2), (1,4), (2,3), (2,4), (3,4)])\n",
    "nx.set_node_attributes(g, 'color', 'orange')\n",
    "\n",
    "edge_lab = [r'$e_{}$'.format(i) for i in range(1,g.number_of_edges()+1)]\n",
    "edge_labels = dict(zip(g.edges(), edge_lab))\n",
    "vertex_labels = dict(zip(g.nodes(), [i for i in range(1,g.number_of_nodes()+1)]))\n",
    "\n",
    "fig = plt.figure(figsize=(4,4))\n",
    "\n",
    "nx.draw_circular(g, node_color='orange', width = 3)\n",
    "pos=nx.circular_layout(g)\n",
    "nx.draw_networkx_labels(g,pos,vertex_labels)\n",
    "nx.draw_networkx_edge_labels(g, pos, edge_labels = edge_labels, font_size= 20)\n",
    "\n",
    "Inc_Mat=nx.incidence_matrix(g,oriented=True).toarray()"
   ]
  },
  {
   "cell_type": "markdown",
   "metadata": {},
   "source": [
    "## Initilization of `Discrete_DPP` objects\n",
    "```python\n",
    "Discrete_DPP(kernel_type, projection, **params)\n",
    "```\n",
    "- ```python \n",
    "    kernel_type = \"inclusion\"/\"marginal\"\n",
    "  ```\n",
    "- ```python \n",
    "    projection = True/False\n",
    "  ```\n"
   ]
  },
  {
   "cell_type": "markdown",
   "metadata": {},
   "source": [
    "If you wish to get basic info about the object you can use either\n",
    "```python\n",
    "kernel_type, projection = \"inclusion\"/\"marginal\", True/False\n",
    "params = {...}\n",
    "DPP = Discrete_DPP(kernel_type, projection, **params)\n",
    "print(DPP)\n",
    "DPP.info()\n",
    "```"
   ]
  },
  {
   "cell_type": "markdown",
   "metadata": {},
   "source": [
    "### DPP defined through `kernel_type=\"inclusion\"`\n",
    "$P(S\\subset X) = \\det K_S$\n",
    "\n",
    "with $0\\preceq K\\preceq I$"
   ]
  },
  {
   "cell_type": "code",
   "execution_count": 3,
   "metadata": {},
   "outputs": [],
   "source": [
    "# Projection Kernel onto the rows of the incidence matrix\n",
    "A = Inc_Mat[:-1,:] # A_zono\n",
    "K = A.T.dot(np.linalg.inv(A.dot(A.T))).dot(A) # Projection kernel\n",
    "K_eig_dec = la.eigh(K) #=(eig_vals, eig_vec)"
   ]
  },
  {
   "cell_type": "markdown",
   "metadata": {},
   "source": [
    "#### Parameters\n",
    "- `{\"K\": K}`\n",
    "    - $0\\preceq K \\preceq I$\n",
    "- `{\"K_eig_dec\": (eig_vals, eig_vecs)}`\n",
    "    - $0 \\leq eigvals \\leq 1$\n",
    "- `{\"A_zono\": A}`\n",
    "    - $A (d\\times N)$ with $rank(A)=d$"
   ]
  },
  {
   "cell_type": "markdown",
   "metadata": {},
   "source": [
    "```python\n",
    "kernel_type, projection = \"K\", True/False\n",
    "params = {...}\n",
    "DPP = Discrete_DPP(kernel_type, projection, **params)\n",
    "```"
   ]
  },
  {
   "cell_type": "code",
   "execution_count": 4,
   "metadata": {},
   "outputs": [
    {
     "name": "stdout",
     "output_type": "stream",
     "text": [
      "For projection kernel\n",
      "\n",
      "DPP defined through projection inclusion kernel\n",
      "Parametrized by dict_keys(['K'])\n",
      "- sampling mode = None\n",
      "- number of samples = 0 \n",
      "\n",
      "DPP defined through projection inclusion kernel\n",
      "Parametrized by dict_keys(['K_eig_dec'])\n",
      "- sampling mode = None\n",
      "- number of samples = 0 \n",
      "\n",
      "DPP defined through projection inclusion kernel\n",
      "Parametrized by dict_keys(['A_zono'])\n",
      "- sampling mode = None\n",
      "- number of samples = 0 \n",
      "\n",
      "\n",
      "For non-projection kernel\n",
      "\n",
      "DPP defined through inclusion kernel\n",
      "Parametrized by dict_keys(['K'])\n",
      "- sampling mode = None\n",
      "- number of samples = 0 \n",
      "\n",
      "DPP defined through inclusion kernel\n",
      "Parametrized by dict_keys(['K_eig_dec'])\n",
      "- sampling mode = None\n",
      "- number of samples = 0 \n",
      "\n",
      "DPP defined through inclusion kernel\n",
      "Parametrized by dict_keys(['A_zono'])\n",
      "- sampling mode = None\n",
      "- number of samples = 0 \n",
      "\n",
      "\n"
     ]
    }
   ],
   "source": [
    "kernel_type = \"inclusion\"\n",
    "for proj in [True, False]:\n",
    "    \n",
    "    print(\"For {}projection kernel\\n\".format(\"non-\" if not proj else \"\"))\n",
    "    \n",
    "    for par in [{\"K\": K}, {\"K_eig_dec\": K_eig_dec}, {\"A_zono\": A}]:\n",
    "        \n",
    "        UST = Discrete_DPP(kernel_type, proj, **par)\n",
    "        print(UST,\"\\n\")\n",
    "        \n",
    "    print()"
   ]
  },
  {
   "cell_type": "markdown",
   "metadata": {},
   "source": [
    "###### From any parametrization you can get back to the inclusion kernel $K$\n",
    "\n",
    "```python\n",
    "kernel_type, projection = \"K\", True/False\n",
    "params = {...}\n",
    "DPP = Discrete_DPP(kernel_type, projection, **params)\n",
    "DPP.compute_K()\n",
    "```"
   ]
  },
  {
   "cell_type": "code",
   "execution_count": null,
   "metadata": {},
   "outputs": [],
   "source": [
    "kernel_type = \"inclusion\"\n",
    "\n",
    "for proj in [True, False]:\n",
    "    \n",
    "    print(\"For {}projection kernel\\n\".format(\"non-\" if not proj else \"\"))\n",
    "    \n",
    "    for par in [{\"K\": K}, {\"K_eig_dec\": K_eig_dec}, {\"A_zono\": A}]:\n",
    "        \n",
    "        UST = Discrete_DPP(kernel_type, proj, **par)\n",
    "        UST.compute_K()\n",
    "        print()\n",
    "        \n",
    "    print()"
   ]
  },
  {
   "cell_type": "markdown",
   "metadata": {},
   "source": [
    "###### But if you try to compute the $L$ kernel with a $K$ that is a projection you must encounter an error.\n",
    "```python\n",
    "kernel_type, projection = \"K\", True\n",
    "params = {...}\n",
    "DPP = Discrete_DPP(kernel_type, projection, **params)\n",
    "DPP.compute_L()\n",
    "!!!!ERROR!!!!\n",
    "```\n",
    "\n",
    "Since $K$ is projection it has some eigenvalues close to 1, so\n",
    "$L=K(I-K)^{-1}$ cannot be computed"
   ]
  },
  {
   "cell_type": "code",
   "execution_count": null,
   "metadata": {},
   "outputs": [],
   "source": [
    "kernel_type, projection = \"inclusion\", False# True/False\n",
    "params = {\"K\": K}\n",
    "UST = Discrete_DPP(kernel_type, projection, **params)\n",
    "UST.compute_L()"
   ]
  },
  {
   "cell_type": "code",
   "execution_count": null,
   "metadata": {},
   "outputs": [],
   "source": [
    "kernel_type, projection = \"inclusion\", False# True/False\n",
    "params = {\"K_eig_dec\": K_eig_dec}\n",
    "UST = Discrete_DPP(kernel_type, projection, **params)\n",
    "UST.compute_L()"
   ]
  },
  {
   "cell_type": "code",
   "execution_count": null,
   "metadata": {},
   "outputs": [],
   "source": [
    "kernel_type, projection = \"inclusion\", False# True/False\n",
    "params = {\"A_zono\": A}\n",
    "UST = Discrete_DPP(kernel_type, projection, **params)\n",
    "UST.compute_L()"
   ]
  },
  {
   "cell_type": "markdown",
   "metadata": {},
   "source": [
    "### DPP defined through `kernel_type=\"marginal\"`\n",
    "$L\\succeq 0$\n",
    "\n",
    "$P(X=S) \\propto \\det L_S = \\dfrac{\\det L_S}{\\det(I+L)}$"
   ]
  },
  {
   "cell_type": "markdown",
   "metadata": {},
   "source": [
    "#### Parameters\n",
    "- `{\"L\": L}`\n",
    "\n",
    "    - $L\\succeq 0$\n",
    "\n",
    "- `{\"L_eig_dec\": (eig_vals, eig_vecs)}`\n",
    "\n",
    "    - $eigvals \\geq 0$\n",
    "\n",
    "- `{\"L_gram_factor\": Phi}`\n",
    "\n",
    "    - $L = \\Phi^{\\top} \\Phi$\n",
    "\n",
    "    - $L' = \\Phi\\Phi^{\\top}$\n",
    "    \n",
    "    \n",
    "```python\n",
    "kernel_type, projection = \"L\", True/False\n",
    "params = {...}\n",
    "DPP = Discrete_DPP(kernel_type, projection, **params)\n",
    "```"
   ]
  },
  {
   "cell_type": "code",
   "execution_count": null,
   "metadata": {},
   "outputs": [],
   "source": [
    "kernel_type = \"marginal\"\n",
    "for proj in [True, False]:\n",
    "    \n",
    "    print(\"For {}projection kernel\\n\".format(\"non-\" if not proj else \"\"))\n",
    "    \n",
    "    for par in [{\"L\": K}, {\"L_eig_dec\": K_eig_dec}, {\"L_gram_factor\": A}]:\n",
    "        \n",
    "        UST = Discrete_DPP(kernel_type, proj, **par)\n",
    "        print(UST,\"\\n\")\n",
    "        \n",
    "    print()"
   ]
  },
  {
   "cell_type": "markdown",
   "metadata": {},
   "source": [
    "###### From any parametrization you can get back to the marginal kernel $L$"
   ]
  },
  {
   "cell_type": "markdown",
   "metadata": {},
   "source": [
    "```python\n",
    "kernel_type, projection = \"marginal\", True/False\n",
    "params = {...}\n",
    "DPP = Discrete_DPP(kernel_type, projection, **params)\n",
    "DPP.compute_L()\n",
    "```"
   ]
  },
  {
   "cell_type": "code",
   "execution_count": null,
   "metadata": {},
   "outputs": [],
   "source": [
    "kernel_type = \"marginal\"\n",
    "for proj in [True, False]:\n",
    "    \n",
    "    print(\"For {}projection kernel\\n\".format(\"non-\" if not proj else \"\"))\n",
    "    \n",
    "    for par in [{\"L\": K}, {\"L_eig_dec\": K_eig_dec}, {\"L_gram_factor\": A}]:\n",
    "        \n",
    "        UST = Discrete_DPP(kernel_type, proj, **par)\n",
    "        UST.compute_L()\n",
    "        print()\n",
    "    \n",
    "    print()"
   ]
  },
  {
   "cell_type": "markdown",
   "metadata": {},
   "source": [
    "###### And you should always be able to compute the inclusion kernel $K$\n",
    "$K=L(I+L)^{-1}$\n",
    "\n",
    "```python\n",
    "kernel_type, projection = \"marginal\", True/False\n",
    "params = {...}\n",
    "DPP = Discrete_DPP(kernel_type, projection, **params)\n",
    "DPP.compute_K()\n",
    "```"
   ]
  },
  {
   "cell_type": "code",
   "execution_count": null,
   "metadata": {},
   "outputs": [],
   "source": [
    "kernel_type = \"marginal\"\n",
    "for proj in [True, False]:\n",
    "    \n",
    "    print(\"For {}projection kernel\\n\".format(\"non-\" if not proj else \"\"))\n",
    "    \n",
    "    for par in [{\"L\": K}, {\"L_eig_dec\": K_eig_dec}, {\"L_gram_factor\": A}]:\n",
    "        \n",
    "        UST = Discrete_DPP(kernel_type, proj, **par)\n",
    "        UST.compute_K()\n",
    "        print()\n",
    "    \n",
    "    print()"
   ]
  },
  {
   "cell_type": "markdown",
   "metadata": {},
   "source": [
    "## Sampling\n",
    "Samples are saved in the list_of_samples attribute\n",
    "```python\n",
    "DPP.list_of_samples\n",
    "```\n",
    "You can flush previous samples using\n",
    "```python\n",
    "DPP.flush_samples()\n",
    "```"
   ]
  },
  {
   "cell_type": "markdown",
   "metadata": {},
   "source": [
    "### Exact sampling\n",
    "- `sampling_mode=\"GS\"` (default)\n",
    "    - Gram-Schmidt\n",
    "- `sampling_mode=\"GS_bis\"`\n",
    "    - Slight modif of \"GS\"\n",
    "- `sampling_mode=\"KuTa12`\n",
    "    - Kulesza algo\n",
    "\n",
    "```python\n",
    "kernel_type, projection = \"inclusion\"/\"marginal\", True/False\n",
    "params = {...}\n",
    "DPP = Discrete_DPP(kernel_type, projection, **params)\n",
    "DPP.sample_exact(sampling_mode)\n",
    "```"
   ]
  },
  {
   "cell_type": "markdown",
   "metadata": {},
   "source": [
    "##### $K$ (inclusion) kernel"
   ]
  },
  {
   "cell_type": "code",
   "execution_count": null,
   "metadata": {
    "scrolled": false
   },
   "outputs": [],
   "source": [
    "kernel_type, projection = \"inclusion\", False# True/False\n",
    "for par in [{\"K\": K}, {\"K_eig_dec\": K_eig_dec}, {\"A_zono\": A}]:\n",
    "    \n",
    "    print(par.keys())\n",
    "    \n",
    "    for samp_mod in [\"GS\", \"GS_bis\", \"KuTa12\"]: \n",
    "        \n",
    "        print(samp_mod)\n",
    "        UST = Discrete_DPP(kernel_type, projection, **par)\n",
    "        UST.sample_exact(sampling_mode=samp_mod)\n",
    "        print(UST.list_of_samples)\n",
    "\n",
    "    print()"
   ]
  },
  {
   "cell_type": "markdown",
   "metadata": {},
   "source": [
    "##### $L$  (marginal) kernel"
   ]
  },
  {
   "cell_type": "code",
   "execution_count": null,
   "metadata": {},
   "outputs": [],
   "source": [
    "kernel_type, projection = \"marginal\", True# True/False\n",
    "for par in [{\"L\": K}, {\"L_eig_dec\": K_eig_dec}, {\"L_gram_factor\": A}]:\n",
    "    \n",
    "    print(par.keys())\n",
    "    \n",
    "    for samp_mod in [\"GS\", \"GS_bis\", \"KuTa12\"]: \n",
    "        \n",
    "        print(samp_mod)\n",
    "        UST = Discrete_DPP(kernel_type, projection, **par)\n",
    "        UST.sample_exact(sampling_mode=samp_mod)\n",
    "        print(UST.list_of_samples)\n",
    "\n",
    "    print()"
   ]
  },
  {
   "cell_type": "markdown",
   "metadata": {},
   "source": [
    "### MCMC sampling\n",
    "```python\n",
    "sampling_mode=\n",
    "```\n",
    "- `\"AED\"` Add-Exchange-Delete\n",
    "- `\"AD\"` Add-Delete\n",
    "- `\"E\"` Exchange\n",
    "- `\"zonotope\"` Zonotope sampling\n",
    "    \n",
    "```python\n",
    "!!!NOTE!!!\n",
    "```\n",
    "- `\"AED\"` and `\"AD\"` require the availability of $L$ kernel\n",
    "- For projection $K$ (inclusion) kernel you can only use\n",
    "    - `\"E\"`\n",
    "    - `\"zonotope\"`` if \"A_zono\" provided\n",
    "\n",
    "\n",
    "```python\n",
    "sampl_params={}\n",
    "```\n",
    "- `\"s_init\"` (default None) Starting state of the Markov chain\n",
    "- `\"nb_iter_max\"` (default 10) Number of iterations of the chain\n",
    "- `\"T_max\"` (default None) Time horizon\n",
    "- `\"size\"` (default None) Size of the initial sample for `sampling_mode=\"AD\"/\"E\"`\n",
    "    - $=Tr(K)$ for projection $K$ (inclusion) kernel and `sampling_mode=\"E\"`\n",
    "\n",
    "```python\n",
    "kernel_type, projection = \"inclusion\"/\"marginal\", True/False\n",
    "params = {...}\n",
    "DPP = Discrete_DPP(kernel_type, projection, **params)\n",
    "sampl_params = {\"s_init\": None, \"nb_iter_max\": 10, \"T_max\":, size}\n",
    "DPP.sample_exact(sampling_mode, **sampl_params)\n",
    "```"
   ]
  },
  {
   "cell_type": "markdown",
   "metadata": {},
   "source": [
    "##### For projection $K$ (inclusion) kernel"
   ]
  },
  {
   "cell_type": "code",
   "execution_count": null,
   "metadata": {},
   "outputs": [],
   "source": [
    "kernel_type, projection = \"inclusion\", True\n",
    "for par in [{\"K\": K}, {\"K_eig_dec\": K_eig_dec}, {\"A_zono\": A}]:\n",
    "    \n",
    "    print(par.keys())\n",
    "    \n",
    "    for samp_mod in [\"E\", \"zonotope\"] if \"A_zono\" in par.keys() else [\"E\"]: \n",
    "        \n",
    "        print(samp_mod)\n",
    "        UST = Discrete_DPP(kernel_type, projection, **par)\n",
    "        UST.sample_mcmc(sampling_mode=samp_mod) # default 10 MC steps\n",
    "        print(UST.list_of_samples)\n",
    "        print()\n",
    "\n",
    "    print()"
   ]
  },
  {
   "cell_type": "markdown",
   "metadata": {},
   "source": [
    "##### For NON projection $K$ (inclusion) kernel"
   ]
  },
  {
   "cell_type": "code",
   "execution_count": null,
   "metadata": {},
   "outputs": [],
   "source": [
    "kernel_type, projection = \"inclusion\", False\n",
    "\n",
    "K_np = A.T.dot(A)/5 #/5 (checked by hand) to make sure eigenvalue are in [0,1]\n",
    "K_np_eig_dec = la.eigh(K_np)\n",
    "\n",
    "for par in [{\"K\": K_np}, {\"K_eig_dec\": K_np_eig_dec}]:\n",
    "    \n",
    "    print(par.keys())\n",
    "    \n",
    "    for samp_mod in [\"AED\", \"AD\", \"E\"]: \n",
    "        \n",
    "        print(samp_mod)\n",
    "        UST = Discrete_DPP(kernel_type, projection, **par)\n",
    "        UST.sample_mcmc(sampling_mode=samp_mod) # default 10 MC steps\n",
    "        print(UST.list_of_samples)\n",
    "        print()\n",
    "\n",
    "    print()"
   ]
  },
  {
   "cell_type": "markdown",
   "metadata": {},
   "source": [
    "For $L$ (marginal) kernel"
   ]
  },
  {
   "cell_type": "code",
   "execution_count": null,
   "metadata": {},
   "outputs": [],
   "source": [
    "kernel_type, projection = \"marginal\", False# True/False\n",
    "for par in [{\"L\": A.T.dot(A)}, {\"L_eig_dec\": K_eig_dec}, {\"L_gram_factor\": A}]:\n",
    "    \n",
    "    print(par.keys())\n",
    "    \n",
    "    for samp_mod in [\"AED\", \"AD\", \"E\"]: \n",
    "        \n",
    "        print(samp_mod)\n",
    "        UST = Discrete_DPP(kernel_type, projection, **par)\n",
    "        UST.sample_mcmc(sampling_mode=samp_mod) # default 10 MC steps\n",
    "        print(UST.list_of_samples)\n",
    "        print()\n",
    "\n",
    "    print()"
   ]
  },
  {
   "cell_type": "markdown",
   "metadata": {},
   "source": [
    "## Plotting\n",
    "```python\n",
    "kernel_type, projection = \"inclusion\"/\"marginal\", True/False\n",
    "params = {...}\n",
    "DPP = Discrete_DPP(kernel_type, projection, **params)\n",
    "DPP.plot()\n",
    "```"
   ]
  },
  {
   "cell_type": "code",
   "execution_count": null,
   "metadata": {},
   "outputs": [],
   "source": [
    "K_ens_par = [{\"K\": K}, {\"K_eig_dec\": K_eig_dec}, {\"A_zono\": A}]\n",
    "L_ens_par = [{\"L\": K}, {\"L_eig_dec\": K_eig_dec}, {\"L_gram_factor\": A}]\n",
    "\n",
    "for ker_typ in [\"inclusion\", \"marginal\"]:\n",
    "    \n",
    "    print(\"For {} kernel\\n\".format(ker_typ))\n",
    "    if ker_typ == \"inclusion\":\n",
    "        params = K_ens_par\n",
    "    elif ker_typ == \"marginal\":\n",
    "        params = L_ens_par\n",
    "    \n",
    "    for proj in [True, False]:\n",
    "\n",
    "        print(\"For {}projection kernel\\n\".format(\"non-\" if not proj else \"\"))\n",
    "\n",
    "        for par in params:\n",
    "            print(par.keys())\n",
    "            UST = Discrete_DPP(ker_typ, proj, **par)\n",
    "            UST.plot()\n",
    "            print()\n",
    "\n",
    "        print()\n",
    "        \n",
    "    print()"
   ]
  },
  {
   "cell_type": "code",
   "execution_count": null,
   "metadata": {},
   "outputs": [],
   "source": []
  }
 ],
 "metadata": {
  "anaconda-cloud": {},
  "kernelspec": {
   "display_name": "Python 3",
   "language": "python",
   "name": "python3"
  },
  "language_info": {
   "codemirror_mode": {
    "name": "ipython",
    "version": 3
   },
   "file_extension": ".py",
   "mimetype": "text/x-python",
   "name": "python",
   "nbconvert_exporter": "python",
   "pygments_lexer": "ipython3",
   "version": "3.5.4"
  }
 },
 "nbformat": 4,
 "nbformat_minor": 2
}
